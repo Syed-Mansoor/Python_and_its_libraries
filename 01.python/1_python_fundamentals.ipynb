{
 "cells": [
  {
   "cell_type": "markdown",
   "id": "076913db-77e9-43e7-9dbb-fade91bcda6c",
   "metadata": {},
   "source": [
    "# 1. python output\n",
    "## python is a case sensitive language"
   ]
  },
  {
   "cell_type": "code",
   "execution_count": 3,
   "id": "cac93160-8d24-4c5c-9e4d-9d70bc7f2482",
   "metadata": {},
   "outputs": [
    {
     "name": "stdout",
     "output_type": "stream",
     "text": [
      "hello world\n"
     ]
    }
   ],
   "source": [
    "print('hello world')"
   ]
  },
  {
   "cell_type": "code",
   "execution_count": 4,
   "id": "e9778d7a-1484-407d-acd6-d75915756c2f",
   "metadata": {},
   "outputs": [
    {
     "name": "stdout",
     "output_type": "stream",
     "text": [
      "my name is syed mansoor\n"
     ]
    }
   ],
   "source": [
    "print(\"my name is syed mansoor\")"
   ]
  },
  {
   "cell_type": "code",
   "execution_count": 5,
   "id": "2c540d3f-c734-4b7d-bfbf-4546f1d8df51",
   "metadata": {},
   "outputs": [
    {
     "name": "stdout",
     "output_type": "stream",
     "text": [
      "hello 1 True 4.3\n"
     ]
    }
   ],
   "source": [
    "print('hello',1,True,4.3)"
   ]
  },
  {
   "cell_type": "code",
   "execution_count": 6,
   "id": "84cf77ed-e336-43a1-81b5-fac5f6f14d29",
   "metadata": {},
   "outputs": [
    {
     "name": "stdout",
     "output_type": "stream",
     "text": [
      "hello\n",
      "1\n",
      "True\n",
      "4.3\n"
     ]
    }
   ],
   "source": [
    "print('hello',1,True,4.3,sep='\\n')"
   ]
  },
  {
   "cell_type": "markdown",
   "id": "5bdabcc9-0ce0-4c37-ad54-7c10a8d8ed2c",
   "metadata": {},
   "source": [
    "# 2. Data types"
   ]
  },
  {
   "cell_type": "code",
   "execution_count": 11,
   "id": "6071fa1d-2637-4bc1-a9e3-28d1966e59da",
   "metadata": {},
   "outputs": [
    {
     "name": "stdout",
     "output_type": "stream",
     "text": [
      "5 <class 'int'>\n",
      "5.5 <class 'float'>\n",
      "syed <class 'str'>\n",
      "True <class 'bool'>\n",
      "False <class 'bool'>\n",
      "(5+6j) <class 'complex'>\n",
      "[1, 2, 3] <class 'list'>\n",
      "{1, 2, 3} <class 'set'>\n",
      "(1, 2, 3) <class 'tuple'>\n",
      "{'name': 'syed mansoor', 'gender': 'male', 'age': 23} <class 'dict'>\n"
     ]
    }
   ],
   "source": [
    "# int\n",
    "# flaot\n",
    "# str\n",
    "# bool\n",
    "a = 5\n",
    "print(a,type(a))\n",
    "a = 5.5\n",
    "print(a,type(a))\n",
    "a = 'syed'\n",
    "print(a,type(a))\n",
    "a = True\n",
    "print(a,type(a))\n",
    "a =  False\n",
    "print(a,type(a))\n",
    "a = 5+6j\n",
    "print(a,type(a))\n",
    "a = [1,2,3]\n",
    "print(a,type(a))\n",
    "a = {1,2,3}\n",
    "print(a,type(a))\n",
    "a =(1,2,3)\n",
    "print(a,type(a))\n",
    "a = {'name':'syed mansoor','gender':'male','age':23}\n",
    "print(a,type(a))"
   ]
  },
  {
   "cell_type": "markdown",
   "id": "29e28eef-2df0-44a2-9033-ae48a6b11f5b",
   "metadata": {},
   "source": [
    "# 3. Variables"
   ]
  },
  {
   "cell_type": "code",
   "execution_count": 15,
   "id": "0b640c86-74c1-48ae-b0a7-49133d0e5d33",
   "metadata": {},
   "outputs": [
    {
     "name": "stdin",
     "output_type": "stream",
     "text": [
      "enter your name =  syed mansoor\n"
     ]
    },
    {
     "name": "stdout",
     "output_type": "stream",
     "text": [
      "syed mansoor <class 'str'>\n"
     ]
    }
   ],
   "source": [
    "# static vs dynamic typing\n",
    "# static vs dynamic binding\n",
    "# stylish decleration techniques\n",
    "name :str  = input('enter your name = ')\n",
    "print(name,type(name))"
   ]
  },
  {
   "cell_type": "markdown",
   "id": "376f3695-ffd2-4094-a671-43c4e8a78159",
   "metadata": {},
   "source": [
    "# dynamic typing\n",
    "# python is intelligent enough to understand what kind of value will be a variabel is holding"
   ]
  },
  {
   "cell_type": "code",
   "execution_count": 16,
   "id": "acfba94f-a9bc-4028-856f-6676a3c56aed",
   "metadata": {},
   "outputs": [
    {
     "name": "stdout",
     "output_type": "stream",
     "text": [
      "5 <class 'int'>\n",
      "syed <class 'str'>\n"
     ]
    }
   ],
   "source": [
    "# dynamic binding\n",
    "a = 5\n",
    "print(a,type(a))\n",
    "a = 'syed'\n",
    "print(a,type(a))"
   ]
  },
  {
   "cell_type": "markdown",
   "id": "9c378839-1aa8-4c25-a78b-1c0a84529588",
   "metadata": {},
   "source": [
    "# 4.Keywords and identifiers"
   ]
  },
  {
   "cell_type": "code",
   "execution_count": null,
   "id": "cdbccabe-dee2-4902-993c-f7f5a814d008",
   "metadata": {},
   "outputs": [],
   "source": [
    "# keywords\n",
    "# in python there are 32 reserved keywords"
   ]
  },
  {
   "cell_type": "code",
   "execution_count": 18,
   "id": "74459eb9-464e-49e3-8058-c5e3d1d4b1c5",
   "metadata": {},
   "outputs": [],
   "source": [
    "# identifiers\n",
    "\n",
    "\n",
    "# when you create a variable that is an identifier\n",
    "# rules\n",
    "# you can't start with a digit\n",
    "# you can use special chars _\n",
    "#  identifiers cannot be keywords"
   ]
  },
  {
   "cell_type": "markdown",
   "id": "339f481e-b93f-4b1c-9aae-82ed7d3ecd41",
   "metadata": {},
   "source": [
    "# python program to add two numbers "
   ]
  },
  {
   "cell_type": "code",
   "execution_count": 20,
   "id": "eb961b48-08db-4d46-9f77-efaea1a03eb8",
   "metadata": {},
   "outputs": [
    {
     "name": "stdin",
     "output_type": "stream",
     "text": [
      "Enter a number =  6\n",
      "Enter second number =  5\n"
     ]
    },
    {
     "name": "stdout",
     "output_type": "stream",
     "text": [
      "Addition of 6,5 = 11\n"
     ]
    }
   ],
   "source": [
    "num1 = int(input('Enter a number = '))\n",
    "num2 = int(input(\"Enter second number = \"))\n",
    "result = num1 + num2\n",
    "print(f'Addition of {num1}{num2} = {result}')"
   ]
  },
  {
   "cell_type": "code",
   "execution_count": 34,
   "id": "3d9f7f7c-986d-4fdb-b7b6-4f725d8b476f",
   "metadata": {},
   "outputs": [
    {
     "name": "stdout",
     "output_type": "stream",
     "text": [
      "10.5\n"
     ]
    },
    {
     "name": "stdin",
     "output_type": "stream",
     "text": [
      "Enter a first number =  6\n",
      "enter a second number = 5\n"
     ]
    },
    {
     "name": "stdout",
     "output_type": "stream",
     "text": [
      "result = 11\n",
      "<class 'str'> <class 'str'>\n"
     ]
    }
   ],
   "source": [
    "# implecit and explicit type casting\n",
    "a = 5\n",
    "b = 5.5\n",
    "print(a + b) # implicit \n",
    "# explicit\n",
    "fnum = input(\"Enter a first number = \")\n",
    "snum = input('enter a second number =')\n",
    "result = int(fnum) + int(snum)\n",
    "print(f'{result = }')\n",
    "print(type(fnum),type(snum)) # explicit does not make permanent changes in the original datatype it makes temporary changes"
   ]
  },
  {
   "cell_type": "markdown",
   "id": "c61f58b7-dc7b-489c-bb24-a57832e771ce",
   "metadata": {},
   "source": [
    "# literals"
   ]
  },
  {
   "cell_type": "code",
   "execution_count": 36,
   "id": "57e14dd9-1137-46b5-8196-56c09013558b",
   "metadata": {},
   "outputs": [
    {
     "name": "stdout",
     "output_type": "stream",
     "text": [
      "10 <class 'int'>\n",
      "100 <class 'int'>\n",
      "200 <class 'int'>\n",
      "300 <class 'int'>\n"
     ]
    }
   ],
   "source": [
    "a = 0b1010 # binary literals\n",
    "b = 100 # decimal literal\n",
    "c = 0o310 # octal literal\n",
    "d = 0x12c # hexadecimal literal\n",
    "print(a,type(a))\n",
    "print(b,type(b))\n",
    "print(c,type(c))\n",
    "print(d,type(d))"
   ]
  },
  {
   "cell_type": "code",
   "execution_count": 37,
   "id": "0a54d6e4-320b-4495-a2ce-632d8d3b2eb2",
   "metadata": {},
   "outputs": [
    {
     "name": "stdout",
     "output_type": "stream",
     "text": [
      "this is python\n",
      "this is python\n",
      "c\n",
      "this iUs a multiline string with more than one line code\n",
      "😀😆🤣\n",
      "raw \\n string\n"
     ]
    }
   ],
   "source": [
    "strings = 'this is python'\n",
    "string = 'this is python'\n",
    "char = \"c\"\n",
    "\n",
    "multiline_str = 'this iUs a multiline string with more than one line code'\n",
    "unicode = u\"\\U0001f600\\U0001F606\\U0001F923\"\n",
    "raw_str = r'raw \\n string'\n",
    "print(string)\n",
    "print(strings)\n",
    "print(char)\n",
    "print(multiline_str)\n",
    "print(unicode)\n",
    "print(raw_str)"
   ]
  },
  {
   "cell_type": "code",
   "execution_count": 40,
   "id": "ec4aa64f-ad06-4b51-b56e-0f6302043496",
   "metadata": {},
   "outputs": [
    {
     "name": "stdout",
     "output_type": "stream",
     "text": [
      "a =6\n",
      "b =19\n"
     ]
    }
   ],
   "source": [
    "a = True + 5\n",
    "b = False + 19\n",
    "print(f'{a =}')\n",
    "print(f'{b =}')"
   ]
  },
  {
   "cell_type": "code",
   "execution_count": 42,
   "id": "a59df1b3-ed10-4a58-8411-8748084bb881",
   "metadata": {},
   "outputs": [
    {
     "name": "stdout",
     "output_type": "stream",
     "text": [
      "None <class 'NoneType'>\n"
     ]
    }
   ],
   "source": [
    "a = None\n",
    "print(a,type(a))"
   ]
  }
 ],
 "metadata": {
  "kernelspec": {
   "display_name": "Python 3 (ipykernel)",
   "language": "python",
   "name": "python3"
  },
  "language_info": {
   "codemirror_mode": {
    "name": "ipython",
    "version": 3
   },
   "file_extension": ".py",
   "mimetype": "text/x-python",
   "name": "python",
   "nbconvert_exporter": "python",
   "pygments_lexer": "ipython3",
   "version": "3.12.3"
  },
  "widgets": {
   "application/vnd.jupyter.widget-state+json": {
    "state": {},
    "version_major": 2,
    "version_minor": 0
   }
  }
 },
 "nbformat": 4,
 "nbformat_minor": 5
}
