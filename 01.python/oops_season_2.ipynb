{
 "cells": [
  {
   "cell_type": "markdown",
   "id": "75abe30f-aa62-4244-9b68-553336b23141",
   "metadata": {},
   "source": [
    "# Write oop classes to handle the following scenarios:\n",
    "    .A user can create and view 2D coordinates.\n",
    "    .A user can find out the distance between 2 coordinates\n",
    "    .A user can find the distance of a coordinate from origin\n",
    "    .A user can check if a point lies on a given line\n",
    "    .A user can find the distance between a given 2D point and a given line"
   ]
  },
  {
   "cell_type": "code",
   "execution_count": 24,
   "id": "4b1a0d78-4542-4c49-9900-2843f8e05b92",
   "metadata": {},
   "outputs": [],
   "source": [
    "class Point:\n",
    "    def __init__(self,x,y):\n",
    "        self.x_cod = x\n",
    "        self.y_cod = y\n",
    "        \n",
    "    def __str__(self):\n",
    "        return '<{},{}>'.format(self.x_cod,self.y_cod)\n",
    "        \n",
    "    def euclidean_distance(self,other):\n",
    "        return ((self.x_cod - other.x_cod)**2 + (self.y_cod - other.y_cod)**2)**0.5\n",
    "        \n",
    "    def distance_from_origin(self):\n",
    "        # return (self.x_cod**2 + self.y_cod**2)**0.5\n",
    "        return self.euclidean_distance(Point(0,0))\n",
    "\n",
    "\n",
    "class line:\n",
    "    def __init__(self,a,b,c):\n",
    "        self.a = a\n",
    "        self.b = b\n",
    "        self.c = c\n",
    "    def __str__(self):\n",
    "        return '{}x+ {}y +{} = 0'.format(self.a,self.b,self.c)\n",
    "    def point_on_line(line,point):\n",
    "        if line.a * point.x_cod + line.b*point.y_cod + line.c == 0:\n",
    "            return 'lies on the line'\n",
    "        else:\n",
    "            return 'does not lie on the line'\n",
    "    def shortest_distance(line,point):\n",
    "        return abs(line.a*point.x_cod + line.b*point.y_cod + line.c)/(line.a**2 + line.b**2)**0.5\n",
    "        "
   ]
  },
  {
   "cell_type": "code",
   "execution_count": 26,
   "id": "36f6af9e-0ec3-4507-aec9-fe7d7064c2fa",
   "metadata": {},
   "outputs": [
    {
     "name": "stdout",
     "output_type": "stream",
     "text": [
      "1x+ 1y +-2 = 0\n",
      "<1,1>\n"
     ]
    },
    {
     "data": {
      "text/plain": [
       "0.0"
      ]
     },
     "execution_count": 26,
     "metadata": {},
     "output_type": "execute_result"
    }
   ],
   "source": [
    "\n",
    "p1 = Point(1,1)\n",
    "l1 = line(1,1,-2)\n",
    "print(l1)\n",
    "print(p1)\n",
    "l1.point_on_line(p1)\n",
    "l1.shortest_distance(p1)"
   ]
  },
  {
   "cell_type": "markdown",
   "id": "801f89b1-e5ef-44d6-a1aa-f0c2fa96d069",
   "metadata": {},
   "source": [
    "# How to access attributes"
   ]
  },
  {
   "cell_type": "code",
   "execution_count": 27,
   "id": "93af45d1-011a-447b-969e-b74696506067",
   "metadata": {},
   "outputs": [
    {
     "name": "stdout",
     "output_type": "stream",
     "text": [
      "Asalamu alaikum syed mansoor shafi\n"
     ]
    }
   ],
   "source": [
    "class person:\n",
    "    def __init__(self,name_input,country_input):\n",
    "        self.name = name_input\n",
    "        self.country = country_input\n",
    "    def greet(self):\n",
    "        if self.country == \"india\":\n",
    "            print(\"Asalamu alaikum\", self.name)\n",
    "        else:\n",
    "            print(\"hello\", self.name)\n",
    "\n",
    "\n",
    "cls = person(\"syed mansoor shafi\", \"india\")\n",
    "cls.greet()\n"
   ]
  },
  {
   "cell_type": "markdown",
   "id": "a80cca63-84ca-4b85-856c-f6081ff17a5a",
   "metadata": {},
   "source": [
    "# Referance variables\n",
    "   . Reference variables hold the objects\n",
    "   \n",
    "    .we can create objects without reference variable as well\n",
    "    \n",
    "    . An object can have multiple reference variables\n",
    "    \n",
    "    .Assigning a new variable to an existing object does not create a new object"
   ]
  },
  {
   "cell_type": "code",
   "execution_count": 33,
   "id": "d8781a8c-5bb8-49cc-a78e-818251aae84a",
   "metadata": {},
   "outputs": [
    {
     "name": "stdout",
     "output_type": "stream",
     "text": [
      "2102372653328\n",
      "2102372653328\n"
     ]
    }
   ],
   "source": [
    "# object without a reference\n",
    "class person:\n",
    "    def __init__(self):\n",
    "        self.name = 'syed'\n",
    "        self.gender = 'male'\n",
    "p =person()\n",
    "q = p\n",
    "q\n",
    "print(id(p))\n",
    "print(id(q))"
   ]
  },
  {
   "cell_type": "code",
   "execution_count": 34,
   "id": "912529c2-b2be-446c-beab-8bdbd6fe08f5",
   "metadata": {},
   "outputs": [
    {
     "name": "stdout",
     "output_type": "stream",
     "text": [
      "syed\n",
      "syed\n",
      "mansoor\n",
      "mansoor\n"
     ]
    }
   ],
   "source": [
    "# change attribute vlaue with the help of 2nd object\n",
    "print(p.name)\n",
    "print(q.name)\n",
    "q.name = 'mansoor'\n",
    "print(q.name)\n",
    "print(p.name)\n"
   ]
  },
  {
   "cell_type": "markdown",
   "id": "6d81008d-bf44-403a-98ac-ce342f4ef0c6",
   "metadata": {},
   "source": [
    "# pass by reference"
   ]
  },
  {
   "cell_type": "code",
   "execution_count": 40,
   "id": "cbbe575c-0718-4c67-b916-cf21d33c7b69",
   "metadata": {},
   "outputs": [
    {
     "name": "stdout",
     "output_type": "stream",
     "text": [
      "hi my name is syed mansoor and i am a male\n",
      "aakash\n",
      "male\n"
     ]
    }
   ],
   "source": [
    "class Person:\n",
    "    def __init__(self,name,gender):\n",
    "        self.name = name\n",
    "        self.gender = gender\n",
    "# outside the class ->function\n",
    "def greet(person):\n",
    "    print(\"hi my name is\",person.name,'and i am a',person.gender)\n",
    "    p2 = Person('aakash','male')\n",
    "    return p2\n",
    "p = Person('syed mansoor','male')\n",
    "x =greet(p)\n",
    "print(x.name)\n",
    "print(x.gender)"
   ]
  },
  {
   "cell_type": "code",
   "execution_count": 41,
   "id": "510e517b-f931-4820-b7d9-ba78dd7a04ee",
   "metadata": {},
   "outputs": [
    {
     "name": "stdout",
     "output_type": "stream",
     "text": [
      "2102370722032\n",
      "hi my name is syed mansoor and i am a male\n",
      "2102370722032\n"
     ]
    }
   ],
   "source": [
    "class Person:\n",
    "    def __init__(self,name,gender):\n",
    "        self.name = name\n",
    "        self.gender = gender\n",
    "# outside the class ->function\n",
    "def greet(person):\n",
    "    print(id(person))\n",
    "    print(\"hi my name is\",person.name,'and i am a',person.gender)\n",
    "p = Person('syed mansoor','male')\n",
    "greet(p)\n",
    "print(id(p))"
   ]
  },
  {
   "cell_type": "markdown",
   "id": "e945fed3-0223-4d1a-98c5-52173126c7a8",
   "metadata": {},
   "source": [
    "# Encapsulation"
   ]
  },
  {
   "cell_type": "code",
   "execution_count": 45,
   "id": "f0f2682e-d63b-4c59-9577-5eb51c1f5fcf",
   "metadata": {},
   "outputs": [
    {
     "name": "stdout",
     "output_type": "stream",
     "text": [
      "<__main__.Person object at 0x000001E97F307110> <class '__main__.Person'>\n",
      "<__main__.Person object at 0x000001E97F307110> <class '__main__.Person'>\n",
      "2102372888848\n",
      "2102372650784\n"
     ]
    }
   ],
   "source": [
    "# Instance var -> python tutor\n",
    "class Person:\n",
    "    def __init__(self,name,gender):\n",
    "        self.name = name\n",
    "        self.gender = gender\n",
    "p1 = Person(\"syed\",'Male')\n",
    "p2 = Person(\"mansoor\",'male')\n",
    "print(p1,type(p1))\n",
    "print(p1,type(p2))\n",
    "print(id(p1))\n",
    "print(id(p2))\n",
    "# instance variable is a special variable jis ka value alag alag hota hai depending on the object\n",
    "# for every object the instance variable is different"
   ]
  },
  {
   "cell_type": "markdown",
   "id": "10ad8fbf-dc14-49ad-a17c-1bce410359b2",
   "metadata": {},
   "source": [
    "# collection_of_objects"
   ]
  },
  {
   "cell_type": "code",
   "execution_count": 49,
   "id": "46f1430d-8197-47bf-88c0-14f656e95ca4",
   "metadata": {},
   "outputs": [
    {
     "name": "stdout",
     "output_type": "stream",
     "text": [
      "[<__main__.Person object at 0x000001E97F307110>, <__main__.Person object at 0x000001E97F2D4E60>, <__main__.Person object at 0x000001E97F2CF5F0>]\n",
      "<__main__.Person object at 0x000001E97F307110>\n",
      "syed Male\n",
      "Aakash male\n",
      "baya male\n"
     ]
    }
   ],
   "source": [
    "class Person:\n",
    "    def __init__(self,name,gender):\n",
    "        self.name = name\n",
    "        self.gender = gender\n",
    "# outside the class ->function\n",
    "o1 =Person('syed mansoor ','male')\n",
    "p2 = Person('Aakash','male')\n",
    "p3 = Person('baya','male')\n",
    "l = [p1,p2,p3]\n",
    "print(l)\n",
    "print(l[0])\n",
    "for i in l:\n",
    "    print(i.name,i.gender)"
   ]
  },
  {
   "cell_type": "code",
   "execution_count": 54,
   "id": "2e97aaa3-89ba-4762-b0f6-a22a11d996ec",
   "metadata": {},
   "outputs": [
    {
     "name": "stdout",
     "output_type": "stream",
     "text": [
      "p1 : <__main__.Person object at 0x000001E97F307110>\n",
      "p2 : <__main__.Person object at 0x000001E97F30C8F0>\n",
      "p3 : <__main__.Person object at 0x000001E97F30EC00>\n"
     ]
    }
   ],
   "source": [
    "class Person:\n",
    "    def __init__(self,name,gender):\n",
    "        self.name = name\n",
    "        self.gender = gender\n",
    "# outside the class ->function\n",
    "o1 =Person('syed mansoor ','male')\n",
    "p2 = Person('Aakash','male')\n",
    "p3 = Person('baya','male')\n",
    "d = {'p1':p1,'p2':p2,'p3':p3}\n",
    "for k,v in d.items():\n",
    "    print(f'{k} : {v}')"
   ]
  },
  {
   "cell_type": "markdown",
   "id": "c11353f3-b1f1-4a6a-9faa-8c4d7cf9e340",
   "metadata": {},
   "source": [
    "# static variables(vs Instance Variables)"
   ]
  },
  {
   "cell_type": "code",
   "execution_count": 68,
   "id": "6b1ee738-44ea-4336-8482-b63cb8677429",
   "metadata": {},
   "outputs": [],
   "source": [
    "# ATM Machine code\n",
    "class ATM: # pascal case \n",
    "    __counter = 1\n",
    "    # constructor\n",
    "    def __init__(self):\n",
    "        self.pin = ''\n",
    "        self.__balance = 0\n",
    "        self.cid = ATM.__counter\n",
    "        ATM.__counter = ATM.__counter + 1\n",
    "        # self.cid +=1\n",
    "        # self.menu()\n",
    "    # UTIlity methods\n",
    "    @ staticmethod\n",
    "    def get_counter():\n",
    "        ATM.__counter\n",
    "    def set_counter(new_value):\n",
    "        if ATM.__counter == int:\n",
    "            ATM.__counter = new_value\n",
    "    def menu(self):\n",
    "        user_input =input(\"\"\"\n",
    "        Hi how can i help you?\n",
    "        1.press 1 to create pin\n",
    "        2.Press 2 t change pin\n",
    "        3.press 3 to check banlance\n",
    "        4.press 4 to withdraw\n",
    "        5.Anything else to exit\n",
    "        \"\"\")\n",
    "        if user_input == '1':\n",
    "            # create pin\n",
    "            self.create_pin()\n",
    "        elif user_input == '2':\n",
    "            # change pin\n",
    "            self.change_pin()\n",
    "        elif user_input == '3':\n",
    "            # check balance\n",
    "            self.check_balance()\n",
    "        elif user_input == '4':\n",
    "            # withdraw\n",
    "            self.withdraw()\n",
    "        elif user_input == '5':\n",
    "            # exit\n",
    "            exit()\n",
    "    def create_pin(self):\n",
    "        user_input = input(\"Enter your pin = \")\n",
    "        self.pin = user_input\n",
    "        user_balance = int(input(\"Enter your balance = \"))\n",
    "        self.__balance = user_balance\n",
    "        print(\"Pin created successfully\")\n",
    "        self.menu()\n",
    "    def change_pin(self):\n",
    "        old_pin = input('enter old pin =')\n",
    "        if old_pin == self.pin:\n",
    "            # let him change the pin\n",
    "            new_pin = input(\"Enter new pin =\")\n",
    "            self.pin = new_pin\n",
    "            self.menu()\n",
    "        else:\n",
    "            print(\"u have entered wrong pin \")\n",
    "            self.menu()\n",
    "    def check_balance(self):\n",
    "        user_pin = input(\"Enter your pin = \")\n",
    "        if user_pin == self.pin:\n",
    "            print(f\" Your balance :{self.__balance}\")\n",
    "        else:\n",
    "            print(\"You have entered an wrong pin = \")\n",
    "        self.menu()\n",
    "    def withdraw(self):\n",
    "        user_pin = input(\"Enter your pin = \")\n",
    "        if user_pin == self.pin:\n",
    "            # allow to withdraw\n",
    "            amt = int(input(\"Enter amount = \"))\n",
    "            if amt <= self.balance:\n",
    "                self.__balance -= amt\n",
    "                print(\"Withdrawal successful\",self.balance)\n",
    "                \n",
    "                \n",
    "            else:\n",
    "                print(\"Insufficient Balance\")\n",
    "        else:\n",
    "            print(\"Sorry you have entered an wrong pin = \")\n",
    "        self.menu()\n",
    "    "
   ]
  },
  {
   "cell_type": "code",
   "execution_count": 69,
   "id": "bd3204d3-e087-4d88-9e61-d865c0c81f2f",
   "metadata": {},
   "outputs": [],
   "source": [
    "obj = ATM()\n",
    "obj1 = ATM()\n",
    "obj2= ATM()"
   ]
  },
  {
   "cell_type": "code",
   "execution_count": 70,
   "id": "75f473db-e658-4d3c-91e4-3abf6379ab15",
   "metadata": {},
   "outputs": [
    {
     "data": {
      "text/plain": [
       "1"
      ]
     },
     "execution_count": 70,
     "metadata": {},
     "output_type": "execute_result"
    }
   ],
   "source": [
    "obj.cid"
   ]
  },
  {
   "cell_type": "code",
   "execution_count": 71,
   "id": "53c9a695-3ca7-4258-8413-fadc74d5cc7b",
   "metadata": {},
   "outputs": [
    {
     "data": {
      "text/plain": [
       "2"
      ]
     },
     "execution_count": 71,
     "metadata": {},
     "output_type": "execute_result"
    }
   ],
   "source": [
    "obj1.cid"
   ]
  },
  {
   "cell_type": "code",
   "execution_count": 72,
   "id": "3c70cbda-14f8-4416-ad91-3b5759e2db4a",
   "metadata": {},
   "outputs": [
    {
     "data": {
      "text/plain": [
       "3"
      ]
     },
     "execution_count": 72,
     "metadata": {},
     "output_type": "execute_result"
    }
   ],
   "source": [
    "obj2.cid"
   ]
  },
  {
   "cell_type": "markdown",
   "id": "ec5e7820-83d6-4127-b03b-23d5d069f4fc",
   "metadata": {},
   "source": [
    "##### obj1.check_balance()"
   ]
  },
  {
   "cell_type": "code",
   "execution_count": null,
   "id": "50a3d48e-09fd-4ba7-ae86-732a286f98fd",
   "metadata": {},
   "outputs": [],
   "source": []
  }
 ],
 "metadata": {
  "kernelspec": {
   "display_name": "Python 3 (ipykernel)",
   "language": "python",
   "name": "python3"
  },
  "language_info": {
   "codemirror_mode": {
    "name": "ipython",
    "version": 3
   },
   "file_extension": ".py",
   "mimetype": "text/x-python",
   "name": "python",
   "nbconvert_exporter": "python",
   "pygments_lexer": "ipython3",
   "version": "3.12.3"
  },
  "widgets": {
   "application/vnd.jupyter.widget-state+json": {
    "state": {},
    "version_major": 2,
    "version_minor": 0
   }
  }
 },
 "nbformat": 4,
 "nbformat_minor": 5
}
