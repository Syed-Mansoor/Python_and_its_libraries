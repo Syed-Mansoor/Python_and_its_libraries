{
 "cells": [
  {
   "cell_type": "markdown",
   "id": "e6638361-f330-484d-b637-a564b460cc49",
   "metadata": {},
   "source": [
    "# Class Relationships\n",
    "     .Aggregation\n",
    "     . Inheritance"
   ]
  },
  {
   "cell_type": "markdown",
   "id": "0605ceeb-326b-4909-a3cf-09af34a1896e",
   "metadata": {},
   "source": [
    "# Aggregation(Has-A Relationships)"
   ]
  },
  {
   "cell_type": "code",
   "execution_count": 8,
   "id": "a67a7209-4944-48d5-91dd-8631e855e3e7",
   "metadata": {},
   "outputs": [
    {
     "name": "stdout",
     "output_type": "stream",
     "text": [
      "kashmir 190001 srg\n",
      "None\n",
      "jammu and kashmir 190001 jammu_and_kashmir\n"
     ]
    }
   ],
   "source": [
    "# example  # one class owns the other class for e.g customers has a address,restaurents owns menu\n",
    "class customer:\n",
    "    def __init__(self,name,gender,address):\n",
    "        self.name =name\n",
    "        self.gender = gender\n",
    "        self.address = address\n",
    "    def print_address(self):\n",
    "        print(self.address.get_city(),self.address.pin ,self.address.state )\n",
    "    def edit_profile(self,new_name,new_city,new_pin,new_state):\n",
    "        self.name = new_name\n",
    "        self.address.edit_address(new_city,new_pin,new_state)\n",
    "\n",
    "\n",
    "class address:\n",
    "    def __init__(self,city,pin,state):\n",
    "        self.__city = city\n",
    "        self.pin = pin\n",
    "        self.state = state\n",
    "    def get_city(self): # get method \n",
    "        return self.__city\n",
    "    def edit_address(self,new_pin,new_city,new_state):\n",
    "        self.__city = new_city\n",
    "        self.pin =new_pin\n",
    "        self.state = new_state\n",
    "add1 = address('kashmir',190001,'srg')\n",
    "cust = customer('syed mansoor ','male',add1)\n",
    "print(cust.print_address())\n",
    "\n",
    "cust.edit_profile('syed mansoor shafi',190001,'jammu and kashmir','jammu_and_kashmir')\n",
    "cust.print_address()\n",
    "# method example\n",
    "# what about private attribute"
   ]
  },
  {
   "cell_type": "markdown",
   "id": "830fed56-e963-467d-98ea-e9fb40d4d319",
   "metadata": {},
   "source": [
    "# when two classes have a has-A relationship e.g customer has a address that means customer owns address"
   ]
  },
  {
   "cell_type": "markdown",
   "id": "e4213837-7852-42d1-9964-01e03875b725",
   "metadata": {},
   "source": [
    "# Inheritance\n",
    "    . What is inheritance\n",
    "    . Example\n",
    "    . What gets inherited?"
   ]
  },
  {
   "cell_type": "code",
   "execution_count": 11,
   "id": "2e0ec611-de61-458a-b2f5-05b77fd585e5",
   "metadata": {},
   "outputs": [],
   "source": [
    "# inheritance and it's benefits\n"
   ]
  },
  {
   "cell_type": "code",
   "execution_count": 18,
   "id": "6af71287-4be2-40bb-a9d5-081222e84ff8",
   "metadata": {},
   "outputs": [
    {
     "name": "stdout",
     "output_type": "stream",
     "text": [
      "syed mansoor\n"
     ]
    }
   ],
   "source": [
    "# Example\n",
    "class user: # parent class\n",
    "    def __init__(self):\n",
    "        self.name = 'syed mansoor'\n",
    "    def login(self):\n",
    "        print('login')\n",
    "class student(user): # child class\n",
    "    # def __init__(self):\n",
    "    #     self.roll_no = 1\n",
    "    def enroll(self):\n",
    "        print(\"enrolled in this course\")\n",
    "\n",
    "\n",
    "\n",
    "u = user()\n",
    "s = student()\n",
    "print(s.name)"
   ]
  },
  {
   "cell_type": "code",
   "execution_count": 19,
   "id": "996dc0a2-815e-4ea4-bb06-f2f176d973e6",
   "metadata": {},
   "outputs": [],
   "source": [
    "\n",
    "# class diagram"
   ]
  },
  {
   "cell_type": "markdown",
   "id": "15df2522-3e54-4753-a39a-7fc8e1210100",
   "metadata": {},
   "source": [
    "# What gets inherited\n",
    "    . Constructor\n",
    "    . Non private attributes\n",
    "    . Non private methods"
   ]
  },
  {
   "cell_type": "code",
   "execution_count": 21,
   "id": "4b7a91b8-d0f6-45d9-99f2-6f168128d41f",
   "metadata": {},
   "outputs": [
    {
     "name": "stdout",
     "output_type": "stream",
     "text": [
      "Inside phone constructor\n"
     ]
    },
    {
     "data": {
      "text/plain": [
       "'Apple'"
      ]
     },
     "execution_count": 21,
     "metadata": {},
     "output_type": "execute_result"
    }
   ],
   "source": [
    "# constructor exampels\n",
    "class phone:\n",
    "    def __init__(self,price,brand,camera):\n",
    "        print(\"Inside phone constructor\")\n",
    "        self.price = price\n",
    "        self.brand = brand\n",
    "        self.camera = camera\n",
    "    def buy(self):\n",
    "        print(\"Buying a Phone\")\n",
    "\n",
    "\n",
    "class smartphone(phone):\n",
    "    pass\n",
    "\n",
    "s =smartphone(20000,'Apple',12)\n",
    "s.brand"
   ]
  },
  {
   "cell_type": "code",
   "execution_count": 22,
   "id": "b1f94f9f-10de-4abd-8bab-e5e93f7953a8",
   "metadata": {},
   "outputs": [
    {
     "name": "stdout",
     "output_type": "stream",
     "text": [
      "Inside smartphone constructor\n"
     ]
    }
   ],
   "source": [
    "# constructor example\n",
    "class phone:\n",
    "    def __init__(self,price,brand,camera):\n",
    "        print(\"Inside phone constructor\")\n",
    "        self.price = price\n",
    "        self.brand = brand\n",
    "        self.camera = camera\n",
    "    def buy(self):\n",
    "        print(\"Buying a Phone\")\n",
    "\n",
    "\n",
    "class smartphone(phone):\n",
    "    def __init__(self,os,ram):\n",
    "        self.os = os\n",
    "        self.ram = ram\n",
    "        print(\"Inside smartphone constructor\")\n",
    "    def buy(self):\n",
    "        print(\"Buying a Smartphone\")\n",
    "\n",
    "s =smartphone('Andriod',2)"
   ]
  },
  {
   "cell_type": "code",
   "execution_count": 25,
   "id": "531685bd-6a97-4190-846e-ae302c16c4a8",
   "metadata": {},
   "outputs": [
    {
     "name": "stdout",
     "output_type": "stream",
     "text": [
      "Inside phone constructor\n"
     ]
    },
    {
     "ename": "AttributeError",
     "evalue": "'smartphone' object has no attribute '_smartphone__price'",
     "output_type": "error",
     "traceback": [
      "\u001b[1;31m---------------------------------------------------------------------------\u001b[0m",
      "\u001b[1;31mAttributeError\u001b[0m                            Traceback (most recent call last)",
      "Cell \u001b[1;32mIn[25], line 18\u001b[0m\n\u001b[0;32m     16\u001b[0m         \u001b[38;5;28mprint\u001b[39m(\u001b[38;5;28mself\u001b[39m\u001b[38;5;241m.\u001b[39m__price)\n\u001b[0;32m     17\u001b[0m s \u001b[38;5;241m=\u001b[39m smartphone(\u001b[38;5;241m20000\u001b[39m,\u001b[38;5;124m'\u001b[39m\u001b[38;5;124mApple\u001b[39m\u001b[38;5;124m'\u001b[39m,\u001b[38;5;241m13\u001b[39m)\n\u001b[1;32m---> 18\u001b[0m \u001b[43ms\u001b[49m\u001b[38;5;241;43m.\u001b[39;49m\u001b[43mcheck\u001b[49m\u001b[43m(\u001b[49m\u001b[43m)\u001b[49m\n\u001b[0;32m     19\u001b[0m s\u001b[38;5;241m.\u001b[39mshow()\n",
      "Cell \u001b[1;32mIn[25], line 16\u001b[0m, in \u001b[0;36msmartphone.check\u001b[1;34m(self)\u001b[0m\n\u001b[0;32m     15\u001b[0m \u001b[38;5;28;01mdef\u001b[39;00m \u001b[38;5;21mcheck\u001b[39m(\u001b[38;5;28mself\u001b[39m):\n\u001b[1;32m---> 16\u001b[0m     \u001b[38;5;28mprint\u001b[39m(\u001b[38;5;28;43mself\u001b[39;49m\u001b[38;5;241;43m.\u001b[39;49m\u001b[43m__price\u001b[49m)\n",
      "\u001b[1;31mAttributeError\u001b[0m: 'smartphone' object has no attribute '_smartphone__price'"
     ]
    }
   ],
   "source": [
    "# child can't access private member's of the class\n",
    "class phone:\n",
    "    def __init__(self,price,brand,camera):\n",
    "        print(\"Inside phone constructor\")\n",
    "        self.__price = price\n",
    "        self.brand = brand\n",
    "        self.camera = camera\n",
    "    def buy(self):\n",
    "        print(\"Buying a Phone\")\n",
    "    def show(self):\n",
    "        print(self.__price)\n",
    "\n",
    "\n",
    "class smartphone(phone):\n",
    "    def check(self):\n",
    "        print(self.__price)\n",
    "s = smartphone(20000,'Apple',13)\n",
    "s.check()\n",
    "s.show()"
   ]
  },
  {
   "cell_type": "code",
   "execution_count": 26,
   "id": "aa4597cc-61e0-40c1-a3eb-08cd14df8f32",
   "metadata": {},
   "outputs": [
    {
     "name": "stdout",
     "output_type": "stream",
     "text": [
      "100\n",
      "this is a child class\n"
     ]
    }
   ],
   "source": [
    "class parent:\n",
    "    def __init__(self,num):\n",
    "        self.__num = num\n",
    "    def get_num(self):\n",
    "        return self.__num\n",
    "class child(parent):\n",
    "    def show(self):\n",
    "        print('this is a child class')\n",
    "son = child(100)\n",
    "print(son.get_num())\n",
    "son.show()"
   ]
  },
  {
   "cell_type": "code",
   "execution_count": 30,
   "id": "7cd576eb-f6f7-44d0-965f-9dd86b1785f1",
   "metadata": {},
   "outputs": [
    {
     "ename": "AttributeError",
     "evalue": "'child' object has no attribute '_parent__num'",
     "output_type": "error",
     "traceback": [
      "\u001b[1;31m---------------------------------------------------------------------------\u001b[0m",
      "\u001b[1;31mAttributeError\u001b[0m                            Traceback (most recent call last)",
      "Cell \u001b[1;32mIn[30], line 12\u001b[0m\n\u001b[0;32m     10\u001b[0m         \u001b[38;5;28;01mreturn\u001b[39;00m \u001b[38;5;28mself\u001b[39m\u001b[38;5;241m.\u001b[39m__val\n\u001b[0;32m     11\u001b[0m son \u001b[38;5;241m=\u001b[39m child(\u001b[38;5;241m100\u001b[39m,\u001b[38;5;241m1\u001b[39m)\n\u001b[1;32m---> 12\u001b[0m \u001b[38;5;28mprint\u001b[39m(\u001b[38;5;124m'\u001b[39m\u001b[38;5;124mparent:num\u001b[39m\u001b[38;5;124m'\u001b[39m,\u001b[43mson\u001b[49m\u001b[38;5;241;43m.\u001b[39;49m\u001b[43mget_num\u001b[49m\u001b[43m(\u001b[49m\u001b[43m)\u001b[49m)\n\u001b[0;32m     13\u001b[0m \u001b[38;5;28mprint\u001b[39m(\u001b[38;5;124m'\u001b[39m\u001b[38;5;124mchild:num\u001b[39m\u001b[38;5;124m'\u001b[39m,son\u001b[38;5;241m.\u001b[39mget_val())\n",
      "Cell \u001b[1;32mIn[30], line 5\u001b[0m, in \u001b[0;36mparent.get_num\u001b[1;34m(self)\u001b[0m\n\u001b[0;32m      4\u001b[0m \u001b[38;5;28;01mdef\u001b[39;00m \u001b[38;5;21mget_num\u001b[39m(\u001b[38;5;28mself\u001b[39m):\n\u001b[1;32m----> 5\u001b[0m     \u001b[38;5;28;01mreturn\u001b[39;00m \u001b[38;5;28;43mself\u001b[39;49m\u001b[38;5;241;43m.\u001b[39;49m\u001b[43m__num\u001b[49m\n",
      "\u001b[1;31mAttributeError\u001b[0m: 'child' object has no attribute '_parent__num'"
     ]
    }
   ],
   "source": [
    "class parent:\n",
    "    def __init__(self,num):\n",
    "        self.__num = num\n",
    "    def get_num(self):\n",
    "        return self.__num\n",
    "class child(parent):\n",
    "    def __init__(self,val,num):\n",
    "        self.__val = val\n",
    "    def get_val(self):\n",
    "        return self.__val\n",
    "son = child(100,1)\n",
    "print('parent:num',son.get_num())\n",
    "print('child:num',son.get_val())"
   ]
  },
  {
   "cell_type": "code",
   "execution_count": 32,
   "id": "4c7ff3b2-30a0-4124-a5be-001a46232333",
   "metadata": {},
   "outputs": [
    {
     "name": "stdout",
     "output_type": "stream",
     "text": [
      "class b 100\n"
     ]
    }
   ],
   "source": [
    "class A:\n",
    "    def __init__(self):\n",
    "        self.var1 = 100\n",
    "    def display(self,var1):\n",
    "        print(\"class a\",self.var1)\n",
    "\n",
    "class B(A):\n",
    "    def display1(self,var1):\n",
    "        print(\"class b\",self.var1)\n",
    "obj = B()\n",
    "obj.display1(200)"
   ]
  },
  {
   "cell_type": "markdown",
   "id": "d8c8e247-5f16-47cf-8c52-b83e7a9cae06",
   "metadata": {},
   "source": [
    "# METHOD OVERRIDING"
   ]
  },
  {
   "cell_type": "code",
   "execution_count": 38,
   "id": "f01a9042-804f-4125-aac4-279180b7230a",
   "metadata": {},
   "outputs": [
    {
     "name": "stdout",
     "output_type": "stream",
     "text": [
      "Inside phone constructor\n",
      "buying a smarphone\n"
     ]
    }
   ],
   "source": [
    "class phone:\n",
    "    def __init__(self,price,brand,camera):\n",
    "        print(\"Inside phone constructor\")\n",
    "        self.__price = price\n",
    "        self.brand = brand\n",
    "        self.camera = camera\n",
    "    def buy(self):\n",
    "        print(\"Buying a Phone\")\n",
    "\n",
    "class smartphone(phone):\n",
    "    def check(self):\n",
    "        print(self.__price)\n",
    "    def buy(self):\n",
    "        print('buying a smarphone')\n",
    "s = smartphone(20000,'Apple',13)\n",
    "s.buy()\n",
    "# s.check()\n",
    "# s.show()"
   ]
  },
  {
   "cell_type": "markdown",
   "id": "687295e3-806c-4f11-a43d-fef85974722f",
   "metadata": {},
   "source": [
    "# Super keyword"
   ]
  },
  {
   "cell_type": "code",
   "execution_count": 40,
   "id": "a2ae1f3d-6d26-42bd-9e78-fad7c70a95a2",
   "metadata": {},
   "outputs": [
    {
     "name": "stdout",
     "output_type": "stream",
     "text": [
      "Inside phone constructor\n",
      "buying a smartphone\n",
      "Buying a Phone\n"
     ]
    }
   ],
   "source": [
    "class phone:\n",
    "    def __init__(self,price,brand,camera):\n",
    "        print(\"Inside phone constructor\")\n",
    "        self.__price = price\n",
    "        self.brand = brand\n",
    "        self.camera = camera\n",
    "    def buy(self):\n",
    "        print(\"Buying a Phone\")\n",
    "    def show(self):\n",
    "        print(self.__price)\n",
    "\n",
    "\n",
    "class smartphone(phone):\n",
    "    def buy(self):\n",
    "        print(\"buying a smartphone\")\n",
    "        super().buy()\n",
    "s = smartphone(20000,'Apple',13)\n",
    "s.buy()"
   ]
  },
  {
   "cell_type": "code",
   "execution_count": 46,
   "id": "6b9fd8bd-7a9e-468e-a549-08c38e7b0ad5",
   "metadata": {},
   "outputs": [
    {
     "name": "stdout",
     "output_type": "stream",
     "text": [
      "Inside phone constructor\n",
      "inside smartphone constructor\n",
      "android\n",
      "Apple\n"
     ]
    }
   ],
   "source": [
    "class phone:\n",
    "    def __init__(self,price,brand,camera):\n",
    "        print(\"Inside phone constructor\")\n",
    "        self.__price = price\n",
    "        self.brand = brand\n",
    "        self.camera = camera\n",
    "\n",
    "class smartphone(phone):\n",
    "    def __init__(self,price,brand,camera,os,ram):\n",
    "        super().__init__(price,brand,camera)\n",
    "        self.os  = os\n",
    "        self.ram = ram\n",
    "        print(\"inside smartphone constructor\")\n",
    "s = smartphone(20000,'Apple',13,'android',3)\n",
    "print(s.os)\n",
    "print(s.brand)"
   ]
  },
  {
   "cell_type": "markdown",
   "id": "44f50a25-c9b5-4c14-afb6-9eb525cbca56",
   "metadata": {},
   "source": [
    "# super() methods\n",
    "    . super cannot access variables\n",
    "    . super cannot be used outside the class\n",
    "    . and super is used inside the child class"
   ]
  },
  {
   "cell_type": "markdown",
   "id": "4f7db9be-1b4f-415c-baff-777b0b558c58",
   "metadata": {},
   "source": [
    "# Inheritance in summary\n",
    "    . A class can inherit from another class\n",
    "    . Inheritance improves code reuse\n",
    "    . Constructor,attributes,methods get inherited to the child class\n",
    "    . The parent has no access to the child class\n",
    "    . Private properties of parent are not accesssible directly in child class\n",
    "    . Child class can override the attributes or methods.This is called method overriding\n",
    "    . Super() is an inbuilt function which is used to invoke the parent class methods and constructors"
   ]
  },
  {
   "cell_type": "code",
   "execution_count": 48,
   "id": "8aeb1058-888c-4f8a-ba38-4e6518664cb6",
   "metadata": {},
   "outputs": [
    {
     "name": "stdout",
     "output_type": "stream",
     "text": [
      "100\n",
      "200\n"
     ]
    }
   ],
   "source": [
    "class parent:\n",
    "    def __init__(self,num):\n",
    "        self.__num = num\n",
    "        \n",
    "    def get_num(self):\n",
    "        return self.__num\n",
    "        \n",
    "class child(parent):\n",
    "    def __init__(self,num,val):\n",
    "        \n",
    "        super().__init__(num)\n",
    "        \n",
    "        self.__val = val\n",
    "        \n",
    "    def get_val(self):\n",
    "        \n",
    "        return self.__val\n",
    "son = child(100,200)\n",
    "print(son.get_num())\n",
    "print(son.get_val())"
   ]
  },
  {
   "cell_type": "code",
   "execution_count": 54,
   "id": "caedb720-3236-406e-b68c-129cdf538f58",
   "metadata": {},
   "outputs": [
    {
     "name": "stdout",
     "output_type": "stream",
     "text": [
      "100\n",
      "100\n"
     ]
    }
   ],
   "source": [
    "class parent:\n",
    "    def __init__(self):\n",
    "        self.num = 100\n",
    "class child(parent):\n",
    "    def __init__(self):\n",
    "        \n",
    "        super().__init__()\n",
    "        \n",
    "        self.val = 100\n",
    "        \n",
    "    def show(self):\n",
    "        print(self.num)\n",
    "        print(self.val)\n",
    "son = child()\n",
    "son.show()"
   ]
  },
  {
   "cell_type": "code",
   "execution_count": 58,
   "id": "547c7ec2-1ea8-47d2-af99-a7063a617556",
   "metadata": {},
   "outputs": [
    {
     "name": "stdout",
     "output_type": "stream",
     "text": [
      "child 100\n"
     ]
    }
   ],
   "source": [
    "class parent:\n",
    "    def __init__(self):\n",
    "        self.__num =100\n",
    "        \n",
    "    def show(self):\n",
    "        print(\"parent\",self.__num)\n",
    "        \n",
    "class child(parent):\n",
    "    def __init__(self):\n",
    "        super().__init__()\n",
    "        self.__val = 100\n",
    "    def show(self):\n",
    "        print('child',self.__val)\n",
    "son = child()\n",
    "son.show()"
   ]
  },
  {
   "cell_type": "markdown",
   "id": "56c68c32-c5b4-4380-ac1b-1da5b627856c",
   "metadata": {},
   "source": [
    "# Types of inheritance\n",
    "    . Single inheritance\n",
    "    . Multilevel inheritance\n",
    "    . Hierarchical inheritance\n",
    "    . Multiple Inheritance(Diamond Problem)\n",
    "    . Hybrid Inheritance"
   ]
  },
  {
   "cell_type": "code",
   "execution_count": 59,
   "id": "0f0dfc6b-08b3-408c-ade0-aff3034b7eac",
   "metadata": {},
   "outputs": [
    {
     "name": "stdout",
     "output_type": "stream",
     "text": [
      "Inside phone constructor\n",
      "inside smartphone constructor\n",
      "android\n",
      "Apple\n"
     ]
    }
   ],
   "source": [
    "# single inheritance\n",
    "class phone:\n",
    "    def __init__(self,price,brand,camera):\n",
    "        print(\"Inside phone constructor\")\n",
    "        self.__price = price\n",
    "        self.brand = brand\n",
    "        self.camera = camera\n",
    "\n",
    "class smartphone(phone):\n",
    "    def __init__(self,price,brand,camera,os,ram):\n",
    "        super().__init__(price,brand,camera)\n",
    "        self.os  = os\n",
    "        self.ram = ram\n",
    "        print(\"inside smartphone constructor\")\n",
    "s = smartphone(20000,'Apple',13,'android',3)\n",
    "print(s.os)\n",
    "print(s.brand)"
   ]
  },
  {
   "cell_type": "code",
   "execution_count": 60,
   "id": "66acdd5f-d3c7-4956-a771-9ce8f68560e8",
   "metadata": {},
   "outputs": [
    {
     "name": "stdout",
     "output_type": "stream",
     "text": [
      "Inside phone constructor\n",
      "inside smartphone constructor\n",
      "android\n",
      "Apple\n"
     ]
    }
   ],
   "source": [
    "# multilevel\n",
    "class product:\n",
    "    def __init__(self):\n",
    "        print(\"product consumer review\")\n",
    "class phone(product):\n",
    "    def __init__(self,price,brand,camera):\n",
    "        print(\"Inside phone constructor\")\n",
    "        self.__price = price\n",
    "        self.brand = brand\n",
    "        self.camera = camera\n",
    "\n",
    "class smartphone(phone):\n",
    "    def __init__(self,price,brand,camera,os,ram):\n",
    "        super().__init__(price,brand,camera)\n",
    "        self.os  = os\n",
    "        self.ram = ram\n",
    "        print(\"inside smartphone constructor\")\n",
    "s = smartphone(20000,'Apple',13,'android',3)\n",
    "print(s.os)\n",
    "print(s.brand)"
   ]
  },
  {
   "cell_type": "code",
   "execution_count": 62,
   "id": "5ad97317-a4f8-4525-be3e-e1138284f417",
   "metadata": {},
   "outputs": [
    {
     "name": "stdout",
     "output_type": "stream",
     "text": [
      "Inside phone constructor\n",
      "inside smartphone constructor\n",
      "android\n",
      "Apple\n"
     ]
    }
   ],
   "source": [
    "# hierarichal inheritance\n",
    "class phone:\n",
    "    def __init__(self,price,brand,camera):\n",
    "        print(\"Inside phone constructor\")\n",
    "        self.__price = price\n",
    "        self.brand = brand\n",
    "        self.camera = camera\n",
    "\n",
    "class smartphone(phone):\n",
    "    def __init__(self,price,brand,camera,os,ram):\n",
    "        super().__init__(price,brand,camera)\n",
    "        self.os  = os\n",
    "        self.ram = ram\n",
    "        print(\"inside smartphone constructor\")\n",
    "\n",
    "class featurePhone(phone):\n",
    "    pass\n",
    "s = smartphone(20000,'Apple',13,'android',3)\n",
    "print(s.os)\n",
    "print(s.brand)"
   ]
  },
  {
   "cell_type": "code",
   "execution_count": 65,
   "id": "adf116bc-1b36-48c8-808f-a5dbd8d36829",
   "metadata": {},
   "outputs": [
    {
     "name": "stdout",
     "output_type": "stream",
     "text": [
      "Inside phone constructor\n",
      "inside smartphone constructor\n",
      "buying a new phone \n",
      "customer review\n"
     ]
    }
   ],
   "source": [
    "# multiple\n",
    "class phone:\n",
    "    def __init__(self,price,brand,camera):\n",
    "        print(\"Inside phone constructor\")\n",
    "        self.__price = price\n",
    "        self.brand = brand\n",
    "        self.camera = camera\n",
    "    def buy(self):\n",
    "        print(\"buying a new phone \")\n",
    "class product:\n",
    "    def review(self):\n",
    "        print(\"customer review\")\n",
    "\n",
    "class smartphone(phone,product):\n",
    "    def __init__(self,price,brand,camera,os,ram):\n",
    "        super().__init__(price,brand,camera)\n",
    "        self.os  = os\n",
    "        self.ram = ram\n",
    "        print(\"inside smartphone constructor\")\n",
    "s = smartphone(20000,'Apple',13,'android',3)\n",
    "s.buy()\n",
    "s.review()"
   ]
  },
  {
   "cell_type": "code",
   "execution_count": 69,
   "id": "656b7a02-9204-428e-b9b2-30c7594af193",
   "metadata": {},
   "outputs": [
    {
     "name": "stdout",
     "output_type": "stream",
     "text": [
      "Inside phone constructor\n",
      "inside smartphone constructor\n",
      "buying a new phone \n"
     ]
    }
   ],
   "source": [
    "# the diamond problem\n",
    "# multiple\n",
    "class phone:\n",
    "    def __init__(self,price,brand,camera):\n",
    "        print(\"Inside phone constructor\")\n",
    "        self.__price = price\n",
    "        self.brand = brand\n",
    "        self.camera = camera\n",
    "    def buy(self):\n",
    "        print(\"buying a new phone \")\n",
    "class product:\n",
    "    def buy(self):\n",
    "        print(\"customer review\")\n",
    "# method resolution order (mro)\n",
    "class smartphone(phone,product):\n",
    "    def __init__(self,price,brand,camera,os,ram):\n",
    "        super().__init__(price,brand,camera)\n",
    "        self.os  = os\n",
    "        self.ram = ram\n",
    "        print(\"inside smartphone constructor\")\n",
    "s = smartphone(20000,'Apple',13,'android',3)\n",
    "s.buy()\n"
   ]
  },
  {
   "cell_type": "markdown",
   "id": "05d59c3d-a57c-4b69-878a-f39872d62b2c",
   "metadata": {},
   "source": [
    "# polymorphism\n",
    "    . Method overriding\n",
    "    . Method overloading\n",
    "    . Operator Overloading"
   ]
  },
  {
   "cell_type": "code",
   "execution_count": 70,
   "id": "32f0c499-eabd-4d67-b1d8-9de6584e4b42",
   "metadata": {},
   "outputs": [
    {
     "ename": "TypeError",
     "evalue": "shape.area() missing 1 required positional argument: 'b'",
     "output_type": "error",
     "traceback": [
      "\u001b[1;31m---------------------------------------------------------------------------\u001b[0m",
      "\u001b[1;31mTypeError\u001b[0m                                 Traceback (most recent call last)",
      "Cell \u001b[1;32mIn[70], line 9\u001b[0m\n\u001b[0;32m      5\u001b[0m         \u001b[38;5;28;01mreturn\u001b[39;00m l\u001b[38;5;241m*\u001b[39mb\n\u001b[0;32m      8\u001b[0m s \u001b[38;5;241m=\u001b[39mshape()\n\u001b[1;32m----> 9\u001b[0m \u001b[43ms\u001b[49m\u001b[38;5;241;43m.\u001b[39;49m\u001b[43marea\u001b[49m\u001b[43m(\u001b[49m\u001b[38;5;241;43m3\u001b[39;49m\u001b[43m)\u001b[49m\n\u001b[0;32m     10\u001b[0m s\u001b[38;5;241m.\u001b[39marea(\u001b[38;5;241m2\u001b[39m,\u001b[38;5;241m3\u001b[39m)\n",
      "\u001b[1;31mTypeError\u001b[0m: shape.area() missing 1 required positional argument: 'b'"
     ]
    }
   ],
   "source": [
    "class shape:\n",
    "    def area(self,radius):\n",
    "        return 3.14*radius*radius\n",
    "    def area(self,l,b):\n",
    "        return l*b\n",
    "\n",
    "\n",
    "s =shape()\n",
    "s.area(3)\n",
    "s.area(2,3)"
   ]
  },
  {
   "cell_type": "markdown",
   "id": "30490e51-6dfb-41f8-84f0-283691620033",
   "metadata": {},
   "source": [
    "# Does not work in python"
   ]
  },
  {
   "cell_type": "code",
   "execution_count": 71,
   "id": "33275caa-30ee-434e-bafa-d9ea9e23810c",
   "metadata": {},
   "outputs": [
    {
     "name": "stdout",
     "output_type": "stream",
     "text": [
      "syedmansoor\n",
      "5\n",
      "[1, 2, 3, 4, 5, 5]\n"
     ]
    }
   ],
   "source": [
    "# same operator but different behaviour with differnet inputs\n",
    "print('syed'+'mansoor')\n",
    "print(2+3)\n",
    "print([1,2,3] + [4,5,5])"
   ]
  },
  {
   "cell_type": "markdown",
   "id": "3ad11501-e2fb-45c2-96bb-986e7ca4d276",
   "metadata": {},
   "source": [
    "# Abstraction"
   ]
  },
  {
   "cell_type": "code",
   "execution_count": 77,
   "id": "b80cf4c5-7678-4350-84b8-56de90ad2a8f",
   "metadata": {},
   "outputs": [],
   "source": [
    "from abc import ABC,abstractmethod\n",
    "class bankapp(ABC):\n",
    "    def database(self):\n",
    "        print(\"connected to database\")\n",
    "    @abstractmethod\n",
    "    def security(self):\n",
    "        pass\n",
    "        "
   ]
  },
  {
   "cell_type": "code",
   "execution_count": 80,
   "id": "a23f83c4-c480-4ebb-880a-97a397046edd",
   "metadata": {},
   "outputs": [],
   "source": [
    "class Mobileapp(bankapp):\n",
    "    def mobile_login(self):\n",
    "        print(\"login into mobile\")\n",
    "    \n",
    "    def security(self):\n",
    "        print(\"mobile securrity\")"
   ]
  },
  {
   "cell_type": "code",
   "execution_count": 81,
   "id": "a94143cb-a69e-4537-aeb3-ddd703d19de7",
   "metadata": {},
   "outputs": [],
   "source": [
    "mob  = Mobileapp()"
   ]
  },
  {
   "cell_type": "code",
   "execution_count": null,
   "id": "974a9eab-c334-4239-8bea-49c44f4da682",
   "metadata": {},
   "outputs": [],
   "source": []
  }
 ],
 "metadata": {
  "kernelspec": {
   "display_name": "Python 3 (ipykernel)",
   "language": "python",
   "name": "python3"
  },
  "language_info": {
   "codemirror_mode": {
    "name": "ipython",
    "version": 3
   },
   "file_extension": ".py",
   "mimetype": "text/x-python",
   "name": "python",
   "nbconvert_exporter": "python",
   "pygments_lexer": "ipython3",
   "version": "3.12.2"
  },
  "widgets": {
   "application/vnd.jupyter.widget-state+json": {
    "state": {},
    "version_major": 2,
    "version_minor": 0
   }
  }
 },
 "nbformat": 4,
 "nbformat_minor": 5
}
