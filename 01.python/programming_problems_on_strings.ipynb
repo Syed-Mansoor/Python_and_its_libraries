{
 "cells": [
  {
   "cell_type": "code",
   "execution_count": 2,
   "id": "f1c42c60-dd89-402c-b7d2-bdca8fcec8a3",
   "metadata": {},
   "outputs": [
    {
     "name": "stdin",
     "output_type": "stream",
     "text": [
      "enter the string  syed\n"
     ]
    },
    {
     "name": "stdout",
     "output_type": "stream",
     "text": [
      "len of string is  4\n"
     ]
    }
   ],
   "source": [
    " # # find the length of a given string without using the len() functions\n",
    "user = input(\"enter the string \")\n",
    "counter  = 0\n",
    "for i in user:\n",
    "    counter = counter + 1\n",
    "print('len of string is ',counter)"
   ]
  },
  {
   "cell_type": "code",
   "execution_count": 7,
   "id": "ae7002f2-fc33-447f-ad4b-ee9a40b8f0dc",
   "metadata": {},
   "outputs": [
    {
     "name": "stdin",
     "output_type": "stream",
     "text": [
      "enter email =  syed@\n"
     ]
    },
    {
     "name": "stdout",
     "output_type": "stream",
     "text": [
      "syed\n"
     ]
    }
   ],
   "source": [
    "# extract username from a given email\n",
    "user = input(\"enter email = \")\n",
    "position = user.index('@')\n",
    "print(user[0:position])"
   ]
  },
  {
   "cell_type": "code",
   "execution_count": 11,
   "id": "df066260-5090-44ea-b440-04f346fb5a5d",
   "metadata": {},
   "outputs": [
    {
     "name": "stdin",
     "output_type": "stream",
     "text": [
      "enter string =  hello how are you\n",
      "what would you like to search =  o\n"
     ]
    },
    {
     "name": "stdout",
     "output_type": "stream",
     "text": [
      "frequancy 3\n"
     ]
    }
   ],
   "source": [
    "# count the frequancy of a particular character in a provided string.\n",
    "# eg hello how are you is the string, the frequancy of h in this string is 2\n",
    "s = input(\"enter string = \")\n",
    "term = input(\"what would you like to search = \")\n",
    "count = 0\n",
    "for i in s:\n",
    "    if i == term:\n",
    "        count +=1\n",
    "print('frequancy',count)"
   ]
  },
  {
   "cell_type": "code",
   "execution_count": 13,
   "id": "19822d3c-62d9-42c5-8d3f-0588c07529eb",
   "metadata": {},
   "outputs": [
    {
     "name": "stdin",
     "output_type": "stream",
     "text": [
      "enter a string =  syed mansoor\n",
      "what would you like to remove =  o\n"
     ]
    },
    {
     "name": "stdout",
     "output_type": "stream",
     "text": [
      "syed mansr\n"
     ]
    }
   ],
   "source": [
    "# write a program which can remove a particular character from a string\n",
    "s = input(\"enter a string = \")\n",
    "term = input(\"what would you like to remove = \")\n",
    "new_str = ''\n",
    "for i in s:\n",
    "    if i != term:\n",
    "        new_str = new_str + i\n",
    "print(new_str)"
   ]
  },
  {
   "cell_type": "code",
   "execution_count": 20,
   "id": "20def969-b386-489c-8694-94cc09e312ed",
   "metadata": {},
   "outputs": [
    {
     "name": "stdin",
     "output_type": "stream",
     "text": [
      "'enter a string ' madam\n"
     ]
    },
    {
     "name": "stdout",
     "output_type": "stream",
     "text": [
      "palindrome\n"
     ]
    }
   ],
   "source": [
    "# write a program that can check whether a given string is palindrome or not\n",
    "s = input(\"'enter a string '\")\n",
    "# if s == s[::-1]:\n",
    "#     print('palindrome')\n",
    "# else:\n",
    "#     print('not a palindrome')\n",
    "flag = True\n",
    "for i in range(0,len(s)//2):\n",
    "    \n",
    "    if s[i] != s[len(s)-i-1]:\n",
    "        flag = False\n",
    "        print('not a palindorme')\n",
    "        break\n",
    "        \n",
    "if flag:\n",
    "    print('palindrome')"
   ]
  },
  {
   "cell_type": "code",
   "execution_count": 23,
   "id": "0050ed2c-d2e5-4c4f-8f1d-1e7e0fb21ff0",
   "metadata": {},
   "outputs": [
    {
     "name": "stdin",
     "output_type": "stream",
     "text": [
      "enter a string =  hi how are you\n"
     ]
    },
    {
     "name": "stdout",
     "output_type": "stream",
     "text": [
      "['hi', 'how', 'are', 'you']\n"
     ]
    }
   ],
   "source": [
    "\n",
    "# write a program to count the number of words in string without split()\n",
    "s = input(\"enter a string = \")\n",
    "l = []\n",
    "temp = ''\n",
    "for i in s:\n",
    "    if i != ' ':\n",
    "        temp = temp + i\n",
    "    else:\n",
    "        l.append(temp)\n",
    "        temp = ''\n",
    "\n",
    "l.append(temp)\n",
    "print(l)\n",
    "\n"
   ]
  },
  {
   "cell_type": "code",
   "execution_count": 30,
   "id": "ba95d734-0a0e-454a-aa34-57104d696397",
   "metadata": {},
   "outputs": [
    {
     "name": "stdin",
     "output_type": "stream",
     "text": [
      "enter a string =  hi how are you\n"
     ]
    },
    {
     "name": "stdout",
     "output_type": "stream",
     "text": [
      "Hi How Are You\n"
     ]
    }
   ],
   "source": [
    "# write a python program to convert a string to title case without using the title fucntion\n",
    "# user = input('enter a string = ')\n",
    "# new_str = ''\n",
    "# for i in user:\n",
    "#     if i.isupper():\n",
    "#         new_str = new_str +i.lower()\n",
    "#     elif i.islower():\n",
    "#         new_str = new_str + i.upper()\n",
    "# print(new_str)\n",
    "\n",
    "s = input('enter a string = ')\n",
    "l = []\n",
    "for i in s.split():\n",
    "    l.append(i[0].upper() + i[1:].lower())\n",
    "print(' '.join(l))"
   ]
  },
  {
   "cell_type": "code",
   "execution_count": 32,
   "id": "c22c31e1-2610-424c-b4ac-680fe2da0199",
   "metadata": {},
   "outputs": [
    {
     "name": "stdin",
     "output_type": "stream",
     "text": [
      "enter the number =  2345\n"
     ]
    },
    {
     "name": "stdout",
     "output_type": "stream",
     "text": [
      "2345\n",
      "<class 'str'>\n"
     ]
    }
   ],
   "source": [
    "# write a program that can convert an integer to stringn\n",
    "number:int = int(input('enter the number = '))\n",
    "digits = '0123456789'\n",
    "result = ''\n",
    "while number != 0:\n",
    "    result = digits[number % 10]+result\n",
    "    number = number//10\n",
    "print(result)\n",
    "\n",
    "print(type(result))"
   ]
  }
 ],
 "metadata": {
  "kernelspec": {
   "display_name": "Python 3 (ipykernel)",
   "language": "python",
   "name": "python3"
  },
  "language_info": {
   "codemirror_mode": {
    "name": "ipython",
    "version": 3
   },
   "file_extension": ".py",
   "mimetype": "text/x-python",
   "name": "python",
   "nbconvert_exporter": "python",
   "pygments_lexer": "ipython3",
   "version": "3.12.3"
  },
  "widgets": {
   "application/vnd.jupyter.widget-state+json": {
    "state": {},
    "version_major": 2,
    "version_minor": 0
   }
  }
 },
 "nbformat": 4,
 "nbformat_minor": 5
}
