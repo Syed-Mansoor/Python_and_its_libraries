{
 "cells": [
  {
   "cell_type": "markdown",
   "id": "cd0dbee5-add3-4891-a1fc-9d131124c5aa",
   "metadata": {},
   "source": [
    "# string object does not item assignment\n",
    "# they are immutable"
   ]
  },
  {
   "cell_type": "markdown",
   "id": "d2ec6457-7633-40cd-ab74-2291fd4fda31",
   "metadata": {},
   "source": [
    "# strings are sequence of characters\n",
    "## in python specifically,strings are a sequence of unicode characters\n",
    "    . creating strings\n",
    "    . accessing strings\n",
    "    . Adding chars to strings\n",
    "    . Editing strings\n",
    "    . Deleting strings\n",
    "    . Operatioins on strings\n",
    "    . strings functions"
   ]
  },
  {
   "cell_type": "markdown",
   "id": "6df2b88d-2170-44cb-8ad2-5ecb613d7425",
   "metadata": {},
   "source": [
    "# creating strings"
   ]
  },
  {
   "cell_type": "code",
   "execution_count": 1,
   "id": "659678b4-6bf4-4625-a3cb-c05379a0765d",
   "metadata": {},
   "outputs": [
    {
     "name": "stdout",
     "output_type": "stream",
     "text": [
      "hello <class 'str'>\n",
      "hello <class 'str'>\n"
     ]
    }
   ],
   "source": [
    "s = 'hello'\n",
    "print(s,type(s))\n",
    "s = \"hello\"\n",
    "print(s,type(s))"
   ]
  },
  {
   "cell_type": "markdown",
   "id": "e4ca182d-53af-4c38-8c6d-5bca9ae1b80c",
   "metadata": {},
   "source": [
    "# Accessing substrings from a string"
   ]
  },
  {
   "cell_type": "markdown",
   "id": "4f217ad2-b278-4713-9738-7f917dbf3be2",
   "metadata": {},
   "source": [
    "## indexing"
   ]
  },
  {
   "cell_type": "code",
   "execution_count": 7,
   "id": "233cf100-468d-4e3f-bb0e-6c8705f75b66",
   "metadata": {},
   "outputs": [
    {
     "name": "stdout",
     "output_type": "stream",
     "text": [
      "h\n",
      "d\n",
      " \n"
     ]
    }
   ],
   "source": [
    "s = 'hello world'\n",
    "print(s[0]) # positive indexing\n",
    "print(s[-1]) # negative indexing\n",
    "print(s[5])"
   ]
  },
  {
   "cell_type": "code",
   "execution_count": 14,
   "id": "70b5b767-4226-4896-be7b-34fbdea0b1bd",
   "metadata": {},
   "outputs": [
    {
     "name": "stdout",
     "output_type": "stream",
     "text": [
      "hello\n",
      "hello world\n",
      "h\n",
      "el \n"
     ]
    }
   ],
   "source": [
    "# slicing\n",
    "s  = 'hello world'\n",
    "print(s[0:5])\n",
    "print(s[::]) # full\n",
    "print(s[:2:2])\n",
    "print(s[1:6:2]) # step size"
   ]
  },
  {
   "cell_type": "markdown",
   "id": "b56f568e-af00-4072-ba85-5eae96ca6117",
   "metadata": {},
   "source": [
    "# Editing and Deleting in Strings"
   ]
  },
  {
   "cell_type": "code",
   "execution_count": 15,
   "id": "c7708ea2-f841-488c-9469-c995bfe98649",
   "metadata": {},
   "outputs": [
    {
     "ename": "TypeError",
     "evalue": "'str' object does not support item assignment",
     "output_type": "error",
     "traceback": [
      "\u001b[1;31m---------------------------------------------------------------------------\u001b[0m",
      "\u001b[1;31mTypeError\u001b[0m                                 Traceback (most recent call last)",
      "Cell \u001b[1;32mIn[15], line 2\u001b[0m\n\u001b[0;32m      1\u001b[0m s \u001b[38;5;241m=\u001b[39m \u001b[38;5;124m'\u001b[39m\u001b[38;5;124mhello world\u001b[39m\u001b[38;5;124m'\u001b[39m\n\u001b[1;32m----> 2\u001b[0m \u001b[43ms\u001b[49m\u001b[43m[\u001b[49m\u001b[38;5;241;43m0\u001b[39;49m\u001b[43m]\u001b[49m \u001b[38;5;241m=\u001b[39m \u001b[38;5;124m'\u001b[39m\u001b[38;5;124ms\u001b[39m\u001b[38;5;124m'\u001b[39m\n",
      "\u001b[1;31mTypeError\u001b[0m: 'str' object does not support item assignment"
     ]
    }
   ],
   "source": [
    "s = 'hello world'\n",
    "s[0] = 's'"
   ]
  },
  {
   "cell_type": "code",
   "execution_count": 16,
   "id": "72080499-ddba-4863-b7b4-f85534060255",
   "metadata": {},
   "outputs": [],
   "source": [
    "s = 'hello world'\n",
    "del(s)"
   ]
  },
  {
   "cell_type": "code",
   "execution_count": 17,
   "id": "af88c861-ca72-40f0-b38d-18c233e5d5b9",
   "metadata": {},
   "outputs": [
    {
     "ename": "NameError",
     "evalue": "name 's' is not defined",
     "output_type": "error",
     "traceback": [
      "\u001b[1;31m---------------------------------------------------------------------------\u001b[0m",
      "\u001b[1;31mNameError\u001b[0m                                 Traceback (most recent call last)",
      "Cell \u001b[1;32mIn[17], line 1\u001b[0m\n\u001b[1;32m----> 1\u001b[0m \u001b[43ms\u001b[49m\n",
      "\u001b[1;31mNameError\u001b[0m: name 's' is not defined"
     ]
    }
   ],
   "source": [
    "s"
   ]
  },
  {
   "cell_type": "markdown",
   "id": "d33643fd-f5a3-48b2-9d9e-743e531ff5cf",
   "metadata": {},
   "source": [
    "# operations on strings\n",
    "    . Arithmetic operations\n",
    "    . Relational operations\n",
    "    . Logical operations\n",
    "    . Loops on strings\n",
    "    . Membership operations"
   ]
  },
  {
   "cell_type": "code",
   "execution_count": 19,
   "id": "d1bf2d31-226b-47e7-a067-7e58526a3912",
   "metadata": {},
   "outputs": [
    {
     "name": "stdout",
     "output_type": "stream",
     "text": [
      "hello world syed mansoor\n"
     ]
    }
   ],
   "source": [
    "s = 'hello world'\n",
    "g  = 'syed mansoor'\n",
    "print(s +  ' ' + g)"
   ]
  },
  {
   "cell_type": "code",
   "execution_count": 20,
   "id": "df7343e6-6477-43c4-8995-eb3a6eec77fe",
   "metadata": {},
   "outputs": [
    {
     "name": "stdout",
     "output_type": "stream",
     "text": [
      "syedsyedsyedsyedsyed\n"
     ]
    }
   ],
   "source": [
    "print('syed'* 5)"
   ]
  },
  {
   "cell_type": "code",
   "execution_count": 22,
   "id": "0d302ed0-4dad-44f0-89cc-cc4dc5f3ea29",
   "metadata": {},
   "outputs": [
    {
     "name": "stdout",
     "output_type": "stream",
     "text": [
      "False\n",
      "True\n",
      "True\n",
      "False\n"
     ]
    }
   ],
   "source": [
    "s = 'hello world'\n",
    "g = 'good'\n",
    "print(s < g)\n",
    "print(s > g)\n",
    "print(s >= g)\n",
    "print(s <= g) # they  are getting compared on the basis of lexiographically(ascii based chars)"
   ]
  },
  {
   "cell_type": "code",
   "execution_count": 23,
   "id": "62a60a9a-31d2-492c-b8d3-b6c868bbe4ef",
   "metadata": {},
   "outputs": [
    {
     "data": {
      "text/plain": [
       "'world'"
      ]
     },
     "execution_count": 23,
     "metadata": {},
     "output_type": "execute_result"
    }
   ],
   "source": [
    "# logical \n",
    "'hello ' and 'world'"
   ]
  },
  {
   "cell_type": "code",
   "execution_count": 24,
   "id": "06d3b551-c270-4f77-b658-08dd4eede0b8",
   "metadata": {},
   "outputs": [
    {
     "data": {
      "text/plain": [
       "'hello'"
      ]
     },
     "execution_count": 24,
     "metadata": {},
     "output_type": "execute_result"
    }
   ],
   "source": [
    "'hello' or 'world'"
   ]
  },
  {
   "cell_type": "code",
   "execution_count": 33,
   "id": "30509ba0-ebb9-4ec2-af9d-5b8e002edb52",
   "metadata": {},
   "outputs": [
    {
     "name": "stdout",
     "output_type": "stream",
     "text": [
      "s y e d   m a s n o o r \n",
      "0 s 1 y 2 e 3 d 4   5 m 6 a 7 s 8 n 9 o 10 o 11 r "
     ]
    }
   ],
   "source": [
    "s = 'syed masnoor'\n",
    "for i in s:\n",
    "    print(i,end = ' ')\n",
    "print()\n",
    "for i in range(len(s)):\n",
    "    print(i,end = ' ')\n",
    "    print(s[i],end = ' ')"
   ]
  },
  {
   "cell_type": "code",
   "execution_count": 34,
   "id": "1cdce72b-bba3-4c90-89a2-e2dd0378c8e3",
   "metadata": {},
   "outputs": [
    {
     "name": "stdout",
     "output_type": "stream",
     "text": [
      "True\n"
     ]
    }
   ],
   "source": [
    "s = 'syed mansoor'\n",
    "print('s' in s)"
   ]
  },
  {
   "cell_type": "markdown",
   "id": "3be3f62d-ba93-4357-90ab-f522e051357e",
   "metadata": {},
   "source": [
    "# common functions\n",
    "    . len\n",
    "    . max\n",
    "    . min\n",
    "    .sorted"
   ]
  },
  {
   "cell_type": "code",
   "execution_count": 36,
   "id": "4284bf5c-3fa5-4c51-92a6-528698dc5bff",
   "metadata": {},
   "outputs": [
    {
     "name": "stdout",
     "output_type": "stream",
     "text": [
      "12\n",
      "y\n",
      " \n",
      "[' ', 'a', 'd', 'e', 'm', 'n', 'o', 'o', 'r', 's', 's', 'y']\n"
     ]
    }
   ],
   "source": [
    "s = 'syed mansoor'\n",
    "print(len(s))\n",
    "print(max(s))\n",
    "print(min(s))\n",
    "print(sorted(s))"
   ]
  },
  {
   "cell_type": "markdown",
   "id": "9b78f88e-ccc9-4026-b518-8bc2c26b33b8",
   "metadata": {},
   "source": [
    "# capitalize/title/upper/lower/swapcase"
   ]
  },
  {
   "cell_type": "code",
   "execution_count": 43,
   "id": "74644738-3cdb-4abf-82d5-389154c0c482",
   "metadata": {},
   "outputs": [
    {
     "name": "stdout",
     "output_type": "stream",
     "text": [
      "Hello word\n",
      "Hello Word\n",
      "HELLO WORD\n",
      "syed mansoor shafi\n",
      "syed MOHAMMAD shafi\n"
     ]
    }
   ],
   "source": [
    "s = 'hello word'\n",
    "print(s.capitalize())\n",
    "\n",
    "print(s.title())\n",
    "print(s.upper())\n",
    "\n",
    "name = 'SYED MANSOOR SHAFI'\n",
    "print(name.lower())\n",
    "\n",
    "fathers_name = 'SYED mohammad SHAFI'\n",
    "print(fathers_name.swapcase())"
   ]
  },
  {
   "cell_type": "markdown",
   "id": "abe4fa33-0864-44a4-bdfd-fb428f580b34",
   "metadata": {},
   "source": [
    "# count /find/index"
   ]
  },
  {
   "cell_type": "code",
   "execution_count": 45,
   "id": "ca9dc6d9-b25f-4db1-a283-1a6328cbad38",
   "metadata": {},
   "outputs": [
    {
     "name": "stdout",
     "output_type": "stream",
     "text": [
      "1\n"
     ]
    }
   ],
   "source": [
    "name = 'my name is syed mansoor'\n",
    "print(name.count('i'))"
   ]
  },
  {
   "cell_type": "code",
   "execution_count": 48,
   "id": "e5311960-3253-41d8-befa-6a0a1b0a374d",
   "metadata": {},
   "outputs": [
    {
     "name": "stdout",
     "output_type": "stream",
     "text": [
      "8\n",
      "-1\n"
     ]
    }
   ],
   "source": [
    "name = 'my name is syed mansoor'\n",
    "print(name.find('is'))\n",
    "print(name.find('hello')) # when the string is not present"
   ]
  },
  {
   "cell_type": "code",
   "execution_count": 50,
   "id": "07936e64-a78e-4a9c-8e7a-f52017a96680",
   "metadata": {},
   "outputs": [
    {
     "ename": "ValueError",
     "evalue": "substring not found",
     "output_type": "error",
     "traceback": [
      "\u001b[1;31m---------------------------------------------------------------------------\u001b[0m",
      "\u001b[1;31mValueError\u001b[0m                                Traceback (most recent call last)",
      "Cell \u001b[1;32mIn[50], line 2\u001b[0m\n\u001b[0;32m      1\u001b[0m name \u001b[38;5;241m=\u001b[39m \u001b[38;5;124m'\u001b[39m\u001b[38;5;124mmy name is syed mansoor\u001b[39m\u001b[38;5;124m'\u001b[39m\n\u001b[1;32m----> 2\u001b[0m \u001b[38;5;28mprint\u001b[39m(\u001b[43mname\u001b[49m\u001b[38;5;241;43m.\u001b[39;49m\u001b[43mindex\u001b[49m\u001b[43m(\u001b[49m\u001b[38;5;124;43m'\u001b[39;49m\u001b[38;5;124;43mhello\u001b[39;49m\u001b[38;5;124;43m'\u001b[39;49m\u001b[43m)\u001b[49m) \u001b[38;5;66;03m# this will throw error when the string is not present\u001b[39;00m\n",
      "\u001b[1;31mValueError\u001b[0m: substring not found"
     ]
    }
   ],
   "source": [
    "name = 'my name is syed mansoor'\n",
    "print(name.index('hello')) # this will throw error when the string is not present"
   ]
  },
  {
   "cell_type": "markdown",
   "id": "9ad06c19-fb27-48ca-b47f-faa7a66ea8f1",
   "metadata": {},
   "source": [
    "# endswith/startswith"
   ]
  },
  {
   "cell_type": "code",
   "execution_count": 51,
   "id": "d8df8636-1d6c-4700-b3ac-59625902e23c",
   "metadata": {},
   "outputs": [
    {
     "name": "stdout",
     "output_type": "stream",
     "text": [
      "True\n",
      "True\n"
     ]
    }
   ],
   "source": [
    "name = 'my name is syed mansoor'\n",
    "print(name.startswith('my'))\n",
    "print(name.endswith('or'))"
   ]
  },
  {
   "cell_type": "markdown",
   "id": "f0a4c114-7a4a-45e2-9de3-07bd246b4700",
   "metadata": {},
   "source": [
    "# .format"
   ]
  },
  {
   "cell_type": "code",
   "execution_count": 52,
   "id": "8d421c27-58fc-479e-8cf4-020696bb0c36",
   "metadata": {},
   "outputs": [
    {
     "data": {
      "text/plain": [
       "'hi my name is syed mansoor and i am a male'"
      ]
     },
     "execution_count": 52,
     "metadata": {},
     "output_type": "execute_result"
    }
   ],
   "source": [
    "name = 'syed mansoor'\n",
    "gender = 'male'\n",
    "'hi my name is {} and i am a {}'.format(name,gender)"
   ]
  },
  {
   "cell_type": "markdown",
   "id": "97d71ed7-ea3d-4c8f-bfcf-c8540c10d96e",
   "metadata": {},
   "source": [
    "# isalnum/isalpha/isdigit/isidentifier"
   ]
  },
  {
   "cell_type": "code",
   "execution_count": 53,
   "id": "3970d596-ad45-4f96-8a88-6bd96bbea232",
   "metadata": {},
   "outputs": [
    {
     "data": {
      "text/plain": [
       "False"
      ]
     },
     "execution_count": 53,
     "metadata": {},
     "output_type": "execute_result"
    }
   ],
   "source": [
    "'syed mansoor 1234'.isalnum()"
   ]
  },
  {
   "cell_type": "code",
   "execution_count": 54,
   "id": "e4b3f4f9-1436-49d6-aaf4-9f1172a3ce0e",
   "metadata": {},
   "outputs": [
    {
     "data": {
      "text/plain": [
       "False"
      ]
     },
     "execution_count": 54,
     "metadata": {},
     "output_type": "execute_result"
    }
   ],
   "source": [
    "'syed12'.isalpha()"
   ]
  },
  {
   "cell_type": "code",
   "execution_count": 55,
   "id": "789186ae-b276-4d99-b817-a2758f725bc6",
   "metadata": {},
   "outputs": [
    {
     "data": {
      "text/plain": [
       "True"
      ]
     },
     "execution_count": 55,
     "metadata": {},
     "output_type": "execute_result"
    }
   ],
   "source": [
    "'is'.isalpha()"
   ]
  },
  {
   "cell_type": "code",
   "execution_count": 56,
   "id": "5c0771c2-f0c9-4386-81cb-5a9418c9136b",
   "metadata": {},
   "outputs": [
    {
     "data": {
      "text/plain": [
       "False"
      ]
     },
     "execution_count": 56,
     "metadata": {},
     "output_type": "execute_result"
    }
   ],
   "source": [
    "'1234'.isidentifier()"
   ]
  },
  {
   "cell_type": "code",
   "execution_count": 58,
   "id": "f874f17c-f107-468b-be6b-46669f880864",
   "metadata": {},
   "outputs": [
    {
     "data": {
      "text/plain": [
       "False"
      ]
     },
     "execution_count": 58,
     "metadata": {},
     "output_type": "execute_result"
    }
   ],
   "source": [
    "'first_name1'.isalnum()"
   ]
  },
  {
   "cell_type": "markdown",
   "id": "d39f864f-e3b6-48e4-9261-6152ace58165",
   "metadata": {},
   "source": [
    "# split/join"
   ]
  },
  {
   "cell_type": "code",
   "execution_count": 62,
   "id": "55f92ad5-544a-4a1a-bece-636f5fa8635f",
   "metadata": {},
   "outputs": [
    {
     "name": "stdout",
     "output_type": "stream",
     "text": [
      "['syed', 'mansoor', 'shafi']\n"
     ]
    }
   ],
   "source": [
    "name = 'syed  mansoor shafi'\n",
    "name = name.split()\n",
    "print(name)"
   ]
  },
  {
   "cell_type": "code",
   "execution_count": 68,
   "id": "973ffffc-61f5-4fe6-892b-64890065a4a1",
   "metadata": {},
   "outputs": [
    {
     "data": {
      "text/plain": [
       "'syed mansoor shafi'"
      ]
     },
     "execution_count": 68,
     "metadata": {},
     "output_type": "execute_result"
    }
   ],
   "source": [
    "' '.join(name)"
   ]
  },
  {
   "cell_type": "code",
   "execution_count": 70,
   "id": "9dbbe483-0373-45c0-b20f-9f4cd9424353",
   "metadata": {},
   "outputs": [
    {
     "name": "stdout",
     "output_type": "stream",
     "text": [
      "syed MANSOOR shafi\n"
     ]
    }
   ],
   "source": [
    "name = 'syed mansoor shafi'\n",
    "print(name.replace('mansoor','MANSOOR'))"
   ]
  },
  {
   "cell_type": "markdown",
   "id": "8a58baba-acda-4e98-8004-53210557d496",
   "metadata": {},
   "source": [
    "# strip"
   ]
  },
  {
   "cell_type": "code",
   "execution_count": 71,
   "id": "9f908dfc-736b-49bc-9933-6669d97000be",
   "metadata": {},
   "outputs": [
    {
     "name": "stdout",
     "output_type": "stream",
     "text": [
      "syed manssoor\n"
     ]
    }
   ],
   "source": [
    "name  = '        syed manssoor         '\n",
    "print(name.strip())"
   ]
  }
 ],
 "metadata": {
  "kernelspec": {
   "display_name": "Python 3 (ipykernel)",
   "language": "python",
   "name": "python3"
  },
  "language_info": {
   "codemirror_mode": {
    "name": "ipython",
    "version": 3
   },
   "file_extension": ".py",
   "mimetype": "text/x-python",
   "name": "python",
   "nbconvert_exporter": "python",
   "pygments_lexer": "ipython3",
   "version": "3.12.3"
  },
  "widgets": {
   "application/vnd.jupyter.widget-state+json": {
    "state": {},
    "version_major": 2,
    "version_minor": 0
   }
  }
 },
 "nbformat": 4,
 "nbformat_minor": 5
}
