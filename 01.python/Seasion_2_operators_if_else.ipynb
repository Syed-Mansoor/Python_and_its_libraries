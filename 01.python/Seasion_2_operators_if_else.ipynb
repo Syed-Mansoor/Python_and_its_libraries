{
 "cells": [
  {
   "cell_type": "markdown",
   "id": "5b31ffc6-9ccb-41e2-90ff-b4f6a8e1f1dc",
   "metadata": {},
   "source": [
    "# 1. Operators\n",
    "### . Arithmetic operators\n",
    "### . logical operators\n",
    "### . comparison operators\n",
    "### . membership operators\n",
    "### . assignment operators\n",
    "### . bitwise operators"
   ]
  },
  {
   "cell_type": "code",
   "execution_count": 1,
   "id": "36935663-50d1-432e-b883-149435bbe7d8",
   "metadata": {},
   "outputs": [
    {
     "name": "stdout",
     "output_type": "stream",
     "text": [
      "10\n",
      "0\n",
      "1.0\n",
      "1\n",
      "25\n",
      "3125\n",
      "0\n"
     ]
    }
   ],
   "source": [
    "# arithmetic operators\n",
    "a = 5\n",
    "b = 5\n",
    "print(a + b)\n",
    "print(a - b)\n",
    "print(a / b)\n",
    "print(a // b)\n",
    "print( a * b)\n",
    "print(a ** b)\n",
    "print( a % b)"
   ]
  },
  {
   "cell_type": "code",
   "execution_count": 2,
   "id": "c97f286f-a524-4b5e-bd87-7c7379d8017a",
   "metadata": {},
   "outputs": [
    {
     "name": "stdout",
     "output_type": "stream",
     "text": [
      "False\n",
      "False\n",
      "True\n",
      "True\n",
      "True\n",
      "False\n"
     ]
    }
   ],
   "source": [
    "# relational operators\n",
    "a = 5\n",
    "b = 5\n",
    "print( a > b)\n",
    "print( a < b)\n",
    "print( a >= b)\n",
    "print(a <= b)\n",
    "print( a == b)\n",
    "print( a != b)"
   ]
  },
  {
   "cell_type": "code",
   "execution_count": 3,
   "id": "32a03f8f-502b-4971-83a4-6683c821ce63",
   "metadata": {},
   "outputs": [
    {
     "name": "stdout",
     "output_type": "stream",
     "text": [
      "True\n",
      "True\n",
      "False\n"
     ]
    }
   ],
   "source": [
    "# logical operators\n",
    "# and or and not\n",
    "chemistry = 45\n",
    "physics = 89\n",
    "print( chemistry > 33 and physics > 80)\n",
    "print( chemistry > 33 or physics > 80)\n",
    "print(not(chemistry > 44))"
   ]
  },
  {
   "cell_type": "code",
   "execution_count": 4,
   "id": "706269d5-ef42-4df4-b91f-143bc90579ca",
   "metadata": {},
   "outputs": [
    {
     "name": "stdout",
     "output_type": "stream",
     "text": [
      "2\n"
     ]
    }
   ],
   "source": [
    "# bitwise operators\n",
    "print( 2 & 3)"
   ]
  },
  {
   "cell_type": "code",
   "execution_count": 5,
   "id": "cf90429c-fd11-4707-9a8b-cffdb60e00c6",
   "metadata": {},
   "outputs": [
    {
     "name": "stdout",
     "output_type": "stream",
     "text": [
      "3\n"
     ]
    }
   ],
   "source": [
    "print(2 | 3)"
   ]
  },
  {
   "cell_type": "code",
   "execution_count": 6,
   "id": "f7c6d2ac-2be6-479d-8a7c-e17c1d717cd5",
   "metadata": {},
   "outputs": [
    {
     "name": "stdout",
     "output_type": "stream",
     "text": [
      "1\n"
     ]
    }
   ],
   "source": [
    "print(2 ^ 3)"
   ]
  },
  {
   "cell_type": "code",
   "execution_count": 7,
   "id": "eb1b7803-f8da-4c66-9401-7c2adbcc6b3a",
   "metadata": {},
   "outputs": [
    {
     "name": "stdout",
     "output_type": "stream",
     "text": [
      "16\n",
      "0\n"
     ]
    }
   ],
   "source": [
    "print(2 << 3)\n",
    "print(2 >> 3)"
   ]
  },
  {
   "cell_type": "code",
   "execution_count": 8,
   "id": "c18b618e-8612-4e70-9d12-ebd67eb6a5d2",
   "metadata": {},
   "outputs": [
    {
     "name": "stdout",
     "output_type": "stream",
     "text": [
      "-4\n"
     ]
    }
   ],
   "source": [
    "print(~3)"
   ]
  },
  {
   "cell_type": "code",
   "execution_count": 9,
   "id": "250b4c1d-59d1-4344-882c-e7ba67a0c15c",
   "metadata": {},
   "outputs": [
    {
     "name": "stdout",
     "output_type": "stream",
     "text": [
      "2\n",
      "4\n",
      "2\n",
      "4\n",
      "2.0\n",
      "0.0\n"
     ]
    }
   ],
   "source": [
    "# assignment operator\n",
    "# =\n",
    "a = 2\n",
    "print(a)\n",
    "a += 2\n",
    "print(a)\n",
    "a -=2\n",
    "print(a)\n",
    "a *= 2\n",
    "print(a)\n",
    "a /= 2\n",
    "print(a)\n",
    "a %= 2\n",
    "print(a)"
   ]
  },
  {
   "cell_type": "code",
   "execution_count": 10,
   "id": "df273226-ca1b-485d-8ca5-3dd17d8d47fd",
   "metadata": {},
   "outputs": [
    {
     "name": "stdout",
     "output_type": "stream",
     "text": [
      "True\n"
     ]
    }
   ],
   "source": [
    "# membership operator\n",
    "# in not in\n",
    "a = 'delhi'\n",
    "print('l' in a)"
   ]
  },
  {
   "cell_type": "code",
   "execution_count": 11,
   "id": "ad4dbff3-7e5b-4a98-8afb-616b61ea59ac",
   "metadata": {},
   "outputs": [
    {
     "name": "stdin",
     "output_type": "stream",
     "text": [
      "Enter a number =  666\n"
     ]
    },
    {
     "name": "stdout",
     "output_type": "stream",
     "text": [
      "total = 18 \n"
     ]
    }
   ],
   "source": [
    "# find the sum of 3 digits number entered by the user\n",
    "user = int(input(\"Enter a number = \"))\n",
    "a = user % 10\n",
    "user =user // 10\n",
    "b = user % 10\n",
    "user = user // 10\n",
    "c = user % 10\n",
    "total = a + b + c\n",
    "print(f'{total = } ')"
   ]
  },
  {
   "cell_type": "markdown",
   "id": "81149739-8d92-4c1d-80ee-3672c3b15b85",
   "metadata": {},
   "source": [
    "# if else"
   ]
  },
  {
   "cell_type": "code",
   "execution_count": 12,
   "id": "10e28689-56de-4dcd-b84e-f85574d79aee",
   "metadata": {
    "scrolled": true
   },
   "outputs": [
    {
     "name": "stdin",
     "output_type": "stream",
     "text": [
      "enter your email =  saeedmansoor56@gmail.com\n",
      "enter your password =  1234\n"
     ]
    },
    {
     "name": "stdout",
     "output_type": "stream",
     "text": [
      "welcome\n"
     ]
    }
   ],
   "source": [
    "# login program and indentation\n",
    "# email = saeedmansoor@gmail.com and password = 1234\n",
    "user = input(\"enter your email = \")\n",
    "password = int(input('enter your password = '  ))\n",
    "if (user == 'saeedmansoor56@gmail.com') and (password == 1234):\n",
    "    print('welcome')\n",
    "else:\n",
    "    print('sorry incorrect email or password'\n",
    "    )"
   ]
  },
  {
   "cell_type": "code",
   "execution_count": 13,
   "id": "f3f8db76-15b6-414e-92b3-d5449d419885",
   "metadata": {},
   "outputs": [
    {
     "name": "stdin",
     "output_type": "stream",
     "text": [
      "enter your email =  saeedmansoor56@gmail.com\n",
      "enter your passoword =  1234\n"
     ]
    },
    {
     "name": "stdout",
     "output_type": "stream",
     "text": [
      "welcome\n"
     ]
    }
   ],
   "source": [
    "email = input(\"enter your email = \")\n",
    "password = int(input(\"enter your passoword = \"))\n",
    "if email == 'saeedmansoor56@gmail.com' and password == 1234:\n",
    "    print('welcome')\n",
    "elif email == 'saeedmansoor56@gmail.com' and password != 1234:\n",
    "    print('incorrect password')\n",
    "    password = input(\"enter your password\")\n",
    "    if password == 1234:\n",
    "        print('welcome finally')\n",
    "    else:\n",
    "        print('beta tumse na ho payega')\n",
    "else:\n",
    "    print('not correct')"
   ]
  },
  {
   "cell_type": "code",
   "execution_count": 14,
   "id": "93db15c8-01e2-4659-a747-442ffad36170",
   "metadata": {},
   "outputs": [
    {
     "name": "stdin",
     "output_type": "stream",
     "text": [
      "enter first number = 6\n",
      "enter second number = 5\n",
      "enter third number = 4\n"
     ]
    },
    {
     "name": "stdout",
     "output_type": "stream",
     "text": [
      "smallest  = 4\n"
     ]
    }
   ],
   "source": [
    "# if else examples\n",
    "# find the min of 3 given numbers\n",
    "num1 = int(input(\"enter first number =\"))\n",
    "num2= int(input(\"enter second number =\"))\n",
    "num3 = int(input(\"enter third number =\"))\n",
    "if num1 < num2 and num1 < num3:\n",
    "    smallest = num1\n",
    "    print(f'{smallest = }')\n",
    "elif num2 < num1 and num2 < num3:\n",
    "    smallest = num2\n",
    "    print(f'{smallest  = }')\n",
    "else:\n",
    "    smallest = num3\n",
    "    print(f'{smallest  = }')\n",
    "# menu driven program"
   ]
  },
  {
   "cell_type": "code",
   "execution_count": 15,
   "id": "8a86b944-0098-4981-a453-50d1b3fa8926",
   "metadata": {},
   "outputs": [
    {
     "name": "stdin",
     "output_type": "stream",
     "text": [
      "enter first number = 7\n",
      "enter the second number =  6\n",
      "+ , - , / , * *\n"
     ]
    },
    {
     "name": "stdout",
     "output_type": "stream",
     "text": [
      "42\n"
     ]
    }
   ],
   "source": [
    "# menu driven program\n",
    "fnum = int(input('enter first number ='))\n",
    "lnum = int(input(\"enter the second number = \"))\n",
    "operator = input(\"+ , - , / , *\")\n",
    "if operator == '+':\n",
    "    print(fnum + lnum)\n",
    "elif operator == '-':\n",
    "    print(fnum - lnum)\n",
    "elif operator == '/':\n",
    "    print(fnum / lnum)\n",
    "elif operator == '*':\n",
    "    print(fnum * lnum)\n",
    "else:\n",
    "    print('incorrect operator')"
   ]
  },
  {
   "cell_type": "markdown",
   "id": "6e2b452e-155b-41d6-80d5-9c186c9ff5a0",
   "metadata": {},
   "source": [
    "# Modules in python\n",
    "    . math\n",
    "    . keywords\n",
    "    . random\n",
    "    .datetime"
   ]
  },
  {
   "cell_type": "code",
   "execution_count": 16,
   "id": "9c3295dc-ec09-4234-84f3-96da6d43bf0e",
   "metadata": {},
   "outputs": [
    {
     "data": {
      "text/plain": [
       "2.23606797749979"
      ]
     },
     "execution_count": 16,
     "metadata": {},
     "output_type": "execute_result"
    }
   ],
   "source": [
    "# math\n",
    "import math\n",
    "\n",
    "math.sqrt(5)"
   ]
  },
  {
   "cell_type": "code",
   "execution_count": 17,
   "id": "ee9bc05a-6178-4357-b885-ac44b67630b0",
   "metadata": {},
   "outputs": [
    {
     "data": {
      "text/plain": [
       "-0.7568024953079282"
      ]
     },
     "execution_count": 17,
     "metadata": {},
     "output_type": "execute_result"
    }
   ],
   "source": [
    "math.sin(4)"
   ]
  },
  {
   "cell_type": "code",
   "execution_count": 18,
   "id": "1886f112-0437-45df-abb0-710a4beb4406",
   "metadata": {},
   "outputs": [
    {
     "data": {
      "text/plain": [
       "['False',\n",
       " 'None',\n",
       " 'True',\n",
       " 'and',\n",
       " 'as',\n",
       " 'assert',\n",
       " 'async',\n",
       " 'await',\n",
       " 'break',\n",
       " 'class',\n",
       " 'continue',\n",
       " 'def',\n",
       " 'del',\n",
       " 'elif',\n",
       " 'else',\n",
       " 'except',\n",
       " 'finally',\n",
       " 'for',\n",
       " 'from',\n",
       " 'global',\n",
       " 'if',\n",
       " 'import',\n",
       " 'in',\n",
       " 'is',\n",
       " 'lambda',\n",
       " 'nonlocal',\n",
       " 'not',\n",
       " 'or',\n",
       " 'pass',\n",
       " 'raise',\n",
       " 'return',\n",
       " 'try',\n",
       " 'while',\n",
       " 'with',\n",
       " 'yield']"
      ]
     },
     "execution_count": 18,
     "metadata": {},
     "output_type": "execute_result"
    }
   ],
   "source": [
    "import keyword\n",
    "\n",
    "keyword.kwlist"
   ]
  },
  {
   "cell_type": "code",
   "execution_count": 19,
   "id": "5a6270f5-dec4-4336-8d79-48059ecd0760",
   "metadata": {},
   "outputs": [
    {
     "data": {
      "text/plain": [
       "<function frozenset.__contains__>"
      ]
     },
     "execution_count": 19,
     "metadata": {},
     "output_type": "execute_result"
    }
   ],
   "source": [
    "keyword.issoftkeyword"
   ]
  },
  {
   "cell_type": "code",
   "execution_count": 20,
   "id": "7aea984e-7658-4d10-8330-07ec10afe224",
   "metadata": {},
   "outputs": [],
   "source": [
    "import random"
   ]
  },
  {
   "cell_type": "code",
   "execution_count": 21,
   "id": "ce3455b0-5de7-4c4a-a0e2-4bbe1dbc0ff5",
   "metadata": {},
   "outputs": [
    {
     "data": {
      "text/plain": [
       "28"
      ]
     },
     "execution_count": 21,
     "metadata": {},
     "output_type": "execute_result"
    }
   ],
   "source": [
    "random.randint(1,100)"
   ]
  },
  {
   "cell_type": "code",
   "execution_count": 22,
   "id": "4cf45273-f458-4dab-946b-b4a140f7d20e",
   "metadata": {},
   "outputs": [
    {
     "data": {
      "text/plain": [
       "datetime.datetime(2024, 5, 3, 12, 34, 5, 791296)"
      ]
     },
     "execution_count": 22,
     "metadata": {},
     "output_type": "execute_result"
    }
   ],
   "source": [
    "import datetime\n",
    "\n",
    "datetime.datetime.now()"
   ]
  },
  {
   "cell_type": "code",
   "execution_count": 23,
   "id": "93623f3a-b692-4fdb-9c6b-bd67175f3fb9",
   "metadata": {},
   "outputs": [],
   "source": [
    "# help('modules')"
   ]
  },
  {
   "cell_type": "markdown",
   "id": "11221a34-6ea0-46b9-aae1-d1a338681ee7",
   "metadata": {},
   "source": [
    "# loops in python\n",
    "    . need for loops\n",
    "    . while loops\n",
    "    . for loop\n"
   ]
  },
  {
   "cell_type": "code",
   "execution_count": 29,
   "id": "3ece9280-7ca0-4c60-baa7-0a1ec6e134c6",
   "metadata": {},
   "outputs": [
    {
     "name": "stdin",
     "output_type": "stream",
     "text": [
      "enter a number =  6\n"
     ]
    },
    {
     "name": "stdout",
     "output_type": "stream",
     "text": [
      "6 X 1 = 6\n",
      "6 X 2 = 12\n",
      "6 X 3 = 18\n",
      "6 X 4 = 24\n",
      "6 X 5 = 30\n",
      "6 X 6 = 36\n",
      "6 X 7 = 42\n",
      "6 X 8 = 48\n",
      "6 X 9 = 54\n",
      "6 X 10 = 60\n"
     ]
    },
    {
     "name": "stdin",
     "output_type": "stream",
     "text": [
      "enter a number =  5\n",
      "enter a number =  5\n",
      "enter a number =  6\n",
      "enter a number =  77\n",
      "enter a number =  8\n",
      "enter a number =  9\n",
      "enter a number =  0\n"
     ]
    },
    {
     "name": "stdout",
     "output_type": "stream",
     "text": [
      "110\n",
      "15.714285714285714\n"
     ]
    }
   ],
   "source": [
    "# while loop example -> program to print the table\n",
    "num = int(input(\"enter a number = \"))\n",
    "i = 1\n",
    "while i <= 10:\n",
    "    print(num,'X',i,'=',num * i)\n",
    "    i = i + 1\n",
    "# program -> sum of all digits of a given number\n",
    "\n",
    "# program -> keep accepting from users till he/she enters 0 and then find the average\n",
    "total = 0\n",
    "count  = 0\n",
    "while True:\n",
    "    num = int(input(\"enter a number = \"))\n",
    "    total = total + num\n",
    "    count += 1\n",
    "    average = total / count\n",
    "    if num == 0:\n",
    "        break\n",
    "    \n",
    "print(total)\n",
    "print(average)"
   ]
  },
  {
   "cell_type": "code",
   "execution_count": 30,
   "id": "279e40ac-4d5d-48d8-b9aa-83b1a2a30f14",
   "metadata": {},
   "outputs": [
    {
     "name": "stdin",
     "output_type": "stream",
     "text": [
      "guess =  56\n"
     ]
    },
    {
     "name": "stdout",
     "output_type": "stream",
     "text": [
      "galat ! guess lower\n"
     ]
    },
    {
     "name": "stdin",
     "output_type": "stream",
     "text": [
      "guess =  34\n"
     ]
    },
    {
     "name": "stdout",
     "output_type": "stream",
     "text": [
      "galat ! guess lower\n"
     ]
    },
    {
     "name": "stdin",
     "output_type": "stream",
     "text": [
      "guess =  2\n"
     ]
    },
    {
     "name": "stdout",
     "output_type": "stream",
     "text": [
      "guess higher\n"
     ]
    },
    {
     "name": "stdin",
     "output_type": "stream",
     "text": [
      "guess =  34\n"
     ]
    },
    {
     "name": "stdout",
     "output_type": "stream",
     "text": [
      "galat ! guess lower\n"
     ]
    },
    {
     "name": "stdin",
     "output_type": "stream",
     "text": [
      "guess =  22\n"
     ]
    },
    {
     "name": "stdout",
     "output_type": "stream",
     "text": [
      "galat ! guess lower\n"
     ]
    },
    {
     "name": "stdin",
     "output_type": "stream",
     "text": [
      "guess =  1\n"
     ]
    },
    {
     "name": "stdout",
     "output_type": "stream",
     "text": [
      "guess higher\n"
     ]
    },
    {
     "name": "stdin",
     "output_type": "stream",
     "text": [
      "guess =  23\n"
     ]
    },
    {
     "name": "stdout",
     "output_type": "stream",
     "text": [
      "galat ! guess lower\n"
     ]
    },
    {
     "name": "stdin",
     "output_type": "stream",
     "text": [
      "guess =  20\n"
     ]
    },
    {
     "name": "stdout",
     "output_type": "stream",
     "text": [
      "galat ! guess lower\n"
     ]
    },
    {
     "name": "stdin",
     "output_type": "stream",
     "text": [
      "guess =  2\n"
     ]
    },
    {
     "name": "stdout",
     "output_type": "stream",
     "text": [
      "guess higher\n"
     ]
    },
    {
     "name": "stdin",
     "output_type": "stream",
     "text": [
      "guess =  5\n"
     ]
    },
    {
     "name": "stdout",
     "output_type": "stream",
     "text": [
      "guess higher\n"
     ]
    },
    {
     "name": "stdin",
     "output_type": "stream",
     "text": [
      "guess =  6\n"
     ]
    },
    {
     "name": "stdout",
     "output_type": "stream",
     "text": [
      "guess higher\n"
     ]
    },
    {
     "name": "stdin",
     "output_type": "stream",
     "text": [
      "guess =  7\n"
     ]
    },
    {
     "name": "stdout",
     "output_type": "stream",
     "text": [
      "guess higher\n"
     ]
    },
    {
     "name": "stdin",
     "output_type": "stream",
     "text": [
      "guess =  8\n"
     ]
    },
    {
     "name": "stdout",
     "output_type": "stream",
     "text": [
      "guess higher\n"
     ]
    },
    {
     "name": "stdin",
     "output_type": "stream",
     "text": [
      "guess =  9\n"
     ]
    },
    {
     "name": "stdout",
     "output_type": "stream",
     "text": [
      "guess higher\n"
     ]
    },
    {
     "name": "stdin",
     "output_type": "stream",
     "text": [
      "guess =  10\n"
     ]
    },
    {
     "name": "stdout",
     "output_type": "stream",
     "text": [
      "guess higher\n"
     ]
    },
    {
     "name": "stdin",
     "output_type": "stream",
     "text": [
      "guess =  15\n"
     ]
    },
    {
     "name": "stdout",
     "output_type": "stream",
     "text": [
      "guess higher\n"
     ]
    },
    {
     "name": "stdin",
     "output_type": "stream",
     "text": [
      "guess =  18\n"
     ]
    },
    {
     "name": "stdout",
     "output_type": "stream",
     "text": [
      "guess higher\n"
     ]
    },
    {
     "name": "stdin",
     "output_type": "stream",
     "text": [
      "guess =  21\n"
     ]
    },
    {
     "name": "stdout",
     "output_type": "stream",
     "text": [
      "galat ! guess lower\n"
     ]
    },
    {
     "name": "stdin",
     "output_type": "stream",
     "text": [
      "guess =  19\n"
     ]
    },
    {
     "name": "stdout",
     "output_type": "stream",
     "text": [
      "correct guess = \n",
      "attempts 19\n"
     ]
    }
   ],
   "source": [
    "# guessing game\n",
    "# we will generate a random integer betweem 1 and 100\n",
    "import random\n",
    "\n",
    "jackpot = random.randint(1,100)\n",
    "guess = int(input('guess = '))\n",
    "counter = 1\n",
    "while guess != jackpot:\n",
    "    if guess < jackpot:\n",
    "        print('guess higher')\n",
    "    else:\n",
    "        print('galat ! guess lower')\n",
    "    guess = int(input('guess = '))\n",
    "    counter += 1\n",
    "else:\n",
    "    print('correct guess = ')\n",
    "    print('attempts',counter)"
   ]
  },
  {
   "cell_type": "code",
   "execution_count": 31,
   "id": "04bab726-edd5-4dfe-8344-7a452d0ea2d5",
   "metadata": {},
   "outputs": [
    {
     "name": "stdout",
     "output_type": "stream",
     "text": [
      "0 1 2 3 4 "
     ]
    }
   ],
   "source": [
    "# for loop demo\n",
    "for i in range(5):\n",
    "    print(i,end = ' ')"
   ]
  },
  {
   "cell_type": "markdown",
   "id": "7b64be66-d163-4a4e-84bf-3e81f03b08b8",
   "metadata": {},
   "source": [
    "# for loop examples"
   ]
  },
  {
   "cell_type": "raw",
   "id": "06761327-769c-4b13-a5cd-7f8203dd059c",
   "metadata": {},
   "source": [
    "program- the current population of a town is 10000.the population of the town is increasing at the rate of 10% per year.you have to write a program to find out the population at the end of each of the last 10 years?"
   ]
  },
  {
   "cell_type": "code",
   "execution_count": 1,
   "id": "308b4260-3938-474c-835d-42c78a99df67",
   "metadata": {},
   "outputs": [
    {
     "name": "stdout",
     "output_type": "stream",
     "text": [
      "10 10000\n",
      "9 9090.90909090909\n",
      "8 8264.462809917353\n",
      "7 7513.148009015775\n",
      "6 6830.134553650703\n",
      "5 6209.213230591548\n",
      "4 5644.739300537771\n",
      "3 5131.5811823070635\n",
      "2 4665.07380209733\n",
      "1 4240.976183724845\n"
     ]
    }
   ],
   "source": [
    "curr_pop = 10000\n",
    "for i in range(10,0,-1):\n",
    "    print(i,curr_pop)\n",
    "    curr_pop = curr_pop/1.1"
   ]
  },
  {
   "cell_type": "markdown",
   "id": "12f73843-79ad-41a2-9d7d-153644ee6292",
   "metadata": {},
   "source": [
    "# sequence 1/1! + 2/2! + 3/3! + ...."
   ]
  },
  {
   "cell_type": "code",
   "execution_count": 3,
   "id": "499a35fc-4c13-41be-be96-ccd4d74e96b2",
   "metadata": {},
   "outputs": [
    {
     "name": "stdin",
     "output_type": "stream",
     "text": [
      "enter a number =  4\n"
     ]
    },
    {
     "name": "stdout",
     "output_type": "stream",
     "text": [
      "24\n"
     ]
    }
   ],
   "source": [
    "num = int(input(\"enter a number = \"))\n",
    "result = 0\n",
    "fact = 1\n",
    "for i in range(1,num + 1):\n",
    "    fact *= i\n",
    "    result = result + i/fact\n",
    "print(fact)"
   ]
  },
  {
   "cell_type": "markdown",
   "id": "f59bde4c-1ce8-44b5-ae25-b6990ac24178",
   "metadata": {},
   "source": [
    "# Nested loops"
   ]
  },
  {
   "cell_type": "code",
   "execution_count": 8,
   "id": "bd606daa-877a-4108-a73d-1d2afa94fabc",
   "metadata": {
    "scrolled": true
   },
   "outputs": [
    {
     "name": "stdout",
     "output_type": "stream",
     "text": [
      "* \n",
      "* * \n",
      "* * * \n",
      "* * * * \n",
      "* * * * * \n"
     ]
    }
   ],
   "source": [
    "# prnit the pattern\n",
    "for i in range(5):\n",
    "    for j in range(i+1):\n",
    "        print('*',end= ' ')\n",
    "    print()"
   ]
  },
  {
   "cell_type": "code",
   "execution_count": 7,
   "id": "d6e0f890-320e-4b7c-9f31-ae0b3aecf8c7",
   "metadata": {
    "scrolled": true
   },
   "outputs": [
    {
     "name": "stdout",
     "output_type": "stream",
     "text": [
      "1 1\n",
      "1 2\n",
      "1 3\n",
      "1 4\n",
      "2 1\n",
      "2 2\n",
      "2 3\n",
      "2 4\n",
      "3 1\n",
      "3 2\n",
      "3 3\n",
      "3 4\n",
      "4 1\n",
      "4 2\n",
      "4 3\n",
      "4 4\n"
     ]
    }
   ],
   "source": [
    "for i in range(1,5):\n",
    "    for j in range(1,5):\n",
    "        print(i,j)"
   ]
  },
  {
   "cell_type": "code",
   "execution_count": 9,
   "id": "c8f08654-99e8-4a0d-9416-c65ba0f7e0cf",
   "metadata": {},
   "outputs": [
    {
     "name": "stdin",
     "output_type": "stream",
     "text": [
      "enter num =  5\n"
     ]
    },
    {
     "name": "stdout",
     "output_type": "stream",
     "text": [
      "* \n",
      "* * \n",
      "* * * \n",
      "* * * * \n",
      "* * * * * \n",
      "* * * * * * \n"
     ]
    }
   ],
   "source": [
    "num :int = int(input('enter num = '))\n",
    "for i in range(num + 1):\n",
    "    for j in range(i + 1):\n",
    "        print('*',end = ' ')\n",
    "    print()"
   ]
  },
  {
   "cell_type": "code",
   "execution_count": 40,
   "id": "8fa9e5fd-df52-4082-a6fa-59a6cbad7c22",
   "metadata": {},
   "outputs": [
    {
     "name": "stdout",
     "output_type": "stream",
     "text": [
      "1 \n",
      "1 2 1 \n",
      "1 2 3 2 1 \n",
      "1 2 3 4 3 2 1 \n"
     ]
    }
   ],
   "source": [
    "for i in range(1,5):\n",
    "    for j in range(1,i+1):\n",
    "        print(j,end = ' ')\n",
    "    for k in range(i - 1,0,-1):\n",
    "        print(k,end = ' ')\n",
    "    print()"
   ]
  },
  {
   "cell_type": "markdown",
   "id": "752303a5-af82-4e89-9ca9-939be6cb19ea",
   "metadata": {},
   "source": [
    "# loop control statements\n",
    "    . break\n",
    "    . continue\n",
    "    . pass"
   ]
  },
  {
   "cell_type": "code",
   "execution_count": 43,
   "id": "50ab4e75-1702-43a7-be81-a0138336824c",
   "metadata": {},
   "outputs": [
    {
     "name": "stdout",
     "output_type": "stream",
     "text": [
      "0 1 2 3 4 "
     ]
    }
   ],
   "source": [
    "for i in range(10):\n",
    "    if i == 5:\n",
    "        break\n",
    "    print(i,end = ' ')"
   ]
  },
  {
   "cell_type": "code",
   "execution_count": 44,
   "id": "19de23ca-b1ad-43bc-916d-f8099c234b0d",
   "metadata": {},
   "outputs": [
    {
     "name": "stdout",
     "output_type": "stream",
     "text": [
      "s y e d   m "
     ]
    }
   ],
   "source": [
    "\n",
    "for i in 'syed mansoor':\n",
    "    if i == 'a':\n",
    "        break\n",
    "    print(i,end = ' ')"
   ]
  },
  {
   "cell_type": "code",
   "execution_count": 52,
   "id": "883794e7-0d1b-4e24-9c9a-ed9b70053b97",
   "metadata": {},
   "outputs": [
    {
     "name": "stdin",
     "output_type": "stream",
     "text": [
      "enter lower range =  10\n",
      "enter upper range =  100\n"
     ]
    },
    {
     "name": "stdout",
     "output_type": "stream",
     "text": [
      "11 13 17 19 23 29 31 37 41 43 47 53 59 61 67 71 73 79 83 89 97 "
     ]
    }
   ],
   "source": [
    "lower = int(input(\"enter lower range = \"))\n",
    "upper = int(input(\"enter upper range = \"))\n",
    "for i in range(lower, upper + 1):\n",
    "    for j in range(2,i):\n",
    "        if i % j == 0:\n",
    "            break\n",
    "    else:\n",
    "        print(i,end = ' ')"
   ]
  },
  {
   "cell_type": "code",
   "execution_count": 53,
   "id": "0deae1d7-24e9-41ee-ad01-ef9f510b115a",
   "metadata": {},
   "outputs": [
    {
     "name": "stdout",
     "output_type": "stream",
     "text": [
      "0 1 2 3 4 6 7 8 9 "
     ]
    }
   ],
   "source": [
    "# continue\n",
    "for i in range(10):\n",
    "    if i == 5:\n",
    "        continue\n",
    "    print(i,end = ' ')"
   ]
  },
  {
   "cell_type": "code",
   "execution_count": 54,
   "id": "096b3334-c987-45a4-8d6e-3a530f7d17a0",
   "metadata": {},
   "outputs": [
    {
     "name": "stdin",
     "output_type": "stream",
     "text": [
      "enter lower range =  10\n",
      "enter upper range =  100\n"
     ]
    },
    {
     "name": "stdout",
     "output_type": "stream",
     "text": [
      "10 11 12 13 14 15 16 17 18 19 20 21 22 23 24 25 26 27 28 29 30 31 32 33 34 35 36 37 38 39 40 41 42 43 44 45 46 47 48 49 50 51 52 53 54 55 56 57 58 59 60 61 62 63 64 65 66 67 68 69 70 71 72 73 74 75 76 77 78 79 80 81 82 83 84 85 86 87 88 89 90 91 92 93 94 95 96 97 98 99 100 "
     ]
    }
   ],
   "source": [
    "lower = int(input(\"enter lower range = \"))\n",
    "upper = int(input('enter upper range = '))\n",
    "for i in range(lower,upper + 1):\n",
    "    for j in range(2,i):\n",
    "        if i % j == 0:\n",
    "            continue\n",
    "    else:\n",
    "        print(i,end = ' ')\n",
    "    "
   ]
  },
  {
   "cell_type": "code",
   "execution_count": 55,
   "id": "233b37ac-f20f-4f73-9513-746bf3cb1e67",
   "metadata": {},
   "outputs": [],
   "source": [
    "for i in range(19):\n",
    "    pass"
   ]
  },
  {
   "cell_type": "code",
   "execution_count": null,
   "id": "7cf48771-6299-441a-96a1-57e457507b1e",
   "metadata": {},
   "outputs": [],
   "source": []
  }
 ],
 "metadata": {
  "kernelspec": {
   "display_name": "Python 3 (ipykernel)",
   "language": "python",
   "name": "python3"
  },
  "language_info": {
   "codemirror_mode": {
    "name": "ipython",
    "version": 3
   },
   "file_extension": ".py",
   "mimetype": "text/x-python",
   "name": "python",
   "nbconvert_exporter": "python",
   "pygments_lexer": "ipython3",
   "version": "3.12.3"
  },
  "widgets": {
   "application/vnd.jupyter.widget-state+json": {
    "state": {},
    "version_major": 2,
    "version_minor": 0
   }
  }
 },
 "nbformat": 4,
 "nbformat_minor": 5
}
