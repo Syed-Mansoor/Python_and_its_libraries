{
 "cells": [
  {
   "cell_type": "code",
   "execution_count": 15,
   "id": "d9cfc2d3-121c-49c5-a39f-4d88baeff389",
   "metadata": {},
   "outputs": [],
   "source": [
    "# ATM Machine code\n",
    "class ATM: # pascal case \n",
    "    # constructor\n",
    "    def __init__(self):\n",
    "        self.pin = ''\n",
    "        self.__balance = 0\n",
    "        self.menu()\n",
    "    def menu(self):\n",
    "        user_input =input(\"\"\"\n",
    "        Hi how can i help you?\n",
    "        1.press 1 to create pin\n",
    "        2.Press 2 t change pin\n",
    "        3.press 3 to check banlance\n",
    "        4.press 4 to withdraw\n",
    "        5.Anything else to exit\n",
    "        \"\"\")\n",
    "        if user_input == '1':\n",
    "            # create pin\n",
    "            self.create_pin()\n",
    "        elif user_input == '2':\n",
    "            # change pin\n",
    "            self.change_pin()\n",
    "        elif user_input == '3':\n",
    "            # check balance\n",
    "            self.check_balance()\n",
    "        elif user_input == '4':\n",
    "            # withdraw\n",
    "            self.withdraw()\n",
    "        elif user_input == '5':\n",
    "            # exit\n",
    "            exit()\n",
    "    def create_pin(self):\n",
    "        user_input = input(\"Enter your pin = \")\n",
    "        self.pin = user_input\n",
    "        user_balance = int(input(\"Enter your balance = \"))\n",
    "        self.__balance = user_balance\n",
    "        print(\"Pin created successfully\")\n",
    "        self.menu()\n",
    "    def change_pin(self):\n",
    "        old_pin = input('enter old pin =')\n",
    "        if old_pin == self.pin:\n",
    "            # let him change the pin\n",
    "            new_pin = input(\"Enter new pin =\")\n",
    "            self.pin = new_pin\n",
    "            self.menu()\n",
    "        else:\n",
    "            print(\"u have entered wrong pin \")\n",
    "            self.menu()\n",
    "    def check_balance(self):\n",
    "        user_pin = input(\"Enter your pin = \")\n",
    "        if user_pin == self.pin:\n",
    "            print(f\" Your balance :{self.__balance}\")\n",
    "        else:\n",
    "            print(\"You have entered an wrong pin = \")\n",
    "        self.menu()\n",
    "    def withdraw(self):\n",
    "        user_pin = input(\"Enter your pin = \")\n",
    "        if user_pin == self.pin:\n",
    "            # allow to withdraw\n",
    "            amt = int(input(\"Enter amount = \"))\n",
    "            if amt <= self.balance:\n",
    "                self.__balance -= amt\n",
    "                print(\"Withdrawal successful\",self.balance)\n",
    "                \n",
    "                \n",
    "            else:\n",
    "                print(\"Insufficient Balance\")\n",
    "        else:\n",
    "            print(\"Sorry you have entered an wrong pin = \")\n",
    "        self.menu()\n",
    "    "
   ]
  },
  {
   "cell_type": "code",
   "execution_count": 16,
   "id": "21307fb1-2dae-49e0-aeaf-1627eb43bb29",
   "metadata": {},
   "outputs": [
    {
     "name": "stdin",
     "output_type": "stream",
     "text": [
      "\n",
      "        Hi how can i help you?\n",
      "        1.press 1 to create pin\n",
      "        2.Press 2 t change pin\n",
      "        3.press 3 to check banlance\n",
      "        4.press 4 to withdraw\n",
      "        5.Anything else to exit\n",
      "         1\n",
      "Enter your pin =  1234\n",
      "Enter your balance =  10000\n"
     ]
    },
    {
     "name": "stdout",
     "output_type": "stream",
     "text": [
      "Pin created successfully\n"
     ]
    },
    {
     "name": "stdin",
     "output_type": "stream",
     "text": [
      "\n",
      "        Hi how can i help you?\n",
      "        1.press 1 to create pin\n",
      "        2.Press 2 t change pin\n",
      "        3.press 3 to check banlance\n",
      "        4.press 4 to withdraw\n",
      "        5.Anything else to exit\n",
      "         2\n",
      "enter old pin = 1234\n",
      "Enter new pin = 1\n",
      "\n",
      "        Hi how can i help you?\n",
      "        1.press 1 to create pin\n",
      "        2.Press 2 t change pin\n",
      "        3.press 3 to check banlance\n",
      "        4.press 4 to withdraw\n",
      "        5.Anything else to exit\n",
      "         3\n",
      "Enter your pin =  1\n"
     ]
    },
    {
     "name": "stdout",
     "output_type": "stream",
     "text": [
      " Your balance :10000\n"
     ]
    },
    {
     "name": "stdin",
     "output_type": "stream",
     "text": [
      "\n",
      "        Hi how can i help you?\n",
      "        1.press 1 to create pin\n",
      "        2.Press 2 t change pin\n",
      "        3.press 3 to check banlance\n",
      "        4.press 4 to withdraw\n",
      "        5.Anything else to exit\n",
      "         5\n"
     ]
    }
   ],
   "source": [
    "a = ATM()"
   ]
  },
  {
   "cell_type": "code",
   "execution_count": 2,
   "id": "619fe65a-b424-46ea-b6aa-83264f8c3f46",
   "metadata": {},
   "outputs": [],
   "source": [
    "# magic methods are super methods with some super powers"
   ]
  },
  {
   "cell_type": "code",
   "execution_count": 3,
   "id": "28337fb5-a69a-46d1-82d0-e9b47101c0bf",
   "metadata": {},
   "outputs": [],
   "source": [
    "# constructor is a method special method which gets trigger when we make an object of the class"
   ]
  },
  {
   "cell_type": "code",
   "execution_count": 4,
   "id": "4f701952-0858-4633-96b0-e843f8212f8b",
   "metadata": {},
   "outputs": [],
   "source": [
    "# constructor is used to write configuration related code"
   ]
  },
  {
   "cell_type": "markdown",
   "id": "88815d61-0c5c-4503-8cdc-cbc9164bf3d6",
   "metadata": {},
   "source": [
    "# Making our own datatypes"
   ]
  },
  {
   "cell_type": "code",
   "execution_count": 14,
   "id": "0db97c8d-72d8-4aa9-99f7-514773e470a1",
   "metadata": {},
   "outputs": [
    {
     "name": "stdout",
     "output_type": "stream",
     "text": [
      "3/4\n",
      "<class '__main__.Fraction'>\n",
      "32/16\n",
      "-8/16\n",
      "15/16\n",
      "12/20\n"
     ]
    },
    {
     "data": {
      "text/plain": [
       "0.75"
      ]
     },
     "execution_count": 14,
     "metadata": {},
     "output_type": "execute_result"
    }
   ],
   "source": [
    "class Fraction:\n",
    "    # parameterized constructor\n",
    "    def __init__(self,x,y):\n",
    "        self.num =x\n",
    "        self.den = y\n",
    "    def __str__(self):\n",
    "        return '{}/{}'.format(self.num,self.den)\n",
    "    def __add__(self,other):\n",
    "        new_num = self.num*other.den + other.num * self.den\n",
    "        new_den = self.den*other.den\n",
    "        return '{}/{}'.format(new_num,new_den)\n",
    "    def __sub__(self,other):\n",
    "        new_num = self.num*other.den - other.num * self.den\n",
    "        new_den = self.den*other.den\n",
    "        return '{}/{}'.format(new_num,new_den)\n",
    "    \n",
    "    def __mul__(self,other):\n",
    "        new_num = self.num*other.num\n",
    "        new_den = self.den*other.den\n",
    "        return '{}/{}'.format(new_num,new_den)\n",
    "    \n",
    "    def __truediv__(self,other):\n",
    "        new_num = self.num*other.den\n",
    "        new_den = self.den*other.num\n",
    "        return '{}/{}'.format(new_num,new_den)\n",
    "    def convert_to_decimal(self):\n",
    "        return self.num/self.den\n",
    "    \n",
    "fr1 = Fraction(3,4)\n",
    "print(fr1)\n",
    "print(type(fr1))\n",
    "fr2 = Fraction(5,4)\n",
    "print(fr1+fr2)\n",
    "print(fr1-fr2)\n",
    "print(fr1*fr2)\n",
    "print(fr1/fr2)\n",
    "fr1.convert_to_decimal()"
   ]
  }
 ],
 "metadata": {
  "kernelspec": {
   "display_name": "Python 3 (ipykernel)",
   "language": "python",
   "name": "python3"
  },
  "language_info": {
   "codemirror_mode": {
    "name": "ipython",
    "version": 3
   },
   "file_extension": ".py",
   "mimetype": "text/x-python",
   "name": "python",
   "nbconvert_exporter": "python",
   "pygments_lexer": "ipython3",
   "version": "3.12.2"
  },
  "widgets": {
   "application/vnd.jupyter.widget-state+json": {
    "state": {},
    "version_major": 2,
    "version_minor": 0
   }
  }
 },
 "nbformat": 4,
 "nbformat_minor": 5
}
