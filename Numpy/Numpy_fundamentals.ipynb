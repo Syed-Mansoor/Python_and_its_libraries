{
 "cells": [
  {
   "cell_type": "markdown",
   "id": "640bb20e-6580-429b-b298-b91bdbd72c31",
   "metadata": {},
   "source": [
    "# what is numpy?\n",
    "Numpy is the fundamental package for scientific computing in python.It is a python library that provides a multidimensional array object,various derived objects(such as masked arrays and matrices),and an assortment of routines for fast operations on arrays,including mathematical,logical ,shape manipulation,sorting,selecting,I/O,discreate fourier transforms,basic linear algebra,basic statistical operations,random simulation and much more.\n",
    "At the core of numpy package,is the ndarray object.This encapsulates n-dimensional arrays of homogeneous data types"
   ]
  },
  {
   "cell_type": "markdown",
   "id": "27055bbc-ab23-4868-888a-eee505b9d492",
   "metadata": {
    "jp-MarkdownHeadingCollapsed": true
   },
   "source": [
    "# Numpy array vs python sequances\n",
    ".Numpy arrays have a fixed size at creation,unlike python lists(which can grow dynamically).Changing the size of the ndarray will create a new array and delete the original.\n",
    ". The elements in a numpy array are all required to be of the same data type,and thus will be the same size in memory.\n",
    ". Numpy arrays facilitates advanced mathematical and other types of operations on large number of data .Typically,such operations are executed more efficently and with less code than is possible using python's builtin sequances.\n",
    ".A growing plethora of scientific and mathematical python -based packages are using Numpy arrays:though these typically support python-sequances input,they convert such input to numpy arrays prior to processing,and they often output Numpy arrays."
   ]
  },
  {
   "cell_type": "markdown",
   "id": "bec3465e-5138-49c0-89d7-85f00e7c8240",
   "metadata": {},
   "source": [
    "# creating numpy arrays"
   ]
  },
  {
   "cell_type": "code",
   "execution_count": 4,
   "id": "b34dcace-fc8b-4b23-bd04-e8694b4c91cc",
   "metadata": {},
   "outputs": [
    {
     "name": "stdout",
     "output_type": "stream",
     "text": [
      "[1 2 3 4]\n",
      "<class 'numpy.ndarray'>\n"
     ]
    }
   ],
   "source": [
    "# np.array\n",
    "import numpy as np\n",
    "arr =np.array([1,2,3,4])  #1D\n",
    "print(arr)\n",
    "print(type(arr))"
   ]
  },
  {
   "cell_type": "code",
   "execution_count": 5,
   "id": "6cec00b5-9137-4577-bcc0-c7698c766d98",
   "metadata": {},
   "outputs": [
    {
     "name": "stdout",
     "output_type": "stream",
     "text": [
      "[[1 2 3]\n",
      " [4 5 6]] <class 'numpy.ndarray'>\n"
     ]
    }
   ],
   "source": [
    "# 2D and 3D\n",
    "arr = np.array([[1,2,3],[4,5,6]])\n",
    "print(arr,type(arr))"
   ]
  },
  {
   "cell_type": "code",
   "execution_count": 6,
   "id": "a74c350a-5163-4696-bf70-88e4c0143469",
   "metadata": {},
   "outputs": [
    {
     "name": "stdout",
     "output_type": "stream",
     "text": [
      "[[[1 2]\n",
      "  [3 4]\n",
      "  [5 6]]] <class 'numpy.ndarray'>\n"
     ]
    }
   ],
   "source": [
    "c = np.array([[[1,2],[3,4],[5,6]]])\n",
    "print(c,type(c))"
   ]
  },
  {
   "cell_type": "code",
   "execution_count": 43,
   "id": "38f9f1d9-0401-4308-b40b-373e8f7cb326",
   "metadata": {},
   "outputs": [
    {
     "data": {
      "text/plain": [
       "array([1., 2., 3.])"
      ]
     },
     "execution_count": 43,
     "metadata": {},
     "output_type": "execute_result"
    }
   ],
   "source": [
    "# dtype\n",
    "np.array([1,2,3],dtype = float)"
   ]
  },
  {
   "cell_type": "code",
   "execution_count": 44,
   "id": "65bf84c8-5895-4d8b-aa2b-e387a20bc58b",
   "metadata": {},
   "outputs": [
    {
     "data": {
      "text/plain": [
       "array([ True,  True,  True])"
      ]
     },
     "execution_count": 44,
     "metadata": {},
     "output_type": "execute_result"
    }
   ],
   "source": [
    "np.array([1,2,3],dtype = bool)"
   ]
  },
  {
   "cell_type": "code",
   "execution_count": 45,
   "id": "54b7f091-053b-46af-bdd8-8be0720c773e",
   "metadata": {},
   "outputs": [
    {
     "data": {
      "text/plain": [
       "array([1. , 1.5, 2. , 2.5, 3. , 3.5, 4. , 4.5, 5. , 5.5, 6. , 6.5, 7. ,\n",
       "       7.5, 8. , 8.5, 9. , 9.5])"
      ]
     },
     "execution_count": 45,
     "metadata": {},
     "output_type": "execute_result"
    }
   ],
   "source": [
    "# np.arange\n",
    "np.arange(1,10,0.5)"
   ]
  },
  {
   "cell_type": "code",
   "execution_count": 46,
   "id": "daed98c7-f570-4250-9c15-55ef0bd99534",
   "metadata": {},
   "outputs": [
    {
     "data": {
      "text/plain": [
       "array([[ 1,  2],\n",
       "       [ 3,  4],\n",
       "       [ 5,  6],\n",
       "       [ 7,  8],\n",
       "       [ 9, 10]])"
      ]
     },
     "execution_count": 46,
     "metadata": {},
     "output_type": "execute_result"
    }
   ],
   "source": [
    "# With reshape\n",
    "np.arange(1,11).reshape(5,2)"
   ]
  },
  {
   "cell_type": "code",
   "execution_count": 47,
   "id": "57b0afd2-1ece-44d1-90a0-46816bd2e00f",
   "metadata": {},
   "outputs": [
    {
     "data": {
      "text/plain": [
       "array([1., 1., 1., 1.])"
      ]
     },
     "execution_count": 47,
     "metadata": {},
     "output_type": "execute_result"
    }
   ],
   "source": [
    "# np.ones\n",
    "np.ones(4)"
   ]
  },
  {
   "cell_type": "code",
   "execution_count": 48,
   "id": "d02eb2b1-e643-4887-a8dd-dd6e47fab909",
   "metadata": {},
   "outputs": [
    {
     "data": {
      "text/plain": [
       "array([[1., 1., 1., 1.],\n",
       "       [1., 1., 1., 1.],\n",
       "       [1., 1., 1., 1.],\n",
       "       [1., 1., 1., 1.]])"
      ]
     },
     "execution_count": 48,
     "metadata": {},
     "output_type": "execute_result"
    }
   ],
   "source": [
    "np.ones((4,4))"
   ]
  },
  {
   "cell_type": "code",
   "execution_count": 50,
   "id": "d9ac5289-8759-494e-adca-98ad4e729992",
   "metadata": {},
   "outputs": [
    {
     "data": {
      "text/plain": [
       "array([0., 0., 0., 0., 0.])"
      ]
     },
     "execution_count": 50,
     "metadata": {},
     "output_type": "execute_result"
    }
   ],
   "source": [
    "# np.zeors\n",
    "np.zeros(5)"
   ]
  },
  {
   "cell_type": "code",
   "execution_count": 15,
   "id": "68437510-35bd-4e16-ab0a-a465ba212272",
   "metadata": {},
   "outputs": [
    {
     "data": {
      "text/plain": [
       "array([[0., 0., 0., 0., 0.],\n",
       "       [0., 0., 0., 0., 0.],\n",
       "       [0., 0., 0., 0., 0.],\n",
       "       [0., 0., 0., 0., 0.],\n",
       "       [0., 0., 0., 0., 0.]])"
      ]
     },
     "execution_count": 15,
     "metadata": {},
     "output_type": "execute_result"
    }
   ],
   "source": [
    "np.zeros((5,5))"
   ]
  },
  {
   "cell_type": "code",
   "execution_count": 51,
   "id": "40aff94d-b444-4703-8f6c-b4377b82e834",
   "metadata": {},
   "outputs": [
    {
     "data": {
      "text/plain": [
       "array([[8, 4, 6, 2, 3],\n",
       "       [3, 7, 3, 2, 1],\n",
       "       [4, 5, 5, 6, 9],\n",
       "       [3, 6, 6, 9, 4],\n",
       "       [5, 1, 9, 1, 3]])"
      ]
     },
     "execution_count": 51,
     "metadata": {},
     "output_type": "execute_result"
    }
   ],
   "source": [
    "# np.random\n",
    "np.random.randint(1,10,(5,5))"
   ]
  },
  {
   "cell_type": "code",
   "execution_count": 52,
   "id": "ec918d90-c88e-4a80-9d8d-3cf5e0af7a75",
   "metadata": {},
   "outputs": [
    {
     "data": {
      "text/plain": [
       "array([0.96773847, 0.96437415, 0.19543344, 0.77998726, 0.50117571,\n",
       "       0.87699628, 0.81707346, 0.79135757, 0.23465935, 0.09032071,\n",
       "       0.80007036, 0.94687567, 0.57235418, 0.0589123 , 0.79012207,\n",
       "       0.74787576, 0.3160241 , 0.27475065, 0.70327288, 0.97766686,\n",
       "       0.88038361, 0.44008703, 0.75238716, 0.44462058, 0.19087757,\n",
       "       0.9952446 , 0.89473226, 0.32986585, 0.27019475])"
      ]
     },
     "execution_count": 52,
     "metadata": {},
     "output_type": "execute_result"
    }
   ],
   "source": [
    "np.random.rand(29)"
   ]
  },
  {
   "cell_type": "code",
   "execution_count": 53,
   "id": "d7302eea-9057-4e06-b6a3-c767eed0b4e6",
   "metadata": {},
   "outputs": [
    {
     "data": {
      "text/plain": [
       "array([[13,  4, 18, 14,  6],\n",
       "       [ 6, 11,  7, 16, 15],\n",
       "       [ 3, 11, 13, 15,  3],\n",
       "       [16, 15, 12,  1, 16],\n",
       "       [17,  5, 19, 15,  5]])"
      ]
     },
     "execution_count": 53,
     "metadata": {},
     "output_type": "execute_result"
    }
   ],
   "source": [
    "np.random.randint(1,20,(5,5))"
   ]
  },
  {
   "cell_type": "code",
   "execution_count": 54,
   "id": "8fd9d36f-4feb-4621-902b-00e6c000d891",
   "metadata": {},
   "outputs": [
    {
     "data": {
      "text/plain": [
       "array([ 1.        ,  3.11111111,  5.22222222,  7.33333333,  9.44444444,\n",
       "       11.55555556, 13.66666667, 15.77777778, 17.88888889, 20.        ])"
      ]
     },
     "execution_count": 54,
     "metadata": {},
     "output_type": "execute_result"
    }
   ],
   "source": [
    "# np.linspace\n",
    "np.linspace(1,20,10)"
   ]
  },
  {
   "cell_type": "code",
   "execution_count": 55,
   "id": "ab95cb7e-d2b1-46a9-affa-f2ba9631602d",
   "metadata": {},
   "outputs": [
    {
     "data": {
      "text/plain": [
       "array([[1., 0., 0., 0., 0.],\n",
       "       [0., 1., 0., 0., 0.],\n",
       "       [0., 0., 1., 0., 0.],\n",
       "       [0., 0., 0., 1., 0.],\n",
       "       [0., 0., 0., 0., 1.]])"
      ]
     },
     "execution_count": 55,
     "metadata": {},
     "output_type": "execute_result"
    }
   ],
   "source": [
    "# np.identity\n",
    "np.identity(5)"
   ]
  },
  {
   "cell_type": "code",
   "execution_count": 56,
   "id": "c02bacbc-ea19-48c2-b0a9-f6f6bbcf30ce",
   "metadata": {},
   "outputs": [
    {
     "data": {
      "text/plain": [
       "array([[1., 0., 0., 0., 0.],\n",
       "       [0., 1., 0., 0., 0.],\n",
       "       [0., 0., 1., 0., 0.],\n",
       "       [0., 0., 0., 1., 0.],\n",
       "       [0., 0., 0., 0., 1.]])"
      ]
     },
     "execution_count": 56,
     "metadata": {},
     "output_type": "execute_result"
    }
   ],
   "source": [
    "# np.eye\n",
    "np.eye(5)"
   ]
  },
  {
   "cell_type": "code",
   "execution_count": 57,
   "id": "b44156d2-4a04-4a48-a10f-dd44e8f7e35f",
   "metadata": {},
   "outputs": [
    {
     "data": {
      "text/plain": [
       "array([[0., 0., 0., 0., 0.],\n",
       "       [0., 0., 0., 0., 0.],\n",
       "       [0., 0., 0., 0., 0.],\n",
       "       [0., 0., 0., 0., 0.],\n",
       "       [0., 0., 0., 0., 0.]])"
      ]
     },
     "execution_count": 57,
     "metadata": {},
     "output_type": "execute_result"
    }
   ],
   "source": [
    "# np.empty\n",
    "np.empty((5,5))"
   ]
  },
  {
   "cell_type": "markdown",
   "id": "69242737-aae7-43a9-b81b-2ca382e176dc",
   "metadata": {},
   "source": [
    "# Array attributes"
   ]
  },
  {
   "cell_type": "code",
   "execution_count": 34,
   "id": "0823191e-f741-451b-a51a-9918435642e1",
   "metadata": {},
   "outputs": [],
   "source": [
    "a1 = np.arange(10)\n",
    "a2 = np.arange(12,dtype = float).reshape(3,4)\n",
    "a3 = np.arange(8).reshape(2,2,2)"
   ]
  },
  {
   "cell_type": "markdown",
   "id": "436f5a46-635e-4870-a74a-b90886fac652",
   "metadata": {},
   "source": [
    "# Ndim   Number of dimesions"
   ]
  },
  {
   "cell_type": "code",
   "execution_count": 36,
   "id": "7554a7b0-d76e-4c66-aa42-12da1dec5982",
   "metadata": {},
   "outputs": [
    {
     "data": {
      "text/plain": [
       "1"
      ]
     },
     "execution_count": 36,
     "metadata": {},
     "output_type": "execute_result"
    }
   ],
   "source": [
    "a1.ndim"
   ]
  },
  {
   "cell_type": "code",
   "execution_count": 37,
   "id": "e626c6a3-82c2-4706-8b95-212b7da01cb5",
   "metadata": {},
   "outputs": [
    {
     "name": "stdout",
     "output_type": "stream",
     "text": [
      "2\n",
      "3\n"
     ]
    }
   ],
   "source": [
    "print(a2.ndim)\n",
    "print(a3.ndim)"
   ]
  },
  {
   "cell_type": "markdown",
   "id": "74536e15-9712-451f-a45c-723fd3322feb",
   "metadata": {},
   "source": [
    "# shape tells us about the shape"
   ]
  },
  {
   "cell_type": "code",
   "execution_count": 38,
   "id": "8ebe2fc6-ecdf-4e27-a151-65b10feb29e3",
   "metadata": {},
   "outputs": [
    {
     "name": "stdout",
     "output_type": "stream",
     "text": [
      "(10,)\n",
      "(3, 4)\n",
      "(2, 2, 2)\n"
     ]
    }
   ],
   "source": [
    "print(a1.shape)\n",
    "print(a2.shape)\n",
    "print(a3.shape)"
   ]
  },
  {
   "cell_type": "markdown",
   "id": "82b1bc3f-a759-4daa-9533-f262b7d5b85d",
   "metadata": {},
   "source": [
    "# size tells us about number of items"
   ]
  },
  {
   "cell_type": "code",
   "execution_count": 39,
   "id": "067f794d-3378-436c-8101-25e2854a4afe",
   "metadata": {},
   "outputs": [
    {
     "name": "stdout",
     "output_type": "stream",
     "text": [
      "10\n",
      "12\n",
      "8\n"
     ]
    }
   ],
   "source": [
    "print(a1.size)\n",
    "print(a2.size)\n",
    "print(a3.size)"
   ]
  },
  {
   "cell_type": "markdown",
   "id": "dfc897df-7ab5-4522-becf-f29dc7d8ccaf",
   "metadata": {},
   "source": [
    "# itemsize size occupied by each item"
   ]
  },
  {
   "cell_type": "code",
   "execution_count": 40,
   "id": "5f83793b-7155-4a38-8bba-18e2a3924149",
   "metadata": {},
   "outputs": [
    {
     "name": "stdout",
     "output_type": "stream",
     "text": [
      "4\n",
      "8\n",
      "4\n"
     ]
    }
   ],
   "source": [
    "print(a1.itemsize)\n",
    "print(a2.itemsize)\n",
    "print(a3.itemsize)"
   ]
  },
  {
   "cell_type": "markdown",
   "id": "0185fc45-693a-47dd-a75c-952bd1b50ae4",
   "metadata": {},
   "source": [
    "# dtype data type of each array"
   ]
  },
  {
   "cell_type": "code",
   "execution_count": 42,
   "id": "054717ee-1e52-4a42-ac6d-e2869563a5a9",
   "metadata": {},
   "outputs": [
    {
     "name": "stdout",
     "output_type": "stream",
     "text": [
      "int32\n",
      "float64\n",
      "int32\n"
     ]
    }
   ],
   "source": [
    "print(a1.dtype)\n",
    "print(a2.dtype)\n",
    "print(a3.dtype)"
   ]
  },
  {
   "cell_type": "markdown",
   "id": "76d9dc74-b400-458d-b639-ead4d8e7fc9e",
   "metadata": {},
   "source": [
    "# changing datatype"
   ]
  },
  {
   "cell_type": "code",
   "execution_count": 62,
   "id": "3087207c-26ee-49d0-a6b0-71c815b196c5",
   "metadata": {},
   "outputs": [
    {
     "data": {
      "text/plain": [
       "array([[ 0,  1,  2,  3],\n",
       "       [ 4,  5,  6,  7],\n",
       "       [ 8,  9, 10, 11]], dtype=int8)"
      ]
     },
     "execution_count": 62,
     "metadata": {},
     "output_type": "execute_result"
    }
   ],
   "source": [
    "# astype\n",
    "\n",
    "a2.astype(np.int8)"
   ]
  },
  {
   "cell_type": "markdown",
   "id": "392e3567-dd59-449a-bcbe-32395ba88330",
   "metadata": {},
   "source": [
    "# Array operations"
   ]
  },
  {
   "cell_type": "code",
   "execution_count": 66,
   "id": "84200366-eeb2-446c-b822-7dd348511133",
   "metadata": {},
   "outputs": [],
   "source": [
    "a4 = np.arange(12).reshape(3,4)\n",
    "a5= np.arange(12,24).reshape(3,4)"
   ]
  },
  {
   "cell_type": "code",
   "execution_count": 67,
   "id": "19862e77-4308-4d9e-bbf5-67f871ab0379",
   "metadata": {},
   "outputs": [
    {
     "data": {
      "text/plain": [
       "array([[ 1,  2,  3,  4],\n",
       "       [ 5,  6,  7,  8],\n",
       "       [ 9, 10, 11, 12]])"
      ]
     },
     "execution_count": 67,
     "metadata": {},
     "output_type": "execute_result"
    }
   ],
   "source": [
    "# scaler operations\n",
    "# arithmetic\n",
    "a4 + 1"
   ]
  },
  {
   "cell_type": "code",
   "execution_count": 68,
   "id": "65b3353f-05c1-4649-abe5-5fb22e5f37f6",
   "metadata": {},
   "outputs": [
    {
     "data": {
      "text/plain": [
       "array([[24, 26, 28, 30],\n",
       "       [32, 34, 36, 38],\n",
       "       [40, 42, 44, 46]])"
      ]
     },
     "execution_count": 68,
     "metadata": {},
     "output_type": "execute_result"
    }
   ],
   "source": [
    "a5 *2"
   ]
  },
  {
   "cell_type": "code",
   "execution_count": 73,
   "id": "539847c4-4e8a-4636-9e00-7758ebb09c5b",
   "metadata": {},
   "outputs": [
    {
     "data": {
      "text/plain": [
       "array([[False, False, False, False],\n",
       "       [False, False, False, False],\n",
       "       [False, False, False, False]])"
      ]
     },
     "execution_count": 73,
     "metadata": {},
     "output_type": "execute_result"
    }
   ],
   "source": [
    "# relational\n",
    "a4 >a5"
   ]
  },
  {
   "cell_type": "code",
   "execution_count": 74,
   "id": "f099c3cd-6f81-4895-8e1c-e82565f7d286",
   "metadata": {},
   "outputs": [
    {
     "data": {
      "text/plain": [
       "array([[ True,  True,  True,  True],\n",
       "       [ True,  True,  True,  True],\n",
       "       [ True,  True,  True,  True]])"
      ]
     },
     "execution_count": 74,
     "metadata": {},
     "output_type": "execute_result"
    }
   ],
   "source": [
    "a4 < a5"
   ]
  },
  {
   "cell_type": "code",
   "execution_count": 75,
   "id": "4e7bbad2-5576-43f1-a90d-ee8e71d8647e",
   "metadata": {},
   "outputs": [
    {
     "data": {
      "text/plain": [
       "array([[12, 14, 16, 18],\n",
       "       [20, 22, 24, 26],\n",
       "       [28, 30, 32, 34]])"
      ]
     },
     "execution_count": 75,
     "metadata": {},
     "output_type": "execute_result"
    }
   ],
   "source": [
    "# vector operaitons\n",
    "a4 + a5"
   ]
  },
  {
   "cell_type": "code",
   "execution_count": 76,
   "id": "abd92e2e-7b29-4bd0-bdf3-c8454990d47d",
   "metadata": {},
   "outputs": [
    {
     "data": {
      "text/plain": [
       "array([[  0,  13,  28,  45],\n",
       "       [ 64,  85, 108, 133],\n",
       "       [160, 189, 220, 253]])"
      ]
     },
     "execution_count": 76,
     "metadata": {},
     "output_type": "execute_result"
    }
   ],
   "source": [
    "a4 * a5"
   ]
  },
  {
   "cell_type": "markdown",
   "id": "5412f763-3c6c-4816-98e1-6658ecca3ff0",
   "metadata": {},
   "source": [
    "# Array functions"
   ]
  },
  {
   "cell_type": "code",
   "execution_count": 77,
   "id": "9594f692-d9a1-47e4-ba37-efc51dc8d768",
   "metadata": {},
   "outputs": [
    {
     "data": {
      "text/plain": [
       "array([[0.27506174, 0.64966498, 0.02797562],\n",
       "       [0.10400207, 0.22585864, 0.37522796],\n",
       "       [0.57723587, 0.08414077, 0.16511072]])"
      ]
     },
     "execution_count": 77,
     "metadata": {},
     "output_type": "execute_result"
    }
   ],
   "source": [
    "a1 = np.random.random((3,3))\n",
    "a2 = np.round(a1 * 100)\n",
    "a1"
   ]
  },
  {
   "cell_type": "code",
   "execution_count": 78,
   "id": "062fccff-c7d8-4141-882e-f9a371500b04",
   "metadata": {},
   "outputs": [
    {
     "data": {
      "text/plain": [
       "array([[28., 65.,  3.],\n",
       "       [10., 23., 38.],\n",
       "       [58.,  8., 17.]])"
      ]
     },
     "execution_count": 78,
     "metadata": {},
     "output_type": "execute_result"
    }
   ],
   "source": [
    "a2"
   ]
  },
  {
   "cell_type": "code",
   "execution_count": 83,
   "id": "e8210b92-57b6-49c3-b5ed-099f5f38ce2a",
   "metadata": {},
   "outputs": [
    {
     "name": "stdout",
     "output_type": "stream",
     "text": [
      "0.6496649844316182\n",
      "0.027975620302706394\n",
      "2.4842783681677227\n",
      "3.5335260969907367e-07\n"
     ]
    }
   ],
   "source": [
    "# min/max/sum/prod\n",
    "# column wise\n",
    "print(a1.max())\n",
    "print(np.min(a1))\n",
    "print(np.sum(a1))\n",
    "print(np.prod(a1))"
   ]
  },
  {
   "cell_type": "code",
   "execution_count": 87,
   "id": "7c9d8236-9277-4f98-be65-ff5817821c52",
   "metadata": {},
   "outputs": [
    {
     "name": "stdout",
     "output_type": "stream",
     "text": [
      "[0.64966498 0.37522796 0.57723587]\n",
      "[0.02797562 0.10400207 0.08414077]\n",
      "[0.95270234 0.70508867 0.82648736]\n"
     ]
    }
   ],
   "source": [
    "# row wise\n",
    "print(np.max(a1,axis = 1))\n",
    "print(np.min(a1,axis = 1))\n",
    "print(np.sum(a1,axis = 1))"
   ]
  },
  {
   "cell_type": "code",
   "execution_count": 88,
   "id": "228da962-5df6-43f2-931f-4b0d3257dde0",
   "metadata": {},
   "outputs": [
    {
     "name": "stdout",
     "output_type": "stream",
     "text": [
      "0.27603092979641364\n",
      "0.2258586446991424\n",
      "0.2062726251498313\n",
      "0.04254839588620282\n",
      "\n",
      "\n",
      "[0.31756745 0.23502956 0.27549579]\n",
      "[0.27506174 0.22585864 0.16511072]\n",
      "[0.25557708 0.11091724 0.21590791]\n",
      "[0.06531965 0.01230263 0.04661623]\n"
     ]
    }
   ],
   "source": [
    "# mean/median/std/var\n",
    "\n",
    "print(np.mean(a1))\n",
    "print(np.median(a1))\n",
    "print(np.std(a1))\n",
    "print(np.var(a1))\n",
    "print()\n",
    "print()\n",
    "\n",
    "\n",
    "# row wise\n",
    "print(np.mean(a1,axis = 1))\n",
    "print(np.median(a1,axis = 1))\n",
    "print(np.std(a1,axis = 1))\n",
    "print(np.var(a1,axis = 1))"
   ]
  },
  {
   "cell_type": "code",
   "execution_count": 91,
   "id": "e54ba54c-c41c-484d-8047-840f74b0a713",
   "metadata": {},
   "outputs": [
    {
     "name": "stdout",
     "output_type": "stream",
     "text": [
      "[[0.27160636 0.60491967 0.02797197]\n",
      " [0.10381468 0.22394328 0.36648464]\n",
      " [0.54570975 0.08404152 0.16436154]]\n",
      "[[0.96240843 0.7962865  0.99960871]\n",
      " [0.99459666 0.97460218 0.9304241 ]\n",
      " [0.83797426 0.99646225 0.98640016]]\n"
     ]
    }
   ],
   "source": [
    "# trigonometric functions\n",
    "print(np.sin(a1))\n",
    "print(np.cos(a1))"
   ]
  },
  {
   "cell_type": "code",
   "execution_count": 94,
   "id": "f4de1eb1-8766-4b4c-99cd-b1b4b7307827",
   "metadata": {},
   "outputs": [
    {
     "data": {
      "text/plain": [
       "array([[114, 120, 126],\n",
       "       [378, 400, 422],\n",
       "       [642, 680, 718]])"
      ]
     },
     "execution_count": 94,
     "metadata": {},
     "output_type": "execute_result"
    }
   ],
   "source": [
    "# dot product \n",
    "# this can happen only when row of one array is equal to the column of another array then in that case we can do dot multiplication\n",
    "a2 = np.arange(12).reshape(3,4)\n",
    "a3 = np.arange(12,24).reshape(4,3)\n",
    "\n",
    "np.dot(a2,a3)"
   ]
  },
  {
   "cell_type": "code",
   "execution_count": 96,
   "id": "da8e5211-0e9a-406f-9d42-aad5169ff3bc",
   "metadata": {},
   "outputs": [
    {
     "name": "stdout",
     "output_type": "stream",
     "text": [
      "[[-1.2907597  -0.43129846 -3.57642185]\n",
      " [-2.26334451 -1.48784594 -0.98022155]\n",
      " [-0.54950431 -2.47526403 -1.80113902]]\n",
      "[[1.31661196 1.9148992  1.02837061]\n",
      " [1.10960275 1.25339848 1.45532313]\n",
      " [1.7811084  1.08778201 1.1795237 ]]\n"
     ]
    }
   ],
   "source": [
    "# log and exponents\n",
    "print(np.log(a1))\n",
    "print(np.exp(a1))"
   ]
  },
  {
   "cell_type": "code",
   "execution_count": 101,
   "id": "145232f8-ca00-45dd-b5b7-47dcb743b472",
   "metadata": {},
   "outputs": [
    {
     "name": "stdout",
     "output_type": "stream",
     "text": [
      "[[66. 41. 33.]\n",
      " [56. 82. 64.]]\n",
      "\n",
      "[[93. 31. 46.]\n",
      " [50. 70. 15.]]\n",
      "\n",
      "[[ 29.   3. 100.]\n",
      " [  1.  32.  59.]]\n"
     ]
    }
   ],
   "source": [
    "# round/floor /ceil\n",
    "print(np.round(np.random.random((2,3))*100))\n",
    "print()\n",
    "print(np.floor(np.random.random((2,3))*100))\n",
    "print()\n",
    "print(np.ceil(np.random.random((2,3))*100))"
   ]
  },
  {
   "cell_type": "markdown",
   "id": "45a1d580-15e5-4f52-889c-7a8dbca23a35",
   "metadata": {},
   "source": [
    "# indexing and slicing"
   ]
  },
  {
   "cell_type": "code",
   "execution_count": 102,
   "id": "86225c0e-206a-425b-af8d-44912ba7095d",
   "metadata": {},
   "outputs": [],
   "source": [
    "a1 = np.arange(10)\n",
    "a2 = np.arange(12).reshape(3,4)\n",
    "a3 = np.arange(8).reshape(2,2,2)"
   ]
  },
  {
   "cell_type": "code",
   "execution_count": 103,
   "id": "af1fe460-75b7-4732-9a6d-87274448b87a",
   "metadata": {},
   "outputs": [
    {
     "data": {
      "text/plain": [
       "array([0, 1, 2, 3, 4, 5, 6, 7, 8, 9])"
      ]
     },
     "execution_count": 103,
     "metadata": {},
     "output_type": "execute_result"
    }
   ],
   "source": [
    "a1"
   ]
  },
  {
   "cell_type": "code",
   "execution_count": 104,
   "id": "3146362f-f777-47ad-ad72-fa2ee10198e7",
   "metadata": {},
   "outputs": [
    {
     "data": {
      "text/plain": [
       "9"
      ]
     },
     "execution_count": 104,
     "metadata": {},
     "output_type": "execute_result"
    }
   ],
   "source": [
    "a1[-1]"
   ]
  },
  {
   "cell_type": "code",
   "execution_count": 105,
   "id": "e4e4b9b7-0b13-4a00-8657-ba6bac185b8b",
   "metadata": {},
   "outputs": [
    {
     "data": {
      "text/plain": [
       "array([[ 0,  1,  2,  3],\n",
       "       [ 4,  5,  6,  7],\n",
       "       [ 8,  9, 10, 11]])"
      ]
     },
     "execution_count": 105,
     "metadata": {},
     "output_type": "execute_result"
    }
   ],
   "source": [
    "a2"
   ]
  },
  {
   "cell_type": "code",
   "execution_count": 110,
   "id": "29ddc82d-2dd1-45fa-877f-fa701635754a",
   "metadata": {},
   "outputs": [
    {
     "data": {
      "text/plain": [
       "6"
      ]
     },
     "execution_count": 110,
     "metadata": {},
     "output_type": "execute_result"
    }
   ],
   "source": [
    "a2[1,2]"
   ]
  },
  {
   "cell_type": "code",
   "execution_count": 111,
   "id": "765d5932-cdd4-4838-8575-f60ff0786d05",
   "metadata": {},
   "outputs": [
    {
     "data": {
      "text/plain": [
       "11"
      ]
     },
     "execution_count": 111,
     "metadata": {},
     "output_type": "execute_result"
    }
   ],
   "source": [
    "a2[2,3]"
   ]
  },
  {
   "cell_type": "code",
   "execution_count": 112,
   "id": "2ed90d9d-c299-4273-b491-db1a8126f726",
   "metadata": {},
   "outputs": [
    {
     "data": {
      "text/plain": [
       "4"
      ]
     },
     "execution_count": 112,
     "metadata": {},
     "output_type": "execute_result"
    }
   ],
   "source": [
    "a2[1,0]"
   ]
  },
  {
   "cell_type": "code",
   "execution_count": 113,
   "id": "009b44f8-050f-46a4-8a72-762f486f05ad",
   "metadata": {},
   "outputs": [
    {
     "data": {
      "text/plain": [
       "array([[[0, 1],\n",
       "        [2, 3]],\n",
       "\n",
       "       [[4, 5],\n",
       "        [6, 7]]])"
      ]
     },
     "execution_count": 113,
     "metadata": {},
     "output_type": "execute_result"
    }
   ],
   "source": [
    "a3"
   ]
  },
  {
   "cell_type": "code",
   "execution_count": 114,
   "id": "c8964f64-2e19-4f4f-bd45-5007eb35b0d0",
   "metadata": {},
   "outputs": [
    {
     "data": {
      "text/plain": [
       "5"
      ]
     },
     "execution_count": 114,
     "metadata": {},
     "output_type": "execute_result"
    }
   ],
   "source": [
    "a3[1,0,1]"
   ]
  },
  {
   "cell_type": "code",
   "execution_count": 115,
   "id": "6cf350d7-df27-4961-a689-94f320c724e8",
   "metadata": {},
   "outputs": [
    {
     "data": {
      "text/plain": [
       "6"
      ]
     },
     "execution_count": 115,
     "metadata": {},
     "output_type": "execute_result"
    }
   ],
   "source": [
    "a3[1,1,0]"
   ]
  },
  {
   "cell_type": "code",
   "execution_count": 116,
   "id": "650d4124-e334-44a5-85fe-21f737765fed",
   "metadata": {},
   "outputs": [
    {
     "data": {
      "text/plain": [
       "array([0, 1, 2, 3, 4, 5, 6, 7, 8, 9])"
      ]
     },
     "execution_count": 116,
     "metadata": {},
     "output_type": "execute_result"
    }
   ],
   "source": [
    "a1"
   ]
  },
  {
   "cell_type": "code",
   "execution_count": 118,
   "id": "73190eb3-8b21-49a4-b396-3b1be3e8c836",
   "metadata": {},
   "outputs": [
    {
     "data": {
      "text/plain": [
       "array([2, 3, 4])"
      ]
     },
     "execution_count": 118,
     "metadata": {},
     "output_type": "execute_result"
    }
   ],
   "source": [
    "a1[2:5]"
   ]
  },
  {
   "cell_type": "code",
   "execution_count": 119,
   "id": "4ea091c7-75ad-440c-b1d1-e53354790f87",
   "metadata": {},
   "outputs": [
    {
     "data": {
      "text/plain": [
       "array([[ 0,  1,  2,  3],\n",
       "       [ 4,  5,  6,  7],\n",
       "       [ 8,  9, 10, 11]])"
      ]
     },
     "execution_count": 119,
     "metadata": {},
     "output_type": "execute_result"
    }
   ],
   "source": [
    "a2"
   ]
  },
  {
   "cell_type": "code",
   "execution_count": 120,
   "id": "bfb754e4-b8cd-4ec1-8d91-c44ba7663096",
   "metadata": {},
   "outputs": [
    {
     "data": {
      "text/plain": [
       "array([5, 6])"
      ]
     },
     "execution_count": 120,
     "metadata": {},
     "output_type": "execute_result"
    }
   ],
   "source": [
    "a2[1,1:3]"
   ]
  },
  {
   "cell_type": "code",
   "execution_count": 121,
   "id": "6a65a137-c947-4d31-85c2-265757f75774",
   "metadata": {},
   "outputs": [
    {
     "data": {
      "text/plain": [
       "array([0, 1, 2, 3])"
      ]
     },
     "execution_count": 121,
     "metadata": {},
     "output_type": "execute_result"
    }
   ],
   "source": [
    "a2[0]"
   ]
  },
  {
   "cell_type": "code",
   "execution_count": 122,
   "id": "3280472e-b47a-4113-b683-d6f2fafbc0ab",
   "metadata": {},
   "outputs": [
    {
     "data": {
      "text/plain": [
       "array([ 2,  6, 10])"
      ]
     },
     "execution_count": 122,
     "metadata": {},
     "output_type": "execute_result"
    }
   ],
   "source": [
    "a2[:,2]"
   ]
  },
  {
   "cell_type": "code",
   "execution_count": 126,
   "id": "0ee86b10-e9fa-45f6-89d7-97ead87803c6",
   "metadata": {},
   "outputs": [
    {
     "data": {
      "text/plain": [
       "array([[ 5,  6],\n",
       "       [ 9, 10]])"
      ]
     },
     "execution_count": 126,
     "metadata": {},
     "output_type": "execute_result"
    }
   ],
   "source": [
    "a2[1:,1:3]"
   ]
  },
  {
   "cell_type": "code",
   "execution_count": 129,
   "id": "a9ceca50-e637-4f64-a292-2f7b8ff14689",
   "metadata": {},
   "outputs": [
    {
     "data": {
      "text/plain": [
       "array([[ 0,  3],\n",
       "       [ 8, 11]])"
      ]
     },
     "execution_count": 129,
     "metadata": {},
     "output_type": "execute_result"
    }
   ],
   "source": [
    "a2[0::2,0::3]"
   ]
  },
  {
   "cell_type": "markdown",
   "id": "f9e45372-6fc7-4ff8-8020-cf3a74210aff",
   "metadata": {},
   "source": [
    "# iterating"
   ]
  },
  {
   "cell_type": "code",
   "execution_count": 130,
   "id": "16e5c11f-9d0c-4303-b733-83cb878f3605",
   "metadata": {},
   "outputs": [
    {
     "data": {
      "text/plain": [
       "array([[ 0,  1,  2,  3],\n",
       "       [ 4,  5,  6,  7],\n",
       "       [ 8,  9, 10, 11]])"
      ]
     },
     "execution_count": 130,
     "metadata": {},
     "output_type": "execute_result"
    }
   ],
   "source": [
    "a2"
   ]
  },
  {
   "cell_type": "code",
   "execution_count": 134,
   "id": "e52ee012-d636-4345-8f2b-dd59a254c1e0",
   "metadata": {},
   "outputs": [
    {
     "data": {
      "text/plain": [
       "array([0, 1, 2, 3, 4, 5, 6, 7, 8, 9])"
      ]
     },
     "execution_count": 134,
     "metadata": {},
     "output_type": "execute_result"
    }
   ],
   "source": [
    "a1"
   ]
  },
  {
   "cell_type": "code",
   "execution_count": 135,
   "id": "97dd13d2-85f7-4bb2-8b35-f06f600ce6c9",
   "metadata": {},
   "outputs": [
    {
     "data": {
      "text/plain": [
       "array([[[0, 1],\n",
       "        [2, 3]],\n",
       "\n",
       "       [[4, 5],\n",
       "        [6, 7]]])"
      ]
     },
     "execution_count": 135,
     "metadata": {},
     "output_type": "execute_result"
    }
   ],
   "source": [
    "a3"
   ]
  },
  {
   "cell_type": "code",
   "execution_count": 136,
   "id": "6f8ac301-2d4c-4cb5-9892-778a52128d6d",
   "metadata": {},
   "outputs": [
    {
     "name": "stdout",
     "output_type": "stream",
     "text": [
      "0\n",
      "1\n",
      "2\n",
      "3\n",
      "4\n",
      "5\n",
      "6\n",
      "7\n",
      "8\n",
      "9\n",
      "10\n",
      "11\n"
     ]
    }
   ],
   "source": [
    "for i in np.nditer(a2):\n",
    "    print(i)"
   ]
  },
  {
   "cell_type": "code",
   "execution_count": 137,
   "id": "85b09803-4607-4af9-9aa8-d9f7fbd062d3",
   "metadata": {},
   "outputs": [
    {
     "name": "stdout",
     "output_type": "stream",
     "text": [
      "[0 1 2 3]\n",
      "[4 5 6 7]\n",
      "[ 8  9 10 11]\n"
     ]
    }
   ],
   "source": [
    "for i in a2:\n",
    "    print(i)"
   ]
  },
  {
   "cell_type": "code",
   "execution_count": 138,
   "id": "41e7a684-efbb-43ed-9293-953a295e71a2",
   "metadata": {},
   "outputs": [
    {
     "name": "stdout",
     "output_type": "stream",
     "text": [
      "[0 1 2 3]\n",
      "[4 5 6 7]\n",
      "[ 8  9 10 11]\n"
     ]
    }
   ],
   "source": [
    "for i in range(len(a2)):\n",
    "    print(a2[i])"
   ]
  },
  {
   "cell_type": "markdown",
   "id": "50dd62ef-f2c9-44a0-98d6-3a7bcfedc3fe",
   "metadata": {},
   "source": [
    "# Reshaping, Transpose,Ravel"
   ]
  },
  {
   "cell_type": "code",
   "execution_count": 139,
   "id": "76379080-876b-401d-831e-0af879a25cdd",
   "metadata": {},
   "outputs": [
    {
     "data": {
      "text/plain": [
       "array([[ 0,  1,  2,  3],\n",
       "       [ 4,  5,  6,  7],\n",
       "       [ 8,  9, 10, 11]])"
      ]
     },
     "execution_count": 139,
     "metadata": {},
     "output_type": "execute_result"
    }
   ],
   "source": [
    "a2"
   ]
  },
  {
   "cell_type": "code",
   "execution_count": 140,
   "id": "376675e7-dd07-46f2-996b-968345ab71d3",
   "metadata": {},
   "outputs": [
    {
     "data": {
      "text/plain": [
       "array([[ 0,  4,  8],\n",
       "       [ 1,  5,  9],\n",
       "       [ 2,  6, 10],\n",
       "       [ 3,  7, 11]])"
      ]
     },
     "execution_count": 140,
     "metadata": {},
     "output_type": "execute_result"
    }
   ],
   "source": [
    "np.transpose(a2)"
   ]
  },
  {
   "cell_type": "code",
   "execution_count": 142,
   "id": "25954f5a-ec48-40ed-8c0f-efb5b712080a",
   "metadata": {},
   "outputs": [
    {
     "data": {
      "text/plain": [
       "array([[[0, 4],\n",
       "        [2, 6]],\n",
       "\n",
       "       [[1, 5],\n",
       "        [3, 7]]])"
      ]
     },
     "execution_count": 142,
     "metadata": {},
     "output_type": "execute_result"
    }
   ],
   "source": [
    "np.transpose(a3)"
   ]
  },
  {
   "cell_type": "code",
   "execution_count": 145,
   "id": "9c2f6fea-3c6c-47c3-b60f-cf487b9ce7a6",
   "metadata": {},
   "outputs": [
    {
     "data": {
      "text/plain": [
       "array([ 0,  1,  2,  3,  4,  5,  6,  7,  8,  9, 10, 11])"
      ]
     },
     "execution_count": 145,
     "metadata": {},
     "output_type": "execute_result"
    }
   ],
   "source": [
    "np.ravel(a2)  # representing high dimension data in 1D "
   ]
  },
  {
   "cell_type": "code",
   "execution_count": 146,
   "id": "e446748d-cdc1-4ce1-a616-2f0fc4b930a2",
   "metadata": {},
   "outputs": [
    {
     "data": {
      "text/plain": [
       "array([0, 1, 2, 3, 4, 5, 6, 7])"
      ]
     },
     "execution_count": 146,
     "metadata": {},
     "output_type": "execute_result"
    }
   ],
   "source": [
    "np.ravel(a3)"
   ]
  },
  {
   "cell_type": "markdown",
   "id": "d9cf90b8-9547-4f4b-8414-d2e40dd28dad",
   "metadata": {},
   "source": [
    "# stacking"
   ]
  },
  {
   "cell_type": "code",
   "execution_count": 150,
   "id": "b7056f86-28c7-4a1e-b90f-c79cc2ca52f6",
   "metadata": {},
   "outputs": [
    {
     "data": {
      "text/plain": [
       "array([[ 0,  1,  2,  3, 12, 13, 14, 15],\n",
       "       [ 4,  5,  6,  7, 16, 17, 18, 19],\n",
       "       [ 8,  9, 10, 11, 20, 21, 22, 23]])"
      ]
     },
     "execution_count": 150,
     "metadata": {},
     "output_type": "execute_result"
    }
   ],
   "source": [
    "# horizontal stacking\n",
    "a3 = np.arange(12).reshape(3,4)\n",
    "a4 = np.arange(12,24).reshape(3,4)\n",
    "np.hstack((a3,a4))"
   ]
  },
  {
   "cell_type": "code",
   "execution_count": 151,
   "id": "1f6d38ac-0f78-4644-a2fa-c8d5843b29af",
   "metadata": {},
   "outputs": [
    {
     "data": {
      "text/plain": [
       "array([[ 0,  1,  2,  3],\n",
       "       [ 4,  5,  6,  7],\n",
       "       [ 8,  9, 10, 11],\n",
       "       [12, 13, 14, 15],\n",
       "       [16, 17, 18, 19],\n",
       "       [20, 21, 22, 23]])"
      ]
     },
     "execution_count": 151,
     "metadata": {},
     "output_type": "execute_result"
    }
   ],
   "source": [
    "# vertical stacking\n",
    "np.vstack((a3,a4))"
   ]
  },
  {
   "cell_type": "markdown",
   "id": "5c1a6ef9-fd4b-446b-b873-7ccc5e494eae",
   "metadata": {},
   "source": [
    "# splitting"
   ]
  },
  {
   "cell_type": "code",
   "execution_count": 158,
   "id": "12727233-9b6f-4041-97b3-2fe977c0ef68",
   "metadata": {},
   "outputs": [
    {
     "data": {
      "text/plain": [
       "[array([[0, 1],\n",
       "        [4, 5],\n",
       "        [8, 9]]),\n",
       " array([[ 2,  3],\n",
       "        [ 6,  7],\n",
       "        [10, 11]])]"
      ]
     },
     "execution_count": 158,
     "metadata": {},
     "output_type": "execute_result"
    }
   ],
   "source": [
    "# horizontal split\n",
    "np.hsplit(a3,2)"
   ]
  },
  {
   "cell_type": "code",
   "execution_count": 160,
   "id": "fd457ae6-8555-4925-84bd-277527d811e7",
   "metadata": {},
   "outputs": [
    {
     "data": {
      "text/plain": [
       "[array([[12, 13, 14, 15]]),\n",
       " array([[16, 17, 18, 19]]),\n",
       " array([[20, 21, 22, 23]])]"
      ]
     },
     "execution_count": 160,
     "metadata": {},
     "output_type": "execute_result"
    }
   ],
   "source": [
    "# vertical splitting \n",
    "np.vsplit(a4,3)"
   ]
  }
 ],
 "metadata": {
  "kernelspec": {
   "display_name": "Python 3 (ipykernel)",
   "language": "python",
   "name": "python3"
  },
  "language_info": {
   "codemirror_mode": {
    "name": "ipython",
    "version": 3
   },
   "file_extension": ".py",
   "mimetype": "text/x-python",
   "name": "python",
   "nbconvert_exporter": "python",
   "pygments_lexer": "ipython3",
   "version": "3.12.2"
  },
  "widgets": {
   "application/vnd.jupyter.widget-state+json": {
    "state": {},
    "version_major": 2,
    "version_minor": 0
   }
  }
 },
 "nbformat": 4,
 "nbformat_minor": 5
}
