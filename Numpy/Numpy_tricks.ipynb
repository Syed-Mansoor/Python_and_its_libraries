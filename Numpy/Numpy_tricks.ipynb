{
 "cells": [
  {
   "cell_type": "code",
   "execution_count": 1,
   "id": "0f799af2-c00c-4973-a7b5-e01c00ee80c5",
   "metadata": {},
   "outputs": [],
   "source": [
    "import numpy as np "
   ]
  },
  {
   "cell_type": "code",
   "execution_count": 8,
   "id": "899ed746-670a-4b09-8746-324f95108c77",
   "metadata": {},
   "outputs": [
    {
     "name": "stdout",
     "output_type": "stream",
     "text": [
      "[96 96 61 95 16  6 98 28 74 24 25 45 38 99  9]\n",
      "\n",
      "[ 6  9 16 24 25 28 38 45 61 74 95 96 96 98 99]\n"
     ]
    }
   ],
   "source": [
    " # np.sort\n",
    "# code\n",
    "a = np.random.randint(1,100,15)\n",
    "print(a)\n",
    "print()\n",
    "print(np.sort(a))"
   ]
  },
  {
   "cell_type": "code",
   "execution_count": 9,
   "id": "fd567199-257a-41d8-b4d4-8dd11ccdd9b0",
   "metadata": {},
   "outputs": [
    {
     "name": "stdout",
     "output_type": "stream",
     "text": [
      "[[47 54 46 36]\n",
      " [66 84 30 89]\n",
      " [85 99 76 70]\n",
      " [31 57 92 50]\n",
      " [ 9 78 86 13]\n",
      " [49 44 76 15]]\n",
      "\n",
      "[[36 46 47 54]\n",
      " [30 66 84 89]\n",
      " [70 76 85 99]\n",
      " [31 50 57 92]\n",
      " [ 9 13 78 86]\n",
      " [15 44 49 76]]\n"
     ]
    }
   ],
   "source": [
    "b = np.random.randint(1,100,24).reshape(6,4)\n",
    "print(b)\n",
    "print()\n",
    "print(np.sort(b))"
   ]
  },
  {
   "cell_type": "code",
   "execution_count": 10,
   "id": "89822249-6697-4dc5-a8fc-2a466f044bf9",
   "metadata": {},
   "outputs": [
    {
     "name": "stdout",
     "output_type": "stream",
     "text": [
      "[ 96  96  61  95  16   6  98  28  74  24  25  45  38  99   9 100]\n",
      "[[47. 54. 46. 36.  1.]\n",
      " [66. 84. 30. 89.  1.]\n",
      " [85. 99. 76. 70.  1.]\n",
      " [31. 57. 92. 50.  1.]\n",
      " [ 9. 78. 86. 13.  1.]\n",
      " [49. 44. 76. 15.  1.]]\n"
     ]
    }
   ],
   "source": [
    "# np.append\n",
    "print(np.append(a,100))\n",
    "print(np.append(b,np.ones((b.shape[0],1)),axis = 1))"
   ]
  },
  {
   "cell_type": "code",
   "execution_count": 29,
   "id": "c488e3b9-a751-4000-9413-2c6d09ed48c0",
   "metadata": {},
   "outputs": [
    {
     "name": "stdout",
     "output_type": "stream",
     "text": [
      "[[0 1 2]\n",
      " [3 4 5]]\n",
      "[[ 6  7  8]\n",
      " [ 9 10 11]]\n",
      "\n",
      "[[ 0  1  2  6  7  8]\n",
      " [ 3  4  5  9 10 11]]\n",
      "\n",
      "[[ 0  1  2]\n",
      " [ 3  4  5]\n",
      " [ 6  7  8]\n",
      " [ 9 10 11]]\n"
     ]
    }
   ],
   "source": [
    "# np.concatenate\n",
    "c = np.arange(6).reshape(2,3)\n",
    "d = np.arange(6,12).reshape(2,3)\n",
    "print(c)\n",
    "print(d)\n",
    "\n",
    "print()\n",
    "print(np.concatenate((c,d),axis=1))\n",
    "print()\n",
    "print(np.concatenate((c,d),axis=0))"
   ]
  },
  {
   "cell_type": "code",
   "execution_count": 30,
   "id": "9b053df6-cd71-4818-b3c8-33809a269e9d",
   "metadata": {},
   "outputs": [
    {
     "name": "stdout",
     "output_type": "stream",
     "text": [
      "[ 1  1  2  3  4  3  2  1 23  4 54  6  7 88]\n",
      "[[1 2 3 1]\n",
      " [1 2 3 2]]\n",
      "\n",
      "[ 1  2  3  4  6  7 23 54 88]\n",
      "[1 2 3]\n"
     ]
    }
   ],
   "source": [
    "# np.unique\n",
    "# with the help of np.unique()method,we can get the unique values from an array gives as parameter in np.unique() method.\n",
    "# code\n",
    "e = np.array([1,1,2,3,4,3,2,1,23,4,54,6,7,88])\n",
    "f = np.array([[1,2,3,1],[1,2,3,2]])\n",
    "print(e)\n",
    "print(f)\n",
    "print()\n",
    "\n",
    "print(np.unique(e))\n",
    "print(np.unique(f))"
   ]
  },
  {
   "cell_type": "code",
   "execution_count": 31,
   "id": "248e1d3c-72d4-4978-aa50-e53926874693",
   "metadata": {},
   "outputs": [
    {
     "data": {
      "text/plain": [
       "array([110, 530,  61,  95,  16,   6,  98,  28,  74,  24,  25,  45,  38,\n",
       "        99,   9])"
      ]
     },
     "execution_count": 31,
     "metadata": {},
     "output_type": "execute_result"
    }
   ],
   "source": [
    "# np.expand_dims\n",
    "# with help of numpy . expand_dims() method we ca nget the expanded dimensions of an array\n",
    "a"
   ]
  },
  {
   "cell_type": "code",
   "execution_count": 32,
   "id": "3a833c65-b1aa-4e5b-87ba-878f7ee215da",
   "metadata": {},
   "outputs": [
    {
     "name": "stdout",
     "output_type": "stream",
     "text": [
      "[[110 530  61  95  16   6  98  28  74  24  25  45  38  99   9]]\n",
      "[[110]\n",
      " [530]\n",
      " [ 61]\n",
      " [ 95]\n",
      " [ 16]\n",
      " [  6]\n",
      " [ 98]\n",
      " [ 28]\n",
      " [ 74]\n",
      " [ 24]\n",
      " [ 25]\n",
      " [ 45]\n",
      " [ 38]\n",
      " [ 99]\n",
      " [  9]]\n"
     ]
    }
   ],
   "source": [
    "print(np.expand_dims(a,axis = 0))\n",
    "print(np.expand_dims(a,axis = 1))"
   ]
  },
  {
   "cell_type": "code",
   "execution_count": 33,
   "id": "603591ac-ac9e-4c91-85f4-35b802e6e306",
   "metadata": {},
   "outputs": [
    {
     "name": "stdout",
     "output_type": "stream",
     "text": [
      "[110 530  61  95  16   6  98  28  74  24  25  45  38  99   9]\n",
      "(array([ 0,  1,  2,  3,  6,  8, 13], dtype=int64),)\n",
      "(array([ 4,  5,  7,  9, 10, 11, 12, 14], dtype=int64),)\n",
      "(array([], dtype=int64),)\n",
      "[ 0  0  0  0 16  6  0 28  0 24 25 45 38  0  9]\n",
      "\n",
      "[ 0  0 61 95  0  0  0  0  0  0 25 45  0 99  9]\n"
     ]
    }
   ],
   "source": [
    "# NP.WHERE\n",
    "# THE NUMPY .WHERE() FUNCTION RETURNS THE INDICES OF ELEMENTS IN AN INPUT ARRAY WHERE THE GIVEN CONDITION IS SATISFIED\n",
    "print(a)\n",
    "print(np.where(a > 50))\n",
    "print(np.where(a<50))\n",
    "print(np.where(a == 0))\n",
    "# Another way\n",
    "# replace all values > 50 with 0\n",
    "# print(np.where(condition,True,False))\n",
    "print(np.where(a > 50 , 0,a))\n",
    "print()\n",
    "print(np.where(a % 2 == 0 ,0,a))"
   ]
  },
  {
   "cell_type": "code",
   "execution_count": 34,
   "id": "c6144e96-5463-430a-b07b-50a29d4deb94",
   "metadata": {},
   "outputs": [
    {
     "name": "stdout",
     "output_type": "stream",
     "text": [
      "1\n",
      "[110 530  61  95  16   6  98  28  74  24  25  45  38  99   9]\n",
      "[2 2 3 1]\n",
      "\n",
      "[[47 54 46 36]\n",
      " [66 84 30 89]\n",
      " [85 99 76 70]\n",
      " [31 57 92 50]\n",
      " [ 9 78 86 13]\n",
      " [49 44 76 15]]\n",
      "\n",
      "[1 3 1 2 2 2]\n"
     ]
    }
   ],
   "source": [
    "# np.argmax\n",
    "# the numpy .argmanx() function returns indices of the max element of the array in a particular axis\n",
    "print(np.argmax(a))\n",
    "print(a)\n",
    "print(np.argmax(b,axis = 0))\n",
    "print()\n",
    "print(b)\n",
    "print()\n",
    "print(np.argmax(b,axis = 1))"
   ]
  },
  {
   "cell_type": "code",
   "execution_count": 35,
   "id": "3a36309b-8de1-47d5-acdb-2ac5fb4d8d1a",
   "metadata": {},
   "outputs": [
    {
     "name": "stdout",
     "output_type": "stream",
     "text": [
      "5\n",
      "\n",
      "[3 2 3 0 0 3]\n",
      "[4 5 1 4]\n"
     ]
    }
   ],
   "source": [
    "# np.argmin\n",
    "print(np.argmin(a))\n",
    "print()\n",
    "print(np.argmin(b,axis = 1))\n",
    "print(np.argmin(b,axis = 0))"
   ]
  },
  {
   "cell_type": "code",
   "execution_count": 18,
   "id": "17e3c135-7747-4699-890c-b28e704d6c4b",
   "metadata": {},
   "outputs": [
    {
     "name": "stdout",
     "output_type": "stream",
     "text": [
      "[ 96 192 253 348 364 370 468 496 570 594 619 664 702 801 810]\n",
      "\n",
      "[[ 47 101 147 183]\n",
      " [ 66 150 180 269]\n",
      " [ 85 184 260 330]\n",
      " [ 31  88 180 230]\n",
      " [  9  87 173 186]\n",
      " [ 49  93 169 184]]\n",
      "\n",
      "[[ 47  54  46  36]\n",
      " [113 138  76 125]\n",
      " [198 237 152 195]\n",
      " [229 294 244 245]\n",
      " [238 372 330 258]\n",
      " [287 416 406 273]]\n"
     ]
    }
   ],
   "source": [
    "# np.cumsum\n",
    "# numpy.cumsum() function is used when we wnat to compute the cumulative sum of arrays over a given axis\n",
    "print(np.cumsum(a))\n",
    "print()\n",
    "print(np.cumsum(b,axis = 1))\n",
    "print()\n",
    "print(np.cumsum(b ,axis = 0))"
   ]
  },
  {
   "cell_type": "code",
   "execution_count": 19,
   "id": "4bc534ea-68d7-4200-abd1-ee85043d75b6",
   "metadata": {},
   "outputs": [
    {
     "name": "stdout",
     "output_type": "stream",
     "text": [
      "[         96        9216      562176    53406720   854507520   832077824\n",
      "   -60751872 -1701052416 -1323827200 -1707081728   272629760  -616562688\n",
      " -1954545664  -226492416 -2038431744]\n",
      "\n",
      "[[      47     2538   116748  4202928]\n",
      " [      66     5544   166320 14802480]\n",
      " [      85     8415   639540 44767800]\n",
      " [      31     1767   162564  8128200]\n",
      " [       9      702    60372   784836]\n",
      " [      49     2156   163856  2457840]]\n",
      "\n",
      "[[         47          54          46          36]\n",
      " [       3102        4536        1380        3204]\n",
      " [     263670      449064      104880      224280]\n",
      " [    8173770    25596648     9648960    11214000]\n",
      " [   73563930  1996538544   829810560   145782000]\n",
      " [ -690334726  1948350016 -1358906880 -2108237296]]\n"
     ]
    }
   ],
   "source": [
    "# np.cumprod\n",
    "print(np.cumprod(a))\n",
    "print()\n",
    "print(np.cumprod(b,axis = 1))\n",
    "print()\n",
    "print(np.cumprod(b,axis = 0))\n"
   ]
  },
  {
   "cell_type": "code",
   "execution_count": 20,
   "id": "be78bd73-84c8-4fd2-a6ae-96bae73f00df",
   "metadata": {},
   "outputs": [
    {
     "name": "stdout",
     "output_type": "stream",
     "text": [
      "99.0\n"
     ]
    }
   ],
   "source": [
    "# np.percentile\n",
    "# numpy.percentile() function used to compute the nth percentile of the given data(array elements) along the specified axis\n",
    "print(np.percentile(a,100))"
   ]
  },
  {
   "cell_type": "code",
   "execution_count": 21,
   "id": "707427bc-de36-4327-a495-ebd6ee8a855d",
   "metadata": {},
   "outputs": [
    {
     "name": "stdout",
     "output_type": "stream",
     "text": [
      "45.0\n",
      "[46.5 75.  80.5 53.5 45.5 46.5]\n",
      "[48.  67.5 76.  43. ]\n"
     ]
    }
   ],
   "source": [
    "print(np.median(a))\n",
    "print(np.median(b,axis = 1))\n",
    "print(np.median(b,axis = 0))"
   ]
  },
  {
   "cell_type": "code",
   "execution_count": 36,
   "id": "ef9385eb-e5ef-4cf4-8e67-356535c0236b",
   "metadata": {},
   "outputs": [
    {
     "name": "stdout",
     "output_type": "stream",
     "text": [
      "(array([1, 3, 1, 1, 0, 1, 1], dtype=int64), array([10, 20, 30, 40, 50, 60, 70, 80]))\n",
      "\n"
     ]
    }
   ],
   "source": [
    "# np.histogram\n",
    "# Numpy has a built in numpy histogram() function which represents the frequancy of data distribution in the graphical form.\n",
    "# cdoe\n",
    "print(np.histogram(a,bins = [10,20,30,40,50,60,70,80]))\n",
    "print()\n"
   ]
  },
  {
   "cell_type": "code",
   "execution_count": 37,
   "id": "805b30c2-2dec-4e52-89e1-fca0ce150f8f",
   "metadata": {},
   "outputs": [
    {
     "name": "stdout",
     "output_type": "stream",
     "text": [
      "[[1.         0.25344572]\n",
      " [0.25344572 1.        ]]\n"
     ]
    }
   ],
   "source": [
    "# np.corecoef\n",
    "# Return pearson product moment correlation coefficients\n",
    "salary = np.array([20000,40000,25000,35000,60000])\n",
    "experience = np.array([1,3,2,4,2])\n",
    "print(np.corrcoef(salary,experience))"
   ]
  },
  {
   "cell_type": "code",
   "execution_count": 38,
   "id": "f2be15f8-4548-41c9-97fc-d0c132c6f7de",
   "metadata": {},
   "outputs": [
    {
     "data": {
      "text/plain": [
       "array([], dtype=int32)"
      ]
     },
     "execution_count": 38,
     "metadata": {},
     "output_type": "execute_result"
    }
   ],
   "source": [
    "# np.sin\n",
    "# with the help of numpy.isin() method,we can see that one array having values are checked in a different numpy array\n",
    "# having differnet elements with different sizes.\n",
    "item = [10,20,30,40,50,60,70,80]\n",
    "a[np.isin(a,item)]"
   ]
  },
  {
   "cell_type": "code",
   "execution_count": 39,
   "id": "e24a10ae-ccd6-4932-8935-11a0545232d3",
   "metadata": {},
   "outputs": [
    {
     "name": "stdout",
     "output_type": "stream",
     "text": [
      "[  9  99  38  45  25  24  74  28  98   6  16  95  61 530 110]\n",
      "\n",
      "[[15 76 44 49]\n",
      " [13 86 78  9]\n",
      " [50 92 57 31]\n",
      " [70 76 99 85]\n",
      " [89 30 84 66]\n",
      " [36 46 54 47]]\n",
      "\n",
      "[[36 46 54 47]\n",
      " [89 30 84 66]\n",
      " [70 76 99 85]\n",
      " [50 92 57 31]\n",
      " [13 86 78  9]\n",
      " [15 76 44 49]]\n",
      "\n",
      "[[49 44 76 15]\n",
      " [ 9 78 86 13]\n",
      " [31 57 92 50]\n",
      " [85 99 76 70]\n",
      " [66 84 30 89]\n",
      " [47 54 46 36]]\n"
     ]
    }
   ],
   "source": [
    "# np.flip\n",
    "# the numpy.flip() function reverses the order of array elements along the specified axis ,preserving the shape of array\n",
    "print(np.flip(a))\n",
    "print()\n",
    "print(np.flip(b))\n",
    "print()\n",
    "print(np.flip(b,axis = 1))\n",
    "print()\n",
    "print(np.flip(b,axis = 0))"
   ]
  },
  {
   "cell_type": "code",
   "execution_count": 40,
   "id": "1ca9162e-8e0e-43a1-8664-c6a89843dd10",
   "metadata": {},
   "outputs": [
    {
     "name": "stdout",
     "output_type": "stream",
     "text": [
      "[110 530  61  95  16   6  98  28  74  24  25  45  38  99   9]\n",
      "[110 530  61  95  16   6  98  28  74  24  25  45  38  99   9]\n"
     ]
    }
   ],
   "source": [
    "# np.put\n",
    "# the numpy.put function replaces specific elements of an array with given vlaues of p_array . array indexed works on flattened array.\n",
    "print(a)\n",
    "np.put(a,[0,1],[110,530])\n",
    "print(a)"
   ]
  },
  {
   "cell_type": "code",
   "execution_count": 41,
   "id": "64625499-c0e7-4351-9812-9e2c36ec7ca7",
   "metadata": {},
   "outputs": [
    {
     "name": "stdout",
     "output_type": "stream",
     "text": [
      "[110 530  61  95  16   6  98  28  74  24  25  45  38  99   9]\n",
      "[530  61  95  16   6  98  28  74  24  25  45  38  99   9]\n",
      "[110  95   6  98  28  74  24  25  45  38  99   9]\n"
     ]
    }
   ],
   "source": [
    "# np.delete\n",
    "#the numpy.delete()funciton returns a new array with the deletion of sub_arrays along with the mentioned axis.\n",
    "print(a)\n",
    "print(np.delete(a,0))\n",
    "print(np.delete(a,[1,2,4]))"
   ]
  },
  {
   "cell_type": "markdown",
   "id": "b62229fe-8a2c-4240-aaec-ec9e2dc53b05",
   "metadata": {},
   "source": [
    "# set functions\n",
    ". np.union1d\n",
    "\n",
    ".np.intersect1d\n",
    "\n",
    ".np.setdeff1d\n",
    "\n",
    "\n",
    ".np.setxor1d\n",
    "\n",
    "\n",
    "..np.in1d"
   ]
  },
  {
   "cell_type": "code",
   "execution_count": 47,
   "id": "a4382232-9a7c-4f9e-8340-01efdc51f1f3",
   "metadata": {},
   "outputs": [
    {
     "data": {
      "text/plain": [
       "array([1, 2, 3, 4, 5, 6, 7, 8, 9])"
      ]
     },
     "execution_count": 47,
     "metadata": {},
     "output_type": "execute_result"
    }
   ],
   "source": [
    "m = np.array([1,2,3,4,5])\n",
    "n = np.array([5,6,7,8,9,2])\n",
    "np.union1d(m,n)"
   ]
  },
  {
   "cell_type": "code",
   "execution_count": 48,
   "id": "8a2c999f-3783-4742-859a-9021be21b18b",
   "metadata": {},
   "outputs": [
    {
     "data": {
      "text/plain": [
       "array([2, 5])"
      ]
     },
     "execution_count": 48,
     "metadata": {},
     "output_type": "execute_result"
    }
   ],
   "source": [
    "np.intersect1d(m,n)"
   ]
  },
  {
   "cell_type": "code",
   "execution_count": 49,
   "id": "b1783322-36be-4250-a041-b610a9a3e598",
   "metadata": {},
   "outputs": [
    {
     "data": {
      "text/plain": [
       "array([1, 3, 4])"
      ]
     },
     "execution_count": 49,
     "metadata": {},
     "output_type": "execute_result"
    }
   ],
   "source": [
    "np.setdiff1d(m,n)"
   ]
  },
  {
   "cell_type": "code",
   "execution_count": 50,
   "id": "4379d511-b5f0-43af-b0b5-c2e523529926",
   "metadata": {},
   "outputs": [
    {
     "data": {
      "text/plain": [
       "array([1, 3, 4, 6, 7, 8, 9])"
      ]
     },
     "execution_count": 50,
     "metadata": {},
     "output_type": "execute_result"
    }
   ],
   "source": [
    "np.setxor1d(m,n)"
   ]
  },
  {
   "cell_type": "code",
   "execution_count": 54,
   "id": "c0f0a4d9-7aab-436b-85b5-af8e3c701e1e",
   "metadata": {},
   "outputs": [
    {
     "data": {
      "text/plain": [
       "array([1])"
      ]
     },
     "execution_count": 54,
     "metadata": {},
     "output_type": "execute_result"
    }
   ],
   "source": [
    "m[np.in1d(m,1)]"
   ]
  },
  {
   "cell_type": "code",
   "execution_count": 56,
   "id": "feba2bbd-f466-480a-b669-47ca948eb5ef",
   "metadata": {},
   "outputs": [
    {
     "data": {
      "text/plain": [
       "array([75, 75, 61, 75, 25, 25, 75, 28, 74, 25, 25, 45, 38, 75, 25])"
      ]
     },
     "execution_count": 56,
     "metadata": {},
     "output_type": "execute_result"
    }
   ],
   "source": [
    "np.clip(a,25,75)"
   ]
  }
 ],
 "metadata": {
  "kernelspec": {
   "display_name": "Python 3 (ipykernel)",
   "language": "python",
   "name": "python3"
  },
  "language_info": {
   "codemirror_mode": {
    "name": "ipython",
    "version": 3
   },
   "file_extension": ".py",
   "mimetype": "text/x-python",
   "name": "python",
   "nbconvert_exporter": "python",
   "pygments_lexer": "ipython3",
   "version": "3.12.2"
  },
  "widgets": {
   "application/vnd.jupyter.widget-state+json": {
    "state": {},
    "version_major": 2,
    "version_minor": 0
   }
  }
 },
 "nbformat": 4,
 "nbformat_minor": 5
}
