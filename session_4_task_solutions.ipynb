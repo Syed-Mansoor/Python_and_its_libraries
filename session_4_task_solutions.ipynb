{
 "cells": [
  {
   "cell_type": "markdown",
   "metadata": {
    "id": "kLZ_vCeE0lsM"
   },
   "source": [
    "###`Problem 1:` Combine two lists index-wise(columns wise)\n",
    "\n",
    "Write a program to add two lists index-wise. Create a new list that contains the 0th index item from both the list, then the 1st index item, and so on till the last element. any leftover items will get added at the end of the new list.\n",
    "\n",
    "`Given List:`\n",
    "```\n",
    "list1 = [\"M\", \"na\", \"i\", \"Kh\"]\n",
    "list2 = [\"y\", \"me\", \"s\", \"an\"]\n",
    "```\n",
    "\n",
    "`Output:`\n",
    "```\n",
    "[['M','y'], ['na', me'], ['i', 's'], ['Kh', 'an']]\n",
    "```"
   ]
  },
  {
   "cell_type": "code",
   "execution_count": 2,
   "metadata": {
    "colab": {
     "base_uri": "https://localhost:8080/"
    },
    "id": "cDO3Yv6p0nnG",
    "outputId": "e8d817ee-412c-48fa-d82b-b343a8662ae8"
   },
   "outputs": [
    {
     "data": {
      "text/plain": [
       "[['M', 'y'], ['na', 'me'], ['i', 's'], ['Kh', 'an']]"
      ]
     },
     "execution_count": 2,
     "metadata": {},
     "output_type": "execute_result"
    }
   ],
   "source": [
    "# Write code here\n",
    "list1 = [\"M\", \"na\", \"i\", \"Kh\"]\n",
    "list2 = [\"y\", \"me\", \"s\", \"an\"]\n",
    "\n",
    "[[i,j] for (i,j) in zip(list1,list2)]"
   ]
  },
  {
   "cell_type": "markdown",
   "metadata": {
    "id": "bnRwRgf_0qLu"
   },
   "source": [
    "### `Problem 2:` Add new item to list after a specified item\n",
    "Write a program to add item 7000 after 6000 in the following Python List\n",
    "```\n",
    "list1 = [10, 20, [300, 400, [5000, 6000], 500], 30, 40]\n",
    "```\n",
    "`Output:`\n",
    "```\n",
    "[10, 20, [300, 400, [5000, 6000, 7000], 500], 30, 40]\n",
    "```"
   ]
  },
  {
   "cell_type": "code",
   "execution_count": null,
   "metadata": {
    "colab": {
     "base_uri": "https://localhost:8080/"
    },
    "id": "yW5lLPns00q9",
    "outputId": "d5b8e384-e36c-4463-abc6-1c5bf517e484"
   },
   "outputs": [
    {
     "data": {
      "text/plain": [
       "[10, 20, [300, 400, [5000, 6000, 7000], 500], 30, 40]"
      ]
     },
     "execution_count": 8,
     "metadata": {},
     "output_type": "execute_result"
    }
   ],
   "source": [
    "# Write code here\n",
    "list1 = [10, 20, [300, 400, [5000, 6000], 500], 30, 40]\n",
    "list1[2][2].append(7000)\n",
    "list1"
   ]
  },
  {
   "cell_type": "markdown",
   "metadata": {
    "id": "w7fC8oHk02fH"
   },
   "source": [
    "###`Problem 3:` Update no of items available\n",
    "\n",
    "Suppose you are given a list of candy and another list of same size representing no of items of respective candy.\n",
    "\n",
    "i.e -  \n",
    "```\n",
    "candy_list = ['Jelly Belly','Kit Kat','Double Bubble','Milky Way','Three Musketeers']\n",
    "no_of_items = [10,20,34,74,32]\n",
    "```\n",
    "\n",
    "Write a program to show no. of items of each candy type.\n",
    "\n",
    "`Output:`\n",
    "\n",
    "```\n",
    "Jelly Belly-10\n",
    "Kit Kat-20\n",
    "Double Bubble-34\n",
    "Milky Way-74\n",
    "Three Musketeers-32\n",
    "\n",
    "```"
   ]
  },
  {
   "cell_type": "code",
   "execution_count": null,
   "metadata": {
    "colab": {
     "base_uri": "https://localhost:8080/"
    },
    "id": "gg5JEX1a09q8",
    "outputId": "cf5a92a3-d732-455b-a556-7f492810f228"
   },
   "outputs": [
    {
     "name": "stdout",
     "output_type": "stream",
     "text": [
      "Jelly Belly - 10\n",
      "Kit Kat - 20\n",
      "Double Bubble - 34\n",
      "Milky Way - 74\n",
      "Three Musketeers - 32\n"
     ]
    }
   ],
   "source": [
    "# Write code here\n",
    "\n",
    "candy_list = ['Jelly Belly','Kit Kat','Double Bubble','Milky Way','Three Musketeers']\n",
    "no_of_items = [10,20,34,74,32]\n",
    "\n",
    "for (i,j) in zip(candy_list,no_of_items):\n",
    "  print(i,'-',j)"
   ]
  },
  {
   "cell_type": "markdown",
   "metadata": {
    "id": "mFGZAvnB1D3N"
   },
   "source": [
    "###`Problem 4:` Running Sum on list\n",
    "Write a program to print a list after performing running sum on it.\n",
    "\n",
    "i.e:\n",
    "\n",
    "`Input:`\n",
    "```\n",
    "list1 = [1,2,3,4,5,6]\n",
    "```\n",
    "`Output:`\n",
    "```\n",
    "[1,3,6,10,15,21]\n",
    "```"
   ]
  },
  {
   "cell_type": "code",
   "execution_count": null,
   "metadata": {
    "colab": {
     "base_uri": "https://localhost:8080/"
    },
    "id": "8LPS6DaD1FTs",
    "outputId": "c42d4b44-07d8-47cd-dd07-f376db1938e8"
   },
   "outputs": [
    {
     "name": "stdout",
     "output_type": "stream",
     "text": [
      "[1, 3, 6, 10, 15, 21]\n"
     ]
    }
   ],
   "source": [
    "# Write code here\n",
    "list1 = [1,2,3,4,5,6]\n",
    "\n",
    "result = []\n",
    "sum = 0\n",
    "\n",
    "for i in list1:\n",
    "  sum = sum + i\n",
    "  result.append(sum)\n",
    "\n",
    "print(result)"
   ]
  },
  {
   "cell_type": "markdown",
   "metadata": {
    "id": "2ztcZ-EW1HEU"
   },
   "source": [
    "###`Problem 5:` You are given a list of integers. You are asked to make a list by running through elements of the list by adding all elements greater and itself.\n",
    "\n",
    "i.e. Say given list is `[2,4,6,10,1]`\n",
    "resultant list will be `[22,20,10,23]`.\n",
    "\n",
    "For 1st element `2` ->> these are greater `(4+6+10)` values and `2` itself so on adding becomes `22`.\n",
    "\n",
    "For 2nd element `4` ->> greater elements are `(6, 10)` and `4` itself, so on adding `20`\n",
    "\n",
    "like wise for all other elememts.\n",
    "\n",
    "`[2,4,6,10,1]`-->`[22,20,16,10,23]`\n",
    "\n",
    "\n"
   ]
  },
  {
   "cell_type": "code",
   "execution_count": null,
   "metadata": {
    "colab": {
     "base_uri": "https://localhost:8080/"
    },
    "id": "UJuWqzj31UD2",
    "outputId": "b6045796-ed4a-41f6-d9b9-23ba537b47bd"
   },
   "outputs": [
    {
     "name": "stdout",
     "output_type": "stream",
     "text": [
      "[22, 20, 16, 10, 23]\n"
     ]
    }
   ],
   "source": [
    "# Write code here\n",
    "L = [2,4,6,10,1]\n",
    "result = []\n",
    "\n",
    "for i in L:\n",
    "  sum = 0\n",
    "  for j in L:\n",
    "    if i <= j:\n",
    "      sum = sum + j\n",
    "\n",
    "  result.append(sum)\n",
    "\n",
    "print(result)\n"
   ]
  },
  {
   "cell_type": "markdown",
   "metadata": {
    "id": "c9H6tYTx1ZYo"
   },
   "source": [
    "###`Problem 6:` Find list of common unique items from two list. and show in increasing order\n",
    "\n",
    "`Input`\n",
    "\n",
    "```\n",
    "num1 = [23,45,67,78,89,34]\n",
    "num2 = [34,89,55,56,39,67]\n",
    "```\n",
    "\n",
    "`Output:`\n",
    "```\n",
    "[34, 67, 89]\n",
    "```\n"
   ]
  },
  {
   "cell_type": "code",
   "execution_count": null,
   "metadata": {
    "colab": {
     "base_uri": "https://localhost:8080/"
    },
    "id": "dDxdi7eE1e1W",
    "outputId": "6a27631c-735c-4dc1-e577-0291adba944b"
   },
   "outputs": [
    {
     "name": "stdout",
     "output_type": "stream",
     "text": [
      "[67, 89, 34]\n"
     ]
    }
   ],
   "source": [
    "# Write code here\n",
    "num1 = [23,45,67,78,89,34,67]\n",
    "num2 = [34,89,55,56,39,67,67]\n",
    "\n",
    "common = []\n",
    "\n",
    "for i in num1:\n",
    "  if i in num2:\n",
    "    if i not in common:\n",
    "      common.append(i)\n",
    "\n",
    "print(common)"
   ]
  },
  {
   "cell_type": "markdown",
   "metadata": {
    "id": "i3Izok2i1gRD"
   },
   "source": [
    "###`Problem 7:` Sort a list of alphanumeric strings based on product value of numeric character in it. If in any string there is no numeric character take it's product value as 1.\n",
    "\n",
    "`Input:`\n",
    "```\n",
    "['1ac21', '23fg', '456', '098d','1','kls']\n",
    "```\n",
    "\n",
    "`Output:`\n",
    "```\n",
    "['456', '23fg', '1ac21', '1', 'kls', '098d']\n",
    "\n",
    "```"
   ]
  },
  {
   "cell_type": "code",
   "execution_count": null,
   "metadata": {
    "colab": {
     "base_uri": "https://localhost:8080/"
    },
    "id": "eiXSanG11oq6",
    "outputId": "c82c6f8b-878d-40ae-ceb9-38a957976ac4"
   },
   "outputs": [
    {
     "data": {
      "text/plain": [
       "['456', '23fg', '1ac21', 'kls', '1', '098d']"
      ]
     },
     "execution_count": 21,
     "metadata": {},
     "output_type": "execute_result"
    }
   ],
   "source": [
    "# Write code here\n",
    "L = ['1ac21', '23fg', '456', '098d','1','kls']\n",
    "prod_value = []\n",
    "for item in L:\n",
    "  product = 1\n",
    "  for char in item:\n",
    "    if char.isdigit():\n",
    "      product = product*int(char)\n",
    "\n",
    "  prod_value.append(prod_value)\n",
    "\n",
    "[i[1] for i in sorted(list(zip(product_list,L)),reverse=True)]"
   ]
  },
  {
   "cell_type": "markdown",
   "metadata": {
    "id": "McMaNSpB1zJB"
   },
   "source": [
    "`Problem 8:` Split String of list on K character.\n",
    "\n",
    "**Example :**\n",
    "\n",
    "Input:\n",
    "```bash\n",
    "['CampusX is a channel', 'for data-science', 'aspirants.']\n",
    "```\n",
    "\n",
    "Output:\n",
    "```bash\n",
    "['CampusX', 'is', 'a', 'channel', 'for', 'data-science', 'aspirants.']\n",
    "```"
   ]
  },
  {
   "cell_type": "code",
   "execution_count": null,
   "metadata": {
    "colab": {
     "base_uri": "https://localhost:8080/"
    },
    "id": "rLg6AUhf14wI",
    "outputId": "678de92c-0595-4ec8-cde2-15d9828c3e37"
   },
   "outputs": [
    {
     "name": "stdout",
     "output_type": "stream",
     "text": [
      "['C', 'mpusX is ', ' ch', 'nnel', 'for d', 't', '-science', '', 'spir', 'nts.']\n"
     ]
    }
   ],
   "source": [
    "# Write code here\n",
    "L = ['CampusX is a channel', 'for data-science', 'aspirants.']\n",
    "inp = 'a'\n",
    "result = []\n",
    "for i in L:\n",
    "  result.extend(i.split(inp))\n",
    "\n",
    "print(result)"
   ]
  },
  {
   "cell_type": "markdown",
   "metadata": {
    "id": "ebqIC0Xa16dG"
   },
   "source": [
    "### `Problem 9:` Convert Character Matrix to single String using string comprehension.\n",
    "\n",
    "**Example 1:**\n",
    "\n",
    "Input:\n",
    "```bash\n",
    "[['c', 'a', 'm', 'p', 'u', 'x'], ['i', 's'], ['b', 'e', 's', 't'], ['c', 'h', 'a', 'n', 'n', 'e', 'l']]\n",
    "```\n",
    "\n",
    "Output:\n",
    "```bash\n",
    "campux is best channel\n",
    "```"
   ]
  },
  {
   "cell_type": "code",
   "execution_count": null,
   "metadata": {
    "colab": {
     "base_uri": "https://localhost:8080/"
    },
    "id": "KLKxzyZf2BLr",
    "outputId": "ee057870-c3a7-49db-d759-912a52b54d69"
   },
   "outputs": [
    {
     "name": "stdout",
     "output_type": "stream",
     "text": [
      "campux is best channel\n"
     ]
    }
   ],
   "source": [
    "# Write code here\n",
    "L = [['c', 'a', 'm', 'p', 'u', 'x'], ['i', 's'], ['b', 'e', 's', 't'], ['c', 'h', 'a', 'n', 'n', 'e', 'l']]\n",
    "\n",
    "print(\" \".join([\"\".join(i) for i in L]))"
   ]
  },
  {
   "cell_type": "markdown",
   "metadata": {
    "id": "0v1Z3Snp2DAm"
   },
   "source": [
    "### `Problem 10:` Add Space between Potential Words.\n",
    "\n",
    "**Example:**\n",
    "\n",
    "Input:\n",
    "\n",
    "```bash\n",
    "['campusxIs', 'bestFor', 'dataScientist']\n",
    "```\n",
    "\n",
    "Output:\n",
    "```bash\n",
    "['campusx Is', 'best For', 'data Scientist']\n",
    "```"
   ]
  },
  {
   "cell_type": "code",
   "execution_count": null,
   "metadata": {
    "colab": {
     "base_uri": "https://localhost:8080/"
    },
    "id": "pltvqSXa2IxP",
    "outputId": "ced353f1-7a07-41e3-d44f-4bc4593216a4"
   },
   "outputs": [
    {
     "name": "stdout",
     "output_type": "stream",
     "text": [
      "[['c', 'a', 'm', 'p', 'u', 's', 'x'], ['I', 's']]\n",
      "[['b', 'e', 's', 't'], ['F', 'o', 'r']]\n",
      "[['d', 'a', 't', 'a'], ['S', 'c', 'i', 'e', 'n', 't', 'i', 's', 't']]\n"
     ]
    }
   ],
   "source": [
    "# Code here\n",
    "# initializing list\n",
    "test_list = [\"campusxIs\", \"bestFor\", \"dataScientist\"]\n",
    "\n",
    "res = []\n",
    "\n",
    "for i in test_list:\n",
    "    temp = [[]]\n",
    "    for char in i:\n",
    "\n",
    "        if char.isupper():\n",
    "            temp.append([])\n",
    "\n",
    "        temp[-1].append(char)\n",
    "\n",
    "    temp_string = \"\"\n",
    "    for item in temp:\n",
    "        temp_string = temp_string + \"\".join(item) + \" \"\n",
    "    res.append(temp_string[0:-1])\n",
    "\n",
    "print(res)"
   ]
  },
  {
   "cell_type": "markdown",
   "metadata": {
    "id": "tnmBk1M52KXW"
   },
   "source": [
    "### `Problem 11:` Write a program that can perform union operation on 2 lists\n",
    "\n",
    "**Example:**\n",
    "\n",
    "Input:\n",
    "\n",
    "```bash\n",
    "[1,2,3,4,5,1]\n",
    "[2,3,5,7,8]\n",
    "```\n",
    "\n",
    "Output:\n",
    "```bash\n",
    "[1,2,3,4,5,7,8]\n",
    "```"
   ]
  },
  {
   "cell_type": "code",
   "execution_count": null,
   "metadata": {
    "colab": {
     "base_uri": "https://localhost:8080/"
    },
    "id": "u0AgIToU2-Ht",
    "outputId": "e585a284-17e6-4344-8435-52759b4f968b"
   },
   "outputs": [
    {
     "name": "stdout",
     "output_type": "stream",
     "text": [
      "[1, 2, 3, 4, 5, 7, 8]\n"
     ]
    }
   ],
   "source": [
    "# Write code here\n",
    "L1 = [1,2,3,4,5,1]\n",
    "L2 = [2,3,5,7,8]\n",
    "\n",
    "union = []\n",
    "\n",
    "for i in L1:\n",
    "  if i not in union:\n",
    "    union.append(i)\n",
    "\n",
    "for j in L2:\n",
    "  if j not in union:\n",
    "    union.append(j)\n",
    "\n",
    "print(union)\n"
   ]
  },
  {
   "cell_type": "markdown",
   "metadata": {
    "id": "Yt8x67Ch3Ow1"
   },
   "source": [
    "### `Problem 12:` Write a program that can find the max number of each row of a matrix\n",
    "\n",
    "**Example:**\n",
    "\n",
    "Input:\n",
    "\n",
    "```bash\n",
    "[[1,2,3],[4,5,6],[7,8,9]]\n",
    "```\n",
    "\n",
    "Output:\n",
    "```bash\n",
    "[3,6,9]\n",
    "```"
   ]
  },
  {
   "cell_type": "code",
   "execution_count": null,
   "metadata": {
    "colab": {
     "base_uri": "https://localhost:8080/"
    },
    "id": "7QopAaAI3noh",
    "outputId": "f2bd2045-8eaa-4047-d426-a94fe1cc53b4"
   },
   "outputs": [
    {
     "name": "stdout",
     "output_type": "stream",
     "text": [
      "[3, 6, 9]\n"
     ]
    }
   ],
   "source": [
    "# Write code here\n",
    "L = [[1,2,3],[4,5,6],[7,8,9]]\n",
    "result = []\n",
    "for i in L:\n",
    "  result.append(max(i))\n",
    "\n",
    "print(result)"
   ]
  },
  {
   "cell_type": "markdown",
   "metadata": {
    "id": "DBZlUmnt3pGT"
   },
   "source": [
    "### `Problem 13:` Write a list comprehension to print the following matrix\n",
    "\n",
    "[[0, 1, 2], [3, 4, 5], [6, 7, 8]]"
   ]
  },
  {
   "cell_type": "code",
   "execution_count": null,
   "metadata": {
    "colab": {
     "base_uri": "https://localhost:8080/"
    },
    "id": "Ip4e8M-S356h",
    "outputId": "67484145-ea2c-4a70-a280-937b776cbf48"
   },
   "outputs": [
    {
     "data": {
      "text/plain": [
       "[[0, 1, 2], [3, 4, 5], [6, 7, 8]]"
      ]
     },
     "execution_count": 42,
     "metadata": {},
     "output_type": "execute_result"
    }
   ],
   "source": [
    "# Write code here\n",
    "[[j + 3*i for j in range(0,3)] for i in range(0,3)]"
   ]
  },
  {
   "cell_type": "markdown",
   "metadata": {
    "id": "j3vTuFC737kG"
   },
   "source": [
    "### `Problem 14:` Write a list comprehension that can transpose a given matrix\n",
    "\n",
    "matrix = [<br>\n",
    "  [1,2,3],<br>\n",
    "          [4,5,6],<br>\n",
    "          [7,8,9]<br>]<br>\n",
    "\n",
    "[1, 4, 7]<br>\n",
    "[2, 5, 8]<br>\n",
    "[3, 6, 9]<br>"
   ]
  },
  {
   "cell_type": "code",
   "execution_count": null,
   "metadata": {
    "colab": {
     "base_uri": "https://localhost:8080/"
    },
    "id": "CcBNu0gk4XsR",
    "outputId": "3751bcb1-9d22-45bb-dd29-271f2a734867"
   },
   "outputs": [
    {
     "data": {
      "text/plain": [
       "[[1, 4, 7], [2, 5, 8], [3, 6, 9]]"
      ]
     },
     "execution_count": 2,
     "metadata": {},
     "output_type": "execute_result"
    }
   ],
   "source": [
    "# Write code here\n",
    "matrix = [\n",
    "[1,2,3],\n",
    "[4,5,6],\n",
    "[7,8,9]\n",
    "]\n",
    "\n",
    "[[row[i] for row in matrix]for i in range(len(matrix))]"
   ]
  },
  {
   "cell_type": "markdown",
   "metadata": {
    "id": "wRkSWFb74eOt"
   },
   "source": [
    "### `Problem 15:` Write a list comprehension that can flatten a nested list\n",
    "\n",
    "Input<br>\n",
    "matrix = [<br>\n",
    "  [1,2,3],<br>\n",
    "          [4,5,6],<br>\n",
    "          [7,8,9]<br>]<br>\n",
    "\n",
    "Output:<br>\n",
    "[1, 2, 3, 4, 5, 6, 7, 8, 9]"
   ]
  }
 ],
 "metadata": {
  "colab": {
   "provenance": []
  },
  "kernelspec": {
   "display_name": "Python 3 (ipykernel)",
   "language": "python",
   "name": "python3"
  },
  "language_info": {
   "codemirror_mode": {
    "name": "ipython",
    "version": 3
   },
   "file_extension": ".py",
   "mimetype": "text/x-python",
   "name": "python",
   "nbconvert_exporter": "python",
   "pygments_lexer": "ipython3",
   "version": "3.12.3"
  },
  "widgets": {
   "application/vnd.jupyter.widget-state+json": {
    "state": {},
    "version_major": 2,
    "version_minor": 0
   }
  }
 },
 "nbformat": 4,
 "nbformat_minor": 4
}
